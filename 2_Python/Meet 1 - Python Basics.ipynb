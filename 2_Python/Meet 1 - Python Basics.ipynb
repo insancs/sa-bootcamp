{
 "cells": [
  {
   "cell_type": "markdown",
   "id": "38886ee5",
   "metadata": {},
   "source": [
    "## Session 9"
   ]
  },
  {
   "cell_type": "markdown",
   "id": "limiting-slovak",
   "metadata": {},
   "source": [
    "### Variable and Data Type"
   ]
  },
  {
   "cell_type": "code",
   "execution_count": 1,
   "id": "bottom-toronto",
   "metadata": {},
   "outputs": [],
   "source": [
    "city = 'Jakarta Timur'"
   ]
  },
  {
   "cell_type": "code",
   "execution_count": 2,
   "id": "unavailable-fossil",
   "metadata": {},
   "outputs": [
    {
     "name": "stdout",
     "output_type": "stream",
     "text": [
      "Jakarta Timur\n"
     ]
    }
   ],
   "source": [
    "print(city)"
   ]
  },
  {
   "cell_type": "code",
   "execution_count": 3,
   "id": "assumed-arizona",
   "metadata": {},
   "outputs": [],
   "source": [
    "city2 = 'Jakarta Barat'"
   ]
  },
  {
   "cell_type": "code",
   "execution_count": 4,
   "id": "unexpected-sector",
   "metadata": {},
   "outputs": [
    {
     "name": "stdout",
     "output_type": "stream",
     "text": [
      "Jakarta Barat\n"
     ]
    }
   ],
   "source": [
    "print(city2)"
   ]
  },
  {
   "cell_type": "code",
   "execution_count": 5,
   "id": "behavioral-training",
   "metadata": {},
   "outputs": [
    {
     "name": "stdout",
     "output_type": "stream",
     "text": [
      "Today is somebody's birthday\n"
     ]
    }
   ],
   "source": [
    "x = \"Today is somebody's birthday\"\n",
    "print(x)"
   ]
  },
  {
   "cell_type": "code",
   "execution_count": 6,
   "id": "requested-symposium",
   "metadata": {},
   "outputs": [
    {
     "name": "stdout",
     "output_type": "stream",
     "text": [
      "Tipe data : <class 'str'>\n"
     ]
    }
   ],
   "source": [
    "word = 'hello' +' '+'world'\n",
    "print('Tipe data :', type(word))"
   ]
  },
  {
   "cell_type": "code",
   "execution_count": 7,
   "id": "attached-england",
   "metadata": {},
   "outputs": [
    {
     "name": "stdout",
     "output_type": "stream",
     "text": [
      "Tipe data:  <class 'str'>\n"
     ]
    }
   ],
   "source": [
    "word = 'hello'+' '+'world'\n",
    "print('Tipe data: ',type(word))"
   ]
  },
  {
   "cell_type": "code",
   "execution_count": 8,
   "id": "temporal-feeling",
   "metadata": {},
   "outputs": [
    {
     "name": "stdout",
     "output_type": "stream",
     "text": [
      "l\n"
     ]
    }
   ],
   "source": [
    "print(word[3])"
   ]
  },
  {
   "cell_type": "markdown",
   "id": "coordinate-replacement",
   "metadata": {},
   "source": [
    "### Slicing"
   ]
  },
  {
   "cell_type": "code",
   "execution_count": 9,
   "id": "dominant-wesley",
   "metadata": {},
   "outputs": [
    {
     "name": "stdout",
     "output_type": "stream",
     "text": [
      "el,Wrd\n"
     ]
    }
   ],
   "source": [
    "b = \"Hello, World!\"\n",
    "print(b[1:12:2]) \n",
    "#start, stop, step, index di Python mulai dari angka 0,stop di angka ekslusif \n",
    "#(mulai dari -1 jika reverse/terbalik)"
   ]
  },
  {
   "cell_type": "markdown",
   "id": "posted-harvest",
   "metadata": {},
   "source": [
    "Tulisan Biasa\\\n",
    "**Tulisan Bold**"
   ]
  },
  {
   "cell_type": "code",
   "execution_count": 10,
   "id": "ordered-formation",
   "metadata": {},
   "outputs": [
    {
     "data": {
      "text/plain": [
       "'Ada Lovelace'"
      ]
     },
     "execution_count": 10,
     "metadata": {},
     "output_type": "execute_result"
    }
   ],
   "source": [
    "nama = 'ada lovelace'\n",
    "nama.title()"
   ]
  },
  {
   "cell_type": "code",
   "execution_count": 11,
   "id": "infinite-astronomy",
   "metadata": {},
   "outputs": [
    {
     "name": "stdout",
     "output_type": "stream",
     "text": [
      "ADA LOVELACE\n",
      "ada lovelace\n"
     ]
    }
   ],
   "source": [
    "print(nama.upper())\n",
    "print(nama.lower())"
   ]
  },
  {
   "cell_type": "code",
   "execution_count": 12,
   "id": "marked-antenna",
   "metadata": {},
   "outputs": [
    {
     "name": "stdout",
     "output_type": "stream",
     "text": [
      "ada lovelace\n",
      "['ada', 'lovelace']\n"
     ]
    }
   ],
   "source": [
    "print(nama.strip())\n",
    "print(nama.split())"
   ]
  },
  {
   "cell_type": "markdown",
   "id": "statewide-award",
   "metadata": {},
   "source": [
    "### Number"
   ]
  },
  {
   "cell_type": "code",
   "execution_count": 13,
   "id": "proud-trademark",
   "metadata": {},
   "outputs": [
    {
     "name": "stdout",
     "output_type": "stream",
     "text": [
      "<class 'int'>\n",
      "<class 'float'>\n",
      "<class 'complex'>\n"
     ]
    }
   ],
   "source": [
    "x = 1\n",
    "y = 2.8\n",
    "z = 1j\n",
    "\n",
    "print(type(x))\n",
    "print(type(y))\n",
    "print(type(z))"
   ]
  },
  {
   "cell_type": "code",
   "execution_count": 14,
   "id": "excessive-biodiversity",
   "metadata": {},
   "outputs": [
    {
     "name": "stdout",
     "output_type": "stream",
     "text": [
      "32\n",
      "10\n"
     ]
    }
   ],
   "source": [
    "x1 = 2**5 # pangkat\n",
    "print(x1)\n",
    "\n",
    "x2 = 2*5\n",
    "print(x2)"
   ]
  },
  {
   "cell_type": "markdown",
   "id": "temporal-feelings",
   "metadata": {},
   "source": [
    "### List"
   ]
  },
  {
   "cell_type": "code",
   "execution_count": 15,
   "id": "adapted-america",
   "metadata": {},
   "outputs": [
    {
     "name": "stdout",
     "output_type": "stream",
     "text": [
      "['Ontel', 'Mountain Bike', 'Sepeda Lipat', 'Brompton']\n",
      "Mountain Bike\n"
     ]
    }
   ],
   "source": [
    "bicycles = ['Ontel','Mountain Bike', 'Sepeda Lipat', 'Brompton']\n",
    "print(bicycles)\n",
    "\n",
    "print(bicycles[1])"
   ]
  },
  {
   "cell_type": "code",
   "execution_count": 16,
   "id": "diverse-tuesday",
   "metadata": {},
   "outputs": [
    {
     "name": "stdout",
     "output_type": "stream",
     "text": [
      "['fisika', 'kimia', True, 1985, 1993, 2017]\n",
      "[['fisika', 'kimia', True, 1985, 1993, 2017], 2021]\n"
     ]
    }
   ],
   "source": [
    "myList = ['fisika', 'kimia', True, 1985, 1993, 2017]\n",
    "print(myList)\n",
    "\n",
    "myList2 = [myList, 2021]\n",
    "print(myList2)"
   ]
  },
  {
   "cell_type": "code",
   "execution_count": 17,
   "id": "fresh-maximum",
   "metadata": {},
   "outputs": [
    {
     "name": "stdout",
     "output_type": "stream",
     "text": [
      "True\n"
     ]
    }
   ],
   "source": [
    "print(myList2[0][2])"
   ]
  },
  {
   "cell_type": "code",
   "execution_count": null,
   "id": "sonic-freight",
   "metadata": {},
   "outputs": [],
   "source": []
  }
 ],
 "metadata": {
  "kernelspec": {
   "display_name": "Python 3",
   "language": "python",
   "name": "python3"
  },
  "language_info": {
   "codemirror_mode": {
    "name": "ipython",
    "version": 3
   },
   "file_extension": ".py",
   "mimetype": "text/x-python",
   "name": "python",
   "nbconvert_exporter": "python",
   "pygments_lexer": "ipython3",
   "version": "3.8.2"
  }
 },
 "nbformat": 4,
 "nbformat_minor": 5
}
