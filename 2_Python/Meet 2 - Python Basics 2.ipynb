{
 "cells": [
  {
   "cell_type": "markdown",
   "id": "optional-mexican",
   "metadata": {},
   "source": [
    "## Session 10 - Basic Operators, Conditional, Loops in Python"
   ]
  },
  {
   "cell_type": "markdown",
   "id": "searching-mining",
   "metadata": {},
   "source": [
    "### Condition"
   ]
  },
  {
   "cell_type": "markdown",
   "id": "laughing-cleveland",
   "metadata": {},
   "source": [
    "#### Challenge 1"
   ]
  },
  {
   "cell_type": "code",
   "execution_count": 1,
   "id": "welsh-steel",
   "metadata": {
    "scrolled": true
   },
   "outputs": [
    {
     "name": "stdout",
     "output_type": "stream",
     "text": [
      "Masukkan Tanggal: 23\n",
      "Masukkan Plat Nomor: D 8992 KD\n",
      "Anda ditilang, karena plat anda genap di tanggal ganjil\n"
     ]
    }
   ],
   "source": [
    "tanggal = int(input('Masukkan Tanggal: '))\n",
    "plat_nomor = input('Masukkan Plat Nomor: ')\n",
    "\n",
    "plat = int(plat_nomor.split(' ')[1])\n",
    "\n",
    "if tanggal % 2 == 0 : #tanggal genap\n",
    "    if plat%2 == 0:\n",
    "        print('Anda lolos, karena plat genap di tanggal genap')\n",
    "    else :\n",
    "        print('Anda DITILANG, karena plat anda ganjil di tanggal genap')\n",
    "else: #tanggal ganjil\n",
    "    if plat%2 != 0:\n",
    "        print('Anda lolos, karena plat anda ganjil di tanggal ganjil')\n",
    "    else:\n",
    "        print('Anda ditilang, karena plat anda genap di tanggal ganjil')\n"
   ]
  },
  {
   "cell_type": "markdown",
   "id": "durable-slide",
   "metadata": {},
   "source": [
    "#### Challenge 2"
   ]
  },
  {
   "cell_type": "code",
   "execution_count": 2,
   "id": "velvet-replacement",
   "metadata": {},
   "outputs": [
    {
     "name": "stdout",
     "output_type": "stream",
     "text": [
      "Masukkan tanggal (YYYY-MM-DD): 2020-05-08\n",
      "Masukkan jumlah transaksi : Rp.1000000\n",
      "Selamat Anda mendapatkan diskon sebesar Rp.50000\n"
     ]
    }
   ],
   "source": [
    "import pandas as pd\n",
    "\n",
    "tgl_transaksi = pd.to_datetime(input('Masukkan tanggal (YYYY-MM-DD): '))\n",
    "tenggat_waktu = pd.to_datetime('2020-07-01')\n",
    "jumlah_transaksi = int(input('Masukkan jumlah transaksi : Rp.')) \n",
    "\n",
    "if tgl_transaksi <= tenggat_waktu:\n",
    "    if jumlah_transaksi <= 100000:\n",
    "        potongan = jumlah_transaksi * 0.5\n",
    "        jumlah_bayar = jumlah_transaksi - potongan\n",
    "        print('\\nSelamat Anda mendapatkan diskon sebesar 50%')\n",
    "        print('Jumlah pembayaran Rp.{}'.format(jumlah_bayar))\n",
    "    else:\n",
    "        print('Selamat Anda mendapatkan diskon sebesar Rp.{}'.format(50000))\n",
    "else:\n",
    "    print('Diskon sudah tidak berlaku')"
   ]
  },
  {
   "cell_type": "markdown",
   "id": "lined-crime",
   "metadata": {},
   "source": [
    "### Looping"
   ]
  },
  {
   "cell_type": "code",
   "execution_count": 3,
   "id": "common-requirement",
   "metadata": {
    "scrolled": true
   },
   "outputs": [
    {
     "name": "stdout",
     "output_type": "stream",
     "text": [
      "Count -  5\n",
      "Count -  4\n",
      "Count -  3\n",
      "Count -  2\n",
      "Count -  1\n",
      "Close the door!\n"
     ]
    }
   ],
   "source": [
    "## While loops\n",
    "count = 5\n",
    "while count>=1:\n",
    "    print('Count - ', count)\n",
    "    count -= 1\n",
    "print('Close the door!')"
   ]
  },
  {
   "cell_type": "code",
   "execution_count": 4,
   "id": "dried-pharmacy",
   "metadata": {},
   "outputs": [
    {
     "name": "stdout",
     "output_type": "stream",
     "text": [
      "Mercedes\n",
      "Lamborghini\n",
      "BMW\n"
     ]
    }
   ],
   "source": [
    "# for loops\n",
    "cars = ['Mercedes', 'Lamborghini', 'BMW']\n",
    "for car in cars:\n",
    "    print(car)"
   ]
  },
  {
   "cell_type": "code",
   "execution_count": 5,
   "id": "martial-affiliate",
   "metadata": {
    "scrolled": true
   },
   "outputs": [
    {
     "name": "stdout",
     "output_type": "stream",
     "text": [
      "1 - Ganjil\n",
      "2 - Genap\n",
      "3 - Ganjil\n",
      "4 - Genap\n",
      "5 - Ganjil\n",
      "6 - Genap\n",
      "7 - Ganjil\n",
      "8 - Genap\n",
      "9 - Ganjil\n",
      "10 - Genap\n",
      "11 - Ganjil\n",
      "12 - Genap\n",
      "13 - Ganjil\n",
      "14 - Genap\n",
      "15 - Ganjil\n",
      "16 - Genap\n",
      "17 - Ganjil\n",
      "18 - Genap\n",
      "19 - Ganjil\n"
     ]
    }
   ],
   "source": [
    "for i in range(1, 20):\n",
    "    if i % 2 != 0:\n",
    "        print(f'{i} - Ganjil')\n",
    "    else:\n",
    "        print(f'{i} - Genap')"
   ]
  },
  {
   "cell_type": "code",
   "execution_count": 6,
   "id": "bizarre-processing",
   "metadata": {},
   "outputs": [
    {
     "name": "stdout",
     "output_type": "stream",
     "text": [
      "Mobil 1 - Mercedes\n",
      "Mobil 2 - Lamborghini\n",
      "Mobil 3 - BMW\n"
     ]
    }
   ],
   "source": [
    "for i in range(len(cars)):\n",
    "    print(f'Mobil {i+1} - {cars[i]}')"
   ]
  },
  {
   "cell_type": "code",
   "execution_count": 7,
   "id": "modified-habitat",
   "metadata": {},
   "outputs": [
    {
     "name": "stdout",
     "output_type": "stream",
     "text": [
      "Bab 1 - Sub Bab 1\n",
      "Bab 1 - Sub Bab 2\n",
      "Bab 1 - Sub Bab 3\n",
      "Bab 2 - Sub Bab 1\n",
      "Bab 2 - Sub Bab 2\n",
      "Bab 2 - Sub Bab 3\n",
      "Bab 3 - Sub Bab 1\n",
      "Bab 3 - Sub Bab 2\n",
      "Bab 3 - Sub Bab 3\n"
     ]
    }
   ],
   "source": [
    "for i in range(1, 4):\n",
    "    for j in range(1, 4):\n",
    "        print(f'Bab {i} - Sub Bab {j}')"
   ]
  },
  {
   "cell_type": "code",
   "execution_count": 8,
   "id": "careful-cathedral",
   "metadata": {},
   "outputs": [
    {
     "name": "stdout",
     "output_type": "stream",
     "text": [
      "1 x 1 = 1\n",
      "1 x 2 = 2\n",
      "1 x 3 = 3\n",
      "2 x 1 = 2\n",
      "2 x 2 = 4\n",
      "2 x 3 = 6\n",
      "3 x 1 = 3\n",
      "3 x 2 = 6\n",
      "3 x 3 = 9\n"
     ]
    }
   ],
   "source": [
    "for i in range(1, 4):\n",
    "    for j in range(1, 4):\n",
    "        print(f'{i} x {j} = {i*j}')"
   ]
  },
  {
   "cell_type": "code",
   "execution_count": 9,
   "id": "expanded-cause",
   "metadata": {},
   "outputs": [
    {
     "name": "stdout",
     "output_type": "stream",
     "text": [
      "Revenue bulan ke 1 : 10000\n",
      "Revenue bulan ke 2 : 9000\n",
      "Revenue bulan ke 3 : 8000\n",
      "Revenue bulan ke 4 : 7000\n",
      "Revenue bulan ke 5 : 6000\n",
      "Bulan ke - 6 Bangkrut!\n"
     ]
    }
   ],
   "source": [
    "## Break statements\n",
    "revenue = 10000\n",
    "cost = 5000\n",
    "month = 1\n",
    "\n",
    "while month>0:\n",
    "    print(f'Revenue bulan ke {month} : {revenue}')\n",
    "    revenue -= 1000\n",
    "    month += 1\n",
    "    \n",
    "    if revenue == cost:\n",
    "        break\n",
    "    \n",
    "print(f'Bulan ke - {month} Bangkrut!')"
   ]
  },
  {
   "cell_type": "code",
   "execution_count": 10,
   "id": "auburn-dominican",
   "metadata": {},
   "outputs": [
    {
     "name": "stdout",
     "output_type": "stream",
     "text": [
      "Angka ke - 1\n",
      "Angka ke - 2\n",
      "Angka ke - 3\n",
      "Angka ke - 4\n",
      "Angka ke - 5\n",
      "Angka ke - 6\n",
      "Angka ke - 8\n",
      "Angka ke - 9\n"
     ]
    }
   ],
   "source": [
    "# Continue statement\n",
    "for i in range(1, 10):\n",
    "    if i == 7:\n",
    "        continue\n",
    "    print(f'Angka ke - {i}')"
   ]
  },
  {
   "cell_type": "markdown",
   "id": "swedish-barbados",
   "metadata": {},
   "source": [
    "#### Challenge Loops"
   ]
  },
  {
   "cell_type": "code",
   "execution_count": 11,
   "id": "lyric-guard",
   "metadata": {},
   "outputs": [
    {
     "name": "stdout",
     "output_type": "stream",
     "text": [
      " *  *  *  * \n",
      " *  *  *  * \n",
      " *  *  *  * \n",
      " *  *  *  * \n",
      " *  *  *  * \n",
      "\n"
     ]
    }
   ],
   "source": [
    "z = ''\n",
    "\n",
    "for i in range(5):\n",
    "    for j in range(4):\n",
    "        z += ' * '\n",
    "    z += '\\n'\n",
    "print(z)"
   ]
  },
  {
   "cell_type": "code",
   "execution_count": 4,
   "id": "grave-rabbit",
   "metadata": {
    "scrolled": true
   },
   "outputs": [
    {
     "name": "stdout",
     "output_type": "stream",
     "text": [
      " *  *  *  *  * \n",
      " *  *  *  * \n",
      " *  *  * \n",
      " *  * \n",
      " * \n",
      " *  * \n",
      " *  *  * \n",
      " *  *  *  * \n",
      " *  *  *  *  * \n",
      "\n"
     ]
    }
   ],
   "source": [
    "z = ''\n",
    "\n",
    "for i in range(5):\n",
    "    for j in range(5-i):\n",
    "        z += ' * '\n",
    "    z += '\\n'\n",
    "for i in range(4):\n",
    "    for j in range(2+i):\n",
    "        z += ' * '\n",
    "    z += '\\n'\n",
    "print(z)"
   ]
  },
  {
   "cell_type": "code",
   "execution_count": null,
   "id": "disciplinary-envelope",
   "metadata": {},
   "outputs": [],
   "source": []
  },
  {
   "cell_type": "markdown",
   "id": "empirical-stroke",
   "metadata": {},
   "source": [
    "## Session 11 - Functions, Map, Filter, and Lambda Expression"
   ]
  },
  {
   "cell_type": "markdown",
   "id": "smoking-discrimination",
   "metadata": {},
   "source": [
    "### Function"
   ]
  },
  {
   "cell_type": "code",
   "execution_count": 13,
   "id": "intermediate-islam",
   "metadata": {},
   "outputs": [
    {
     "data": {
      "text/plain": [
       "64"
      ]
     },
     "execution_count": 13,
     "metadata": {},
     "output_type": "execute_result"
    }
   ],
   "source": [
    "def pangkat(angka):\n",
    "    result = angka**2\n",
    "    return result\n",
    "\n",
    "pangkat(8)"
   ]
  },
  {
   "cell_type": "code",
   "execution_count": 14,
   "id": "bacterial-citizenship",
   "metadata": {},
   "outputs": [
    {
     "data": {
      "text/plain": [
       "24.0"
      ]
     },
     "execution_count": 14,
     "metadata": {},
     "output_type": "execute_result"
    }
   ],
   "source": [
    "def luas_segitiga(alas, tinggi):\n",
    "    result = (alas*tinggi)/2\n",
    "    return result\n",
    "\n",
    "luas_segitiga(8, 6)"
   ]
  },
  {
   "cell_type": "code",
   "execution_count": 15,
   "id": "sacred-tutorial",
   "metadata": {},
   "outputs": [
    {
     "data": {
      "text/plain": [
       "'indah bukan palindrome'"
      ]
     },
     "execution_count": 15,
     "metadata": {},
     "output_type": "execute_result"
    }
   ],
   "source": [
    "def cek_palindrome(kata):\n",
    "    kata = kata.lower()\n",
    "    if kata == kata[::-1]:\n",
    "        result = '{} termasuk palindrome'.format(kata)\n",
    "    else:\n",
    "        result = '{} bukan palindrome'.format(kata)\n",
    "    return result\n",
    "\n",
    "cek_palindrome('indah')"
   ]
  },
  {
   "cell_type": "markdown",
   "id": "sunrise-chart",
   "metadata": {},
   "source": [
    "### Variable Length Argument"
   ]
  },
  {
   "cell_type": "code",
   "execution_count": 16,
   "id": "listed-funds",
   "metadata": {},
   "outputs": [
    {
     "data": {
      "text/plain": [
       "4"
      ]
     },
     "execution_count": 16,
     "metadata": {},
     "output_type": "execute_result"
    }
   ],
   "source": [
    "def angka_terkecil(*args):\n",
    "    mins = args[0]\n",
    "    for angka in args:\n",
    "        if angka < mins:\n",
    "            mins = angka\n",
    "    return mins\n",
    "\n",
    "angka_terkecil(18, 7, 4, 6,21, 8)"
   ]
  },
  {
   "cell_type": "code",
   "execution_count": 17,
   "id": "statistical-samoa",
   "metadata": {},
   "outputs": [
    {
     "name": "stdout",
     "output_type": "stream",
     "text": [
      "Total belanja adalah : 115\n"
     ]
    }
   ],
   "source": [
    "def total_belanja(**kwargs):\n",
    "    belanja = kwargs['Baju'] + kwargs['Celana'] + kwargs['Topi']\n",
    "    print('Total belanja adalah :', belanja)\n",
    "    \n",
    "total_belanja(Baju=100, Celana=8, Topi=7)"
   ]
  },
  {
   "cell_type": "code",
   "execution_count": 18,
   "id": "ideal-scene",
   "metadata": {},
   "outputs": [],
   "source": [
    "# Rumus kecepatan jarak waktu\n",
    "def rumus_jkw(**kwargs):\n",
    "    if 'kecepatan' not in kwargs.keys():\n",
    "        kec = kwargs['jarak']/kwargs['waktu']\n",
    "        print('Kecepatan : ', kec)\n",
    "    elif 'waktu' not in kwargs.keys():\n",
    "        wak = kwargs['jarak']/kwargs['kecepatan']\n",
    "        print('Waktu : ', wak)\n",
    "    else:\n",
    "        jar = kwargs['waktu']*kwargs['kecepatan']\n",
    "        print('Jarak : ', jar)"
   ]
  },
  {
   "cell_type": "code",
   "execution_count": 19,
   "id": "variable-programmer",
   "metadata": {
    "scrolled": true
   },
   "outputs": [
    {
     "name": "stdout",
     "output_type": "stream",
     "text": [
      "Jarak :  9000\n"
     ]
    }
   ],
   "source": [
    "rumus_jkw(waktu=100, kecepatan=90)"
   ]
  },
  {
   "cell_type": "code",
   "execution_count": 20,
   "id": "printable-algebra",
   "metadata": {},
   "outputs": [
    {
     "data": {
      "text/plain": [
       "[1, 31, 31, 43]"
      ]
     },
     "execution_count": 20,
     "metadata": {},
     "output_type": "execute_result"
    }
   ],
   "source": [
    "def cek_angka_ganjil(list_angka):\n",
    "    angka_ganjil = []\n",
    "    for i in list_angka:\n",
    "        if i % 2 != 0:\n",
    "            angka_ganjil.append(i)\n",
    "    return angka_ganjil\n",
    "\n",
    "cek_angka_ganjil([1, 4, 32, 31, 31, 43, 88, 32])"
   ]
  },
  {
   "cell_type": "code",
   "execution_count": 21,
   "id": "impressive-democrat",
   "metadata": {},
   "outputs": [
    {
     "data": {
      "text/plain": [
       "('Insan', 87)"
      ]
     },
     "execution_count": 21,
     "metadata": {},
     "output_type": "execute_result"
    }
   ],
   "source": [
    "list_nilai = [('Insan', 87), ('Cahya', 85), ('Setia', 80)]\n",
    "\n",
    "def nilai_tertinggi(data_nilai):\n",
    "    tertinggi = 0\n",
    "    nama = ''\n",
    "    \n",
    "    for name, nilai in data_nilai:\n",
    "        if nilai > tertinggi:\n",
    "            tertinggi = nilai\n",
    "            nama = name\n",
    "    return nama, tertinggi\n",
    "\n",
    "nilai_tertinggi(list_nilai)"
   ]
  },
  {
   "cell_type": "code",
   "execution_count": 22,
   "id": "miniature-venice",
   "metadata": {},
   "outputs": [],
   "source": [
    "from random import shuffle\n",
    "\n",
    "def shuffle_list(mylist):\n",
    "    shuffle(mylist)\n",
    "    return mylist\n",
    "\n",
    "def player_guess():\n",
    "    guess = ''\n",
    "    while guess not in [0,1,2]:\n",
    "        guess = int(input('Pick a number: 0, 1, or 2?  '))\n",
    "    return guess\n",
    "\n",
    "def check_guess(mylist, guess):\n",
    "    if mylist[guess] == 'O':\n",
    "        print('Correct guess!')\n",
    "        print(mylist)\n",
    "    else:\n",
    "        print('Wrong guess!')\n",
    "        print(mylist)"
   ]
  },
  {
   "cell_type": "code",
   "execution_count": 23,
   "id": "intended-drunk",
   "metadata": {},
   "outputs": [
    {
     "name": "stdout",
     "output_type": "stream",
     "text": [
      "Pick a number: 0, 1, or 2?  2\n",
      "Wrong guess!\n",
      "['O', ' ', ' ']\n"
     ]
    }
   ],
   "source": [
    "awalan = [' ', 'O', ' ']\n",
    "check_guess(shuffle_list(awalan), player_guess())"
   ]
  },
  {
   "cell_type": "markdown",
   "id": "educated-station",
   "metadata": {},
   "source": [
    "### Map, Filter and Lambda"
   ]
  },
  {
   "cell_type": "code",
   "execution_count": 24,
   "id": "forced-decrease",
   "metadata": {},
   "outputs": [
    {
     "name": "stdout",
     "output_type": "stream",
     "text": [
      "1\n",
      "9\n",
      "25\n",
      "49\n",
      "81\n"
     ]
    }
   ],
   "source": [
    "# Map\n",
    "def square(num):\n",
    "    return num**2\n",
    "\n",
    "my_nums = [i for i in range(1, 10, 2)]\n",
    "\n",
    "for i in map(square, my_nums):\n",
    "    print(i)"
   ]
  },
  {
   "cell_type": "code",
   "execution_count": 25,
   "id": "polished-wayne",
   "metadata": {},
   "outputs": [
    {
     "data": {
      "text/plain": [
       "[2, 4, 6, 8]"
      ]
     },
     "execution_count": 25,
     "metadata": {},
     "output_type": "execute_result"
    }
   ],
   "source": [
    "# Filter\n",
    "def check_even(num):\n",
    "    return num%2 == 0\n",
    "\n",
    "my_nums = [i for i in range(1, 10)]\n",
    "\n",
    "list(filter(check_even, my_nums))"
   ]
  },
  {
   "cell_type": "code",
   "execution_count": 26,
   "id": "surrounded-account",
   "metadata": {},
   "outputs": [
    {
     "data": {
      "text/plain": [
       "['nasnI', 'ayhaC', 'aiteS']"
      ]
     },
     "execution_count": 26,
     "metadata": {},
     "output_type": "execute_result"
    }
   ],
   "source": [
    "name = ['Insan', 'Cahya', 'Setia']\n",
    "\n",
    "list(map(lambda x:x[::-1], name))"
   ]
  },
  {
   "cell_type": "markdown",
   "id": "supposed-disease",
   "metadata": {},
   "source": [
    "## Exercise"
   ]
  },
  {
   "cell_type": "markdown",
   "id": "breeding-memorial",
   "metadata": {},
   "source": [
    "Write a function that returns the lesser of two given numbers if both numbers are even, but returns the greater if one or both numbers are odd"
   ]
  },
  {
   "cell_type": "code",
   "execution_count": 27,
   "id": "hungry-placement",
   "metadata": {},
   "outputs": [
    {
     "data": {
      "text/plain": [
       "2"
      ]
     },
     "execution_count": 27,
     "metadata": {},
     "output_type": "execute_result"
    }
   ],
   "source": [
    "def lesser_of_two_evens(num1, num2):\n",
    "    if (num1%2 == 0) and (num2%2 == 0):\n",
    "        result =  min([num1, num2])\n",
    "    else:\n",
    "        result = max([num1, num2])\n",
    "    return result\n",
    "\n",
    "lesser_of_two_evens(2, 6)"
   ]
  },
  {
   "cell_type": "markdown",
   "id": "diagnostic-simon",
   "metadata": {},
   "source": [
    "ANIMAL CRACKERS: Write a function takes a two-word string and returns True if both words begin with same letter."
   ]
  },
  {
   "cell_type": "code",
   "execution_count": 28,
   "id": "searching-flight",
   "metadata": {},
   "outputs": [
    {
     "name": "stdout",
     "output_type": "stream",
     "text": [
      "False\n"
     ]
    }
   ],
   "source": [
    "def animal_crackers(words):\n",
    "    word = words.lower().split(' ')\n",
    "    \n",
    "    if word[0][0] == word[1][0]:\n",
    "        print(True)\n",
    "    else:\n",
    "        print(False)\n",
    "        \n",
    "animal_crackers('Insan saya')"
   ]
  },
  {
   "cell_type": "markdown",
   "id": "copyrighted-manufacturer",
   "metadata": {},
   "source": [
    "Given a sentence, return a sentence with the words reversed. Note: The .join() method may be useful here. The .join() method allows you to join together strings in a list with some connector string. For example, some uses of the .join() method:"
   ]
  },
  {
   "cell_type": "code",
   "execution_count": 1,
   "id": "painful-jesus",
   "metadata": {},
   "outputs": [],
   "source": [
    "def master_yoda(words):\n",
    "    word = words.split(' ')\n",
    "    result = word[::-1]\n",
    "    result = ' '.join(result[i] for i in range(len(word)))\n",
    "    \n",
    "    return result"
   ]
  },
  {
   "cell_type": "code",
   "execution_count": 30,
   "id": "available-cricket",
   "metadata": {},
   "outputs": [
    {
     "data": {
      "text/plain": [
       "'95 nilai mendapatkan bisa saya karena ini hari sekali senang sangat saya'"
      ]
     },
     "execution_count": 30,
     "metadata": {},
     "output_type": "execute_result"
    }
   ],
   "source": [
    "master_yoda('saya sangat senang sekali hari ini karena saya bisa mendapatkan nilai 95')"
   ]
  }
 ],
 "metadata": {
  "kernelspec": {
   "display_name": "Python 3",
   "language": "python",
   "name": "python3"
  },
  "language_info": {
   "codemirror_mode": {
    "name": "ipython",
    "version": 3
   },
   "file_extension": ".py",
   "mimetype": "text/x-python",
   "name": "python",
   "nbconvert_exporter": "python",
   "pygments_lexer": "ipython3",
   "version": "3.8.2"
  }
 },
 "nbformat": 4,
 "nbformat_minor": 5
}
