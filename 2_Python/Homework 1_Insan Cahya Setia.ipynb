{
 "cells": [
  {
   "cell_type": "markdown",
   "id": "waiting-congo",
   "metadata": {},
   "source": [
    "## Homework"
   ]
  },
  {
   "cell_type": "markdown",
   "id": "illegal-hughes",
   "metadata": {},
   "source": [
    "Create a python program that can return all numbers prime from 0-100"
   ]
  },
  {
   "cell_type": "code",
   "execution_count": 1,
   "id": "established-estimate",
   "metadata": {},
   "outputs": [
    {
     "name": "stdout",
     "output_type": "stream",
     "text": [
      "2\n",
      "3\n",
      "5\n",
      "7\n",
      "11\n",
      "13\n",
      "17\n",
      "19\n",
      "23\n",
      "29\n",
      "31\n",
      "37\n",
      "41\n",
      "43\n",
      "47\n",
      "53\n",
      "59\n",
      "61\n",
      "67\n",
      "71\n",
      "73\n",
      "79\n",
      "83\n",
      "89\n",
      "97\n"
     ]
    }
   ],
   "source": [
    "for num in range(2,101):\n",
    "    prime = True\n",
    "    for i in range(2,num):\n",
    "        if (num%i==0):\n",
    "            prime = False\n",
    "    if prime:\n",
    "        print(num)\n",
    "        \n",
    "# for num in range(2,101):\n",
    "#     if all(num%i!=0 for i in range(2,num)):\n",
    "#         print(num)"
   ]
  },
  {
   "cell_type": "markdown",
   "id": "radio-tactics",
   "metadata": {},
   "source": [
    "Create a python program that can accept numeric input (integers), then the program can classify automatically whether the inputted number is a prime number or not. If it is not a prime number, state the number which is a factor of the input value!"
   ]
  },
  {
   "cell_type": "code",
   "execution_count": 2,
   "id": "elder-jurisdiction",
   "metadata": {},
   "outputs": [],
   "source": [
    "# Mendefinisikan fungsi untuk faktor bilangan\n",
    "def faktor_bilangan(x):\n",
    "    \"\"\"Fungsi menerima input bilangan dan mencetak faktornya\"\"\"\n",
    "    print(\"Faktor dari\", x, \"adalah:\")\n",
    "    for i in range(1, x+1):\n",
    "        if x % i == 0:\n",
    "            print(i)"
   ]
  },
  {
   "cell_type": "code",
   "execution_count": 3,
   "id": "previous-field",
   "metadata": {},
   "outputs": [
    {
     "name": "stdout",
     "output_type": "stream",
     "text": [
      "Masukkan angka :26\n",
      "26 bukan bilangan prima\n",
      "Faktor dari 26 adalah:\n",
      "1\n",
      "2\n",
      "13\n",
      "26\n"
     ]
    }
   ],
   "source": [
    "num = int(input('Masukkan angka :'))\n",
    "if num > 1:\n",
    "    for i in range(2, num):\n",
    "        if num % i == 0:\n",
    "            print(f'{num} bukan bilangan prima')\n",
    "            faktor_bilangan(num)\n",
    "            break\n",
    "    else:\n",
    "        print(f'{num} adalah bilangan prima')"
   ]
  },
  {
   "cell_type": "markdown",
   "id": "agricultural-original",
   "metadata": {},
   "source": [
    "Write a function that returns the lesser of two given numbers if both numbers are even, but returns the greater if one or both numbers are odd"
   ]
  },
  {
   "cell_type": "code",
   "execution_count": 4,
   "id": "vertical-geology",
   "metadata": {},
   "outputs": [],
   "source": [
    "def lesser_of_two_evens(num1, num2):\n",
    "    if (num1%2 == 0) and (num2%2 == 0):\n",
    "        result =  min([num1, num2])\n",
    "    else:\n",
    "        result = max([num1, num2])\n",
    "    return result"
   ]
  },
  {
   "cell_type": "code",
   "execution_count": 5,
   "id": "united-relay",
   "metadata": {},
   "outputs": [
    {
     "data": {
      "text/plain": [
       "2"
      ]
     },
     "execution_count": 5,
     "metadata": {},
     "output_type": "execute_result"
    }
   ],
   "source": [
    "lesser_of_two_evens(2, 6)"
   ]
  },
  {
   "cell_type": "markdown",
   "id": "welsh-brush",
   "metadata": {},
   "source": [
    "ANIMAL CRACKERS: Write a function takes a two-word string and returns True if both words begin with same letter."
   ]
  },
  {
   "cell_type": "code",
   "execution_count": 6,
   "id": "tracked-accommodation",
   "metadata": {},
   "outputs": [],
   "source": [
    "def animal_crackers(words):\n",
    "    word = words.lower().split(' ')\n",
    "    \n",
    "    if word[0][0] == word[1][0]:\n",
    "        print(True)\n",
    "    else:\n",
    "        print(False)"
   ]
  },
  {
   "cell_type": "code",
   "execution_count": 7,
   "id": "better-vancouver",
   "metadata": {},
   "outputs": [
    {
     "name": "stdout",
     "output_type": "stream",
     "text": [
      "True\n"
     ]
    }
   ],
   "source": [
    "animal_crackers('insan insan')"
   ]
  },
  {
   "cell_type": "markdown",
   "id": "respiratory-playlist",
   "metadata": {},
   "source": [
    "Given a sentence, return a sentence with the words reversed. Note: The .join() method may be useful here. The .join() method allows you to join together strings in a list with some connector string. For example, some uses of the .join() method:"
   ]
  },
  {
   "cell_type": "code",
   "execution_count": 8,
   "id": "mineral-moment",
   "metadata": {},
   "outputs": [],
   "source": [
    "def master_yoda(words):\n",
    "    word = words.split(' ')\n",
    "    result = word[::-1]\n",
    "    result = ' '.join(result[i] for i in range(len(word)))\n",
    "    \n",
    "    return result"
   ]
  },
  {
   "cell_type": "code",
   "execution_count": 9,
   "id": "hired-saskatchewan",
   "metadata": {},
   "outputs": [
    {
     "data": {
      "text/plain": [
       "'95 nilai mendapatkan bisa saya karena ini hari sekali senang sangat saya'"
      ]
     },
     "execution_count": 9,
     "metadata": {},
     "output_type": "execute_result"
    }
   ],
   "source": [
    "master_yoda('saya sangat senang sekali hari ini karena saya bisa mendapatkan nilai 95')"
   ]
  }
 ],
 "metadata": {
  "kernelspec": {
   "display_name": "Python 3",
   "language": "python",
   "name": "python3"
  },
  "language_info": {
   "codemirror_mode": {
    "name": "ipython",
    "version": 3
   },
   "file_extension": ".py",
   "mimetype": "text/x-python",
   "name": "python",
   "nbconvert_exporter": "python",
   "pygments_lexer": "ipython3",
   "version": "3.8.2"
  }
 },
 "nbformat": 4,
 "nbformat_minor": 5
}
