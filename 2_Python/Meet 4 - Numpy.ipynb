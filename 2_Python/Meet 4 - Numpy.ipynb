{
 "cells": [
  {
   "cell_type": "markdown",
   "id": "637a4a38",
   "metadata": {},
   "source": [
    "# Sesssion 14"
   ]
  },
  {
   "cell_type": "markdown",
   "id": "d3d282f4",
   "metadata": {},
   "source": [
    "1. Understanding What's NumPy\n",
    "2. Build Array\n",
    "3. Subsetting NumPy\n",
    "4. 2D NumPy\n",
    "5. Run NumPy for Statistics"
   ]
  },
  {
   "cell_type": "code",
   "execution_count": 1,
   "id": "closing-thermal",
   "metadata": {},
   "outputs": [],
   "source": [
    "# import numpy library \n",
    "import numpy as np"
   ]
  },
  {
   "cell_type": "markdown",
   "id": "utility-welcome",
   "metadata": {},
   "source": [
    "### Array vs List\n",
    "1. Array can contain more than one dimensions\n",
    "2. Array can only contain element with the same type\n",
    "3. Mathematics operation can apply"
   ]
  },
  {
   "cell_type": "code",
   "execution_count": 2,
   "id": "animated-nicholas",
   "metadata": {},
   "outputs": [],
   "source": [
    "# create list and numpy array\n",
    "sebuah_list = [1, 2, 3, 4, 5, 6]\n",
    "sebuah_array = np.array([1, 2, 3, 4, 5, 6])\n",
    "\n",
    "# create list matrix and numpy array \n",
    "sebuah_matrix = [[1, 2, 3], [4, 5, 6], [7, 8, 9]]\n",
    "array_matrix = np.array(sebuah_matrix)"
   ]
  },
  {
   "cell_type": "code",
   "execution_count": 3,
   "id": "promising-sending",
   "metadata": {},
   "outputs": [
    {
     "name": "stdout",
     "output_type": "stream",
     "text": [
      "[1, 2, 3, 4, 5, 6, 1, 2, 3, 4, 5, 6]\n",
      "[ 2  4  6  8 10 12]\n"
     ]
    }
   ],
   "source": [
    "print(sebuah_list * 2)\n",
    "print(sebuah_array * 2)"
   ]
  },
  {
   "cell_type": "markdown",
   "id": "polyphonic-person",
   "metadata": {},
   "source": [
    "### Build in Method"
   ]
  },
  {
   "cell_type": "markdown",
   "id": "transparent-investigation",
   "metadata": {},
   "source": [
    "#### List of zeros and ones"
   ]
  },
  {
   "cell_type": "code",
   "execution_count": 4,
   "id": "proper-robinson",
   "metadata": {},
   "outputs": [
    {
     "data": {
      "text/plain": [
       "array([[1, 1, 1, 1, 1],\n",
       "       [1, 1, 1, 1, 1]], dtype=int64)"
      ]
     },
     "execution_count": 4,
     "metadata": {},
     "output_type": "execute_result"
    }
   ],
   "source": [
    "np.zeros((2, 5))\n",
    "\n",
    "np.ones((2, 5), dtype='int64')"
   ]
  },
  {
   "cell_type": "markdown",
   "id": "domestic-mirror",
   "metadata": {},
   "source": [
    "#### Range"
   ]
  },
  {
   "cell_type": "code",
   "execution_count": 5,
   "id": "requested-authority",
   "metadata": {},
   "outputs": [
    {
     "data": {
      "text/plain": [
       "array([0, 1, 2, 3, 4, 5, 6, 7, 8, 9])"
      ]
     },
     "execution_count": 5,
     "metadata": {},
     "output_type": "execute_result"
    }
   ],
   "source": [
    "np.arange(10)"
   ]
  },
  {
   "cell_type": "code",
   "execution_count": 6,
   "id": "automated-angel",
   "metadata": {},
   "outputs": [
    {
     "data": {
      "text/plain": [
       "array([ 5,  6,  7,  8,  9, 10, 11, 12, 13, 14, 15, 16, 17, 18, 19])"
      ]
     },
     "execution_count": 6,
     "metadata": {},
     "output_type": "execute_result"
    }
   ],
   "source": [
    "np.arange(5, 20)"
   ]
  },
  {
   "cell_type": "code",
   "execution_count": 7,
   "id": "wicked-edmonton",
   "metadata": {},
   "outputs": [
    {
     "data": {
      "text/plain": [
       "array([ 5, 10, 15, 20, 25, 30, 35, 40, 45, 50, 55, 60, 65, 70, 75, 80, 85,\n",
       "       90, 95])"
      ]
     },
     "execution_count": 7,
     "metadata": {},
     "output_type": "execute_result"
    }
   ],
   "source": [
    "np.arange(5, 100, 5)"
   ]
  },
  {
   "cell_type": "markdown",
   "id": "permanent-catering",
   "metadata": {},
   "source": [
    "#### Array with an evenly divided range"
   ]
  },
  {
   "cell_type": "code",
   "execution_count": 8,
   "id": "treated-wiring",
   "metadata": {},
   "outputs": [
    {
     "data": {
      "text/plain": [
       "array([ 0. ,  2.5,  5. ,  7.5, 10. ])"
      ]
     },
     "execution_count": 8,
     "metadata": {},
     "output_type": "execute_result"
    }
   ],
   "source": [
    "np.linspace(0, 10, 5)"
   ]
  },
  {
   "cell_type": "code",
   "execution_count": 9,
   "id": "decimal-breathing",
   "metadata": {},
   "outputs": [
    {
     "data": {
      "text/plain": [
       "array([  0,  25,  50,  75, 100], dtype=int64)"
      ]
     },
     "execution_count": 9,
     "metadata": {},
     "output_type": "execute_result"
    }
   ],
   "source": [
    "np.linspace(0, 100, 5, dtype='int64')"
   ]
  },
  {
   "cell_type": "markdown",
   "id": "increasing-patio",
   "metadata": {},
   "source": [
    "#### Array containing a sample"
   ]
  },
  {
   "cell_type": "code",
   "execution_count": 10,
   "id": "attractive-stand",
   "metadata": {},
   "outputs": [
    {
     "data": {
      "text/plain": [
       "array([0.8910878 , 0.58595731])"
      ]
     },
     "execution_count": 10,
     "metadata": {},
     "output_type": "execute_result"
    }
   ],
   "source": [
    "np.random.randn(2)"
   ]
  },
  {
   "cell_type": "code",
   "execution_count": 11,
   "id": "cosmetic-cabin",
   "metadata": {},
   "outputs": [
    {
     "data": {
      "text/plain": [
       "array([[ 0.30078798, -1.59956956,  0.77369382],\n",
       "       [-0.70914272,  0.18951748,  0.89069264]])"
      ]
     },
     "execution_count": 11,
     "metadata": {},
     "output_type": "execute_result"
    }
   ],
   "source": [
    "np.random.randn(2, 3)"
   ]
  },
  {
   "cell_type": "code",
   "execution_count": 12,
   "id": "united-board",
   "metadata": {},
   "outputs": [
    {
     "data": {
      "text/plain": [
       "array([64, 26, 87, 49, 49, 96, 15])"
      ]
     },
     "execution_count": 12,
     "metadata": {},
     "output_type": "execute_result"
    }
   ],
   "source": [
    "np.random.randint(2, 100, 7)"
   ]
  },
  {
   "cell_type": "code",
   "execution_count": 13,
   "id": "portable-train",
   "metadata": {},
   "outputs": [
    {
     "data": {
      "text/plain": [
       "array([[56, 94, 50, 66],\n",
       "       [88, 28, 24, 89],\n",
       "       [23, 12, 90, 52]])"
      ]
     },
     "execution_count": 13,
     "metadata": {},
     "output_type": "execute_result"
    }
   ],
   "source": [
    "np.random.randint(2, 100, [3, 4])  # low, hieght, size"
   ]
  },
  {
   "cell_type": "markdown",
   "id": "dramatic-dance",
   "metadata": {},
   "source": [
    "### Array Attribute"
   ]
  },
  {
   "cell_type": "code",
   "execution_count": 14,
   "id": "respective-pattern",
   "metadata": {},
   "outputs": [
    {
     "name": "stdout",
     "output_type": "stream",
     "text": [
      "21\n",
      "1\n",
      "6\n",
      "3.5\n"
     ]
    }
   ],
   "source": [
    "# sum, min, max, mean\n",
    "array1 = np.array([1, 2, 3, 4, 5, 6])\n",
    "print(array1.sum())\n",
    "print(array1.min())\n",
    "print(array1.max())\n",
    "print(array1.mean())"
   ]
  },
  {
   "cell_type": "code",
   "execution_count": 15,
   "id": "outdoor-criterion",
   "metadata": {},
   "outputs": [
    {
     "data": {
      "text/plain": [
       "array([[ 6,  2,  2,  1, 11],\n",
       "       [19,  6, 15,  7,  7],\n",
       "       [20, 13,  2, 17, 18],\n",
       "       [ 8,  6,  8, 14, 10]])"
      ]
     },
     "execution_count": 15,
     "metadata": {},
     "output_type": "execute_result"
    }
   ],
   "source": [
    "a1 = np.random.randint(1, 21, [4, 5])\n",
    "a1"
   ]
  },
  {
   "cell_type": "code",
   "execution_count": 16,
   "id": "average-europe",
   "metadata": {},
   "outputs": [
    {
     "data": {
      "text/plain": [
       "array([6, 2, 2, 1, 7])"
      ]
     },
     "execution_count": 16,
     "metadata": {},
     "output_type": "execute_result"
    }
   ],
   "source": [
    "a1.min(axis=0)"
   ]
  },
  {
   "cell_type": "code",
   "execution_count": 17,
   "id": "aware-collective",
   "metadata": {},
   "outputs": [
    {
     "data": {
      "text/plain": [
       "array([1, 6, 2, 6])"
      ]
     },
     "execution_count": 17,
     "metadata": {},
     "output_type": "execute_result"
    }
   ],
   "source": [
    "a1.min(axis=1)"
   ]
  },
  {
   "cell_type": "code",
   "execution_count": 18,
   "id": "contrary-thesaurus",
   "metadata": {},
   "outputs": [
    {
     "name": "stdout",
     "output_type": "stream",
     "text": [
      "[[4 4 8 9]\n",
      " [2 5 3 8]\n",
      " [6 4 8 9]]\n",
      "(3, 4)\n",
      "12\n",
      "[[4 4 8]\n",
      " [9 2 5]\n",
      " [3 8 6]\n",
      " [4 8 9]]\n"
     ]
    }
   ],
   "source": [
    "# shape, size, reshape\n",
    "arr = np.random.randint(1, 10, [3, 4])\n",
    "print(arr)\n",
    "print(arr.shape)\n",
    "print(arr.size)\n",
    "print(arr.reshape(4, 3))"
   ]
  },
  {
   "cell_type": "markdown",
   "id": "operational-mozambique",
   "metadata": {},
   "source": [
    "### Indexing and Slicing"
   ]
  },
  {
   "cell_type": "code",
   "execution_count": 19,
   "id": "political-concern",
   "metadata": {},
   "outputs": [
    {
     "data": {
      "text/plain": [
       "array([ 0,  1,  2,  3,  4,  5,  6,  7,  8,  9, 10, 11, 12, 13, 14, 15, 16,\n",
       "       17, 18, 19])"
      ]
     },
     "execution_count": 19,
     "metadata": {},
     "output_type": "execute_result"
    }
   ],
   "source": [
    "sebuah_array = np.arange(20)\n",
    "sebuah_array"
   ]
  },
  {
   "cell_type": "code",
   "execution_count": 20,
   "id": "mobile-oriental",
   "metadata": {},
   "outputs": [
    {
     "data": {
      "text/plain": [
       "array([0, 1, 2, 3, 4, 5])"
      ]
     },
     "execution_count": 20,
     "metadata": {},
     "output_type": "execute_result"
    }
   ],
   "source": [
    "sebuah_array[:6]"
   ]
  },
  {
   "cell_type": "code",
   "execution_count": 21,
   "id": "understanding-orientation",
   "metadata": {},
   "outputs": [
    {
     "data": {
      "text/plain": [
       "array([ 5,  6,  7,  8,  9, 10, 11, 12, 13])"
      ]
     },
     "execution_count": 21,
     "metadata": {},
     "output_type": "execute_result"
    }
   ],
   "source": [
    "sebuah_array[5:14]"
   ]
  },
  {
   "cell_type": "code",
   "execution_count": 22,
   "id": "divine-brief",
   "metadata": {},
   "outputs": [
    {
     "data": {
      "text/plain": [
       "array([12, 14, 16, 18])"
      ]
     },
     "execution_count": 22,
     "metadata": {},
     "output_type": "execute_result"
    }
   ],
   "source": [
    "sebuah_array[(sebuah_array%2 == 0) & (sebuah_array > 10)]"
   ]
  },
  {
   "cell_type": "markdown",
   "id": "cosmetic-inspiration",
   "metadata": {},
   "source": [
    "### Create Array from Existing Data"
   ]
  },
  {
   "cell_type": "code",
   "execution_count": 23,
   "id": "artistic-lewis",
   "metadata": {},
   "outputs": [],
   "source": [
    "a1 = np.array([[1, 1], \n",
    "             [2, 2]])\n",
    "\n",
    "a2 = np.array([[3, 3], \n",
    "             [4, 4]])"
   ]
  },
  {
   "cell_type": "code",
   "execution_count": 24,
   "id": "social-toolbox",
   "metadata": {},
   "outputs": [
    {
     "data": {
      "text/plain": [
       "array([[1, 1],\n",
       "       [2, 2],\n",
       "       [3, 3],\n",
       "       [4, 4]])"
      ]
     },
     "execution_count": 24,
     "metadata": {},
     "output_type": "execute_result"
    }
   ],
   "source": [
    "np.vstack((a1, a2)) # jumlah kolom harus sama"
   ]
  },
  {
   "cell_type": "code",
   "execution_count": 25,
   "id": "conceptual-yorkshire",
   "metadata": {},
   "outputs": [
    {
     "data": {
      "text/plain": [
       "array([[1, 1, 3, 3],\n",
       "       [2, 2, 4, 4]])"
      ]
     },
     "execution_count": 25,
     "metadata": {},
     "output_type": "execute_result"
    }
   ],
   "source": [
    "np.hstack((a1, a2)) # jumlah baris harus sama"
   ]
  },
  {
   "cell_type": "code",
   "execution_count": 26,
   "id": "lyric-powder",
   "metadata": {},
   "outputs": [
    {
     "data": {
      "text/plain": [
       "array([[ 1,  2,  3,  4,  5,  6,  7,  8,  9, 10, 11, 12],\n",
       "       [13, 14, 15, 16, 17, 18, 19, 20, 21, 22, 23, 24]])"
      ]
     },
     "execution_count": 26,
     "metadata": {},
     "output_type": "execute_result"
    }
   ],
   "source": [
    "x = np.arange(1, 25).reshape(2, 12)\n",
    "x"
   ]
  },
  {
   "cell_type": "code",
   "execution_count": 27,
   "id": "hydraulic-aging",
   "metadata": {},
   "outputs": [
    {
     "data": {
      "text/plain": [
       "[array([[ 1,  2,  3],\n",
       "        [13, 14, 15]]),\n",
       " array([[ 4,  5,  6],\n",
       "        [16, 17, 18]]),\n",
       " array([[ 7,  8,  9],\n",
       "        [19, 20, 21]]),\n",
       " array([[10, 11, 12],\n",
       "        [22, 23, 24]])]"
      ]
     },
     "execution_count": 27,
     "metadata": {},
     "output_type": "execute_result"
    }
   ],
   "source": [
    "np.hsplit(x, 4)"
   ]
  },
  {
   "cell_type": "markdown",
   "id": "acoustic-pursuit",
   "metadata": {},
   "source": [
    "### Basic Array Operations"
   ]
  },
  {
   "cell_type": "code",
   "execution_count": 28,
   "id": "radical-sleeve",
   "metadata": {},
   "outputs": [
    {
     "data": {
      "text/plain": [
       "array([ 1,  2,  3,  4,  5,  6,  7,  8,  9, 10])"
      ]
     },
     "execution_count": 28,
     "metadata": {},
     "output_type": "execute_result"
    }
   ],
   "source": [
    "a1 = np.arange(1, 11)\n",
    "a1"
   ]
  },
  {
   "cell_type": "code",
   "execution_count": 29,
   "id": "sudden-convenience",
   "metadata": {},
   "outputs": [
    {
     "data": {
      "text/plain": [
       "array([ 2,  4,  6,  8, 10, 12, 14, 16, 18, 20])"
      ]
     },
     "execution_count": 29,
     "metadata": {},
     "output_type": "execute_result"
    }
   ],
   "source": [
    "a1 * 2"
   ]
  },
  {
   "cell_type": "code",
   "execution_count": 30,
   "id": "sapphire-referral",
   "metadata": {
    "scrolled": true
   },
   "outputs": [
    {
     "data": {
      "text/plain": [
       "array([0.5, 1. , 1.5, 2. , 2.5, 3. , 3.5, 4. , 4.5, 5. ])"
      ]
     },
     "execution_count": 30,
     "metadata": {},
     "output_type": "execute_result"
    }
   ],
   "source": [
    "a1 / 2"
   ]
  },
  {
   "cell_type": "markdown",
   "id": "unexpected-suspect",
   "metadata": {},
   "source": [
    "### Exercise"
   ]
  },
  {
   "cell_type": "code",
   "execution_count": 31,
   "id": "frozen-tourist",
   "metadata": {},
   "outputs": [
    {
     "data": {
      "text/plain": [
       "array([5, 5, 5, 5, 5, 5, 5, 5, 5, 5], dtype=int64)"
      ]
     },
     "execution_count": 31,
     "metadata": {},
     "output_type": "execute_result"
    }
   ],
   "source": [
    "# 1. Buat array dengan output seperti ini\n",
    "np.random.randint(5, 6, 10, dtype='int64')"
   ]
  },
  {
   "cell_type": "code",
   "execution_count": 32,
   "id": "nasty-annual",
   "metadata": {},
   "outputs": [
    {
     "data": {
      "text/plain": [
       "array([[1, 2, 3],\n",
       "       [3, 4, 5],\n",
       "       [5, 6, 7]])"
      ]
     },
     "execution_count": 32,
     "metadata": {},
     "output_type": "execute_result"
    }
   ],
   "source": [
    "np.array([range(i, i+3) for i in [1, 3, 5]])"
   ]
  },
  {
   "cell_type": "code",
   "execution_count": 33,
   "id": "systematic-packing",
   "metadata": {},
   "outputs": [
    {
     "data": {
      "text/plain": [
       "array([[1, 2, 3],\n",
       "       [3, 4, 5],\n",
       "       [5, 6, 7]])"
      ]
     },
     "execution_count": 33,
     "metadata": {},
     "output_type": "execute_result"
    }
   ],
   "source": [
    "np.array([[1, 2, 3],\n",
    "         [3, 4, 5],\n",
    "         [5, 6, 7]])"
   ]
  },
  {
   "cell_type": "code",
   "execution_count": 34,
   "id": "underlying-light",
   "metadata": {},
   "outputs": [
    {
     "data": {
      "text/plain": [
       "array([[9, 8, 7],\n",
       "       [6, 5, 4],\n",
       "       [3, 2, 1]])"
      ]
     },
     "execution_count": 34,
     "metadata": {},
     "output_type": "execute_result"
    }
   ],
   "source": [
    "# 3. \n",
    "a1 =np.arange(1, 10).reshape(3, 3)\n",
    "a1[::-1, ::-1]"
   ]
  },
  {
   "cell_type": "code",
   "execution_count": 35,
   "id": "renewable-credit",
   "metadata": {},
   "outputs": [],
   "source": [
    "def create_matrix(start=1):\n",
    "    output = np.array([range(i, i+3) for i in [start, start+2, start+4]])\n",
    "    return output"
   ]
  },
  {
   "cell_type": "code",
   "execution_count": 36,
   "id": "bridal-sense",
   "metadata": {},
   "outputs": [
    {
     "data": {
      "text/plain": [
       "array([[1, 2, 3],\n",
       "       [3, 4, 5],\n",
       "       [5, 6, 7]])"
      ]
     },
     "execution_count": 36,
     "metadata": {},
     "output_type": "execute_result"
    }
   ],
   "source": [
    "create_matrix()"
   ]
  },
  {
   "cell_type": "code",
   "execution_count": 37,
   "id": "ruled-mattress",
   "metadata": {},
   "outputs": [
    {
     "data": {
      "text/plain": [
       "array([[3, 4, 5],\n",
       "       [5, 6, 7],\n",
       "       [7, 8, 9]])"
      ]
     },
     "execution_count": 37,
     "metadata": {},
     "output_type": "execute_result"
    }
   ],
   "source": [
    "create_matrix(3)"
   ]
  }
 ],
 "metadata": {
  "kernelspec": {
   "display_name": "Python 3",
   "language": "python",
   "name": "python3"
  },
  "language_info": {
   "codemirror_mode": {
    "name": "ipython",
    "version": 3
   },
   "file_extension": ".py",
   "mimetype": "text/x-python",
   "name": "python",
   "nbconvert_exporter": "python",
   "pygments_lexer": "ipython3",
   "version": "3.8.2"
  }
 },
 "nbformat": 4,
 "nbformat_minor": 5
}
