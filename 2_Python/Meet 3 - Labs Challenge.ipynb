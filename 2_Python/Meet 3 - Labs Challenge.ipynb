{
 "cells": [
  {
   "cell_type": "markdown",
   "metadata": {},
   "source": [
    "# Session 12 - 13"
   ]
  },
  {
   "cell_type": "markdown",
   "metadata": {},
   "source": [
    "### Nomer 1\n",
    "\n",
    "**Mengecek apakah suatu kata palindrome atau bukan**\n",
    "\n",
    "Palindrom adalah sebuah kata, frasa, angka maupun susunan lainnya yang dapat dibaca dengan sama baik dari depan maupun belakang (spasi antara huruf-huruf biasanya diperbolehkan). \n",
    "\n",
    "Notes :\n",
    "- Jadikan sebuah fungsi (lebih baik)\n",
    "- Gunakan loop dan conditional statement\n",
    "\n",
    "Contoh hasil :\n",
    "\n",
    "> Input : cek_palindrome('wadidaw')\n",
    "\n",
    "> Output : 'Iya kata 'wadidaw', merupakan palindrome'"
   ]
  },
  {
   "cell_type": "code",
   "execution_count": 5,
   "metadata": {},
   "outputs": [
    {
     "data": {
      "text/plain": [
       "'makam termasuk palindrome'"
      ]
     },
     "execution_count": 5,
     "metadata": {},
     "output_type": "execute_result"
    }
   ],
   "source": [
    "def cek_palindrome(kata):\n",
    "    kata = kata.lower()\n",
    "    if kata == kata[::-1]:\n",
    "        result = '{} termasuk palindrome'.format(kata)\n",
    "    else:\n",
    "        result = '{} bukan palindrome'.format(kata)\n",
    "    return result\n",
    "\n",
    "cek_palindrome('makam')"
   ]
  },
  {
   "cell_type": "markdown",
   "metadata": {},
   "source": [
    "### Nomer 2\n",
    "\n",
    "**Mendapatkan jumlah elemen dalam list tanpa menggunakan \"len\"**\n",
    "\n",
    "Notes : \n",
    "- Jadikan sebuah fungsi (lebih baik)\n",
    "- Gunakan loop\n",
    "\n",
    "Contoh :\n",
    "> Input : jumlah_elemen([1, 2, 3, 4, 5])\n",
    "\n",
    "> Output : 5"
   ]
  },
  {
   "cell_type": "code",
   "execution_count": 6,
   "metadata": {},
   "outputs": [
    {
     "data": {
      "text/plain": [
       "7"
      ]
     },
     "execution_count": 6,
     "metadata": {},
     "output_type": "execute_result"
    }
   ],
   "source": [
    "def jumlah_elemen(list_angka):\n",
    "    n = 0\n",
    "    for i in list_angka:\n",
    "        n += 1\n",
    "    \n",
    "    return n\n",
    "        \n",
    "jumlah_elemen([19, 7, 8, 989, 3, 4, 5])"
   ]
  },
  {
   "cell_type": "markdown",
   "metadata": {},
   "source": [
    "### Nomer 3\n",
    "\n",
    "**Mendapatkan nilai maksimum suatu list tanpa menggunakan \"max\"**\n",
    "\n",
    "Notes :\n",
    "- Jadikan sebuah fungsi (lebih baik)\n",
    "- Gunakan loop dan conditional statement\n",
    "\n",
    "Contoh hasil :\n",
    "\n",
    "> Input : maksimal([2, 3, 5, 1, 9])\n",
    "\n",
    "> Output : 9"
   ]
  },
  {
   "cell_type": "code",
   "execution_count": 7,
   "metadata": {},
   "outputs": [
    {
     "data": {
      "text/plain": [
       "10"
      ]
     },
     "execution_count": 7,
     "metadata": {},
     "output_type": "execute_result"
    }
   ],
   "source": [
    "def maksimal(list_angka):\n",
    "    tertinggi = list_angka[0]\n",
    "    \n",
    "    for i in list_angka:\n",
    "        if i > tertinggi:\n",
    "            tertinggi = i\n",
    "    return tertinggi\n",
    "\n",
    "maksimal([1, 2, 4, 5, 6, 5, 10])"
   ]
  },
  {
   "cell_type": "markdown",
   "metadata": {},
   "source": [
    "### Nomer 4\n",
    "\n",
    "**Mendapatkan nilai minimal tanpa menggunakan \"min\"**\n",
    "\n",
    "Notes :\n",
    "- Jadikan sebuah fungsi (lebih baik)\n",
    "- Gunakan loop dan conditional statement\n",
    "\n",
    "Contoh hasil :\n",
    "\n",
    "> Input : minimal([2, 3, 5, 1, 9])\n",
    "\n",
    "> Output : 1"
   ]
  },
  {
   "cell_type": "code",
   "execution_count": 8,
   "metadata": {},
   "outputs": [
    {
     "data": {
      "text/plain": [
       "2"
      ]
     },
     "execution_count": 8,
     "metadata": {},
     "output_type": "execute_result"
    }
   ],
   "source": [
    "def maksimal(list_angka):\n",
    "    terendah = list_angka[0]\n",
    "    \n",
    "    for i in list_angka:\n",
    "        if i < terendah:\n",
    "            terendah = i\n",
    "    return terendah\n",
    "\n",
    "maksimal([2, 4, 5, 6, 5, 10])"
   ]
  },
  {
   "cell_type": "markdown",
   "metadata": {},
   "source": [
    "### Nomer 5\n",
    "\n",
    "**Remove elemen yang terduplikasi dalam sebuah list, kemudian membuat list baru yang berisi elemen tanpa ada yang terduplikasi**\n",
    "\n",
    "Notes :\n",
    "Notes :\n",
    "- Jadikan sebuah fungsi (lebih baik)\n",
    "- Gunakan loop dan conditional statement\n",
    "\n",
    "Contoh hasil :\n",
    "\n",
    "> Input :  list_unik(['Jakarta', 'Bandung', 'Depok', 'Brau', 'Jakarta', 'Depok'])\n",
    "\n",
    "> Output : ['Jakarta', 'Bandung', 'Depok', 'Brau']"
   ]
  },
  {
   "cell_type": "code",
   "execution_count": 9,
   "metadata": {},
   "outputs": [
    {
     "data": {
      "text/plain": [
       "['insan', 'cahya', 'Insan', 'setia', 'bagas']"
      ]
     },
     "execution_count": 9,
     "metadata": {},
     "output_type": "execute_result"
    }
   ],
   "source": [
    "def list_unik(list_kata):\n",
    "    unik = []\n",
    "    for i in list_kata:\n",
    "        if i not in unik:\n",
    "            unik.append(i)\n",
    "        else:\n",
    "            pass\n",
    "    return unik\n",
    "\n",
    "list_unik(['insan', 'cahya', 'Insan', 'cahya', 'setia', 'insan', 'bagas'])"
   ]
  },
  {
   "cell_type": "markdown",
   "metadata": {},
   "source": [
    "### Nomer 6\n",
    "\n",
    "**Buat Function yang bernama 'gambar_bintang()' yang dapat menghasilkan output sebagai berikut :**\n",
    "\n",
    "(Kode di bawah ini harap jangan dijalankan, apabila dijalankan maka dapat menghilangkan contoh output yang diharapkan)"
   ]
  },
  {
   "cell_type": "code",
   "execution_count": 10,
   "metadata": {},
   "outputs": [],
   "source": [
    "def gambar_bintang(angka):\n",
    "    a = int(angka/2)\n",
    "    z = ''\n",
    "\n",
    "    for i in range(a):\n",
    "        for j in range(a-i):\n",
    "            z += ' * '\n",
    "        z += '\\n'\n",
    "    for i in range(a-1):\n",
    "        for j in range(2+i):\n",
    "            z += ' * '\n",
    "        z += '\\n'\n",
    "    \n",
    "    print(z)"
   ]
  },
  {
   "cell_type": "code",
   "execution_count": 11,
   "metadata": {},
   "outputs": [
    {
     "name": "stdout",
     "output_type": "stream",
     "text": [
      " *  *  *  *  *  *  *  *  *  * \n",
      " *  *  *  *  *  *  *  *  * \n",
      " *  *  *  *  *  *  *  * \n",
      " *  *  *  *  *  *  * \n",
      " *  *  *  *  *  * \n",
      " *  *  *  *  * \n",
      " *  *  *  * \n",
      " *  *  * \n",
      " *  * \n",
      " * \n",
      " *  * \n",
      " *  *  * \n",
      " *  *  *  * \n",
      " *  *  *  *  * \n",
      " *  *  *  *  *  * \n",
      " *  *  *  *  *  *  * \n",
      " *  *  *  *  *  *  *  * \n",
      " *  *  *  *  *  *  *  *  * \n",
      " *  *  *  *  *  *  *  *  *  * \n",
      "\n"
     ]
    }
   ],
   "source": [
    "gambar_bintang(20)"
   ]
  },
  {
   "cell_type": "markdown",
   "metadata": {},
   "source": [
    "Notes :\n",
    "Notes :\n",
    "- Fungsi tersebut menerima satu parameter yang menunjukkan ukuran dari shape\n",
    "- Gunakan Nested Loop untuk memecahkan permasalahan tersebut\n"
   ]
  },
  {
   "cell_type": "markdown",
   "metadata": {},
   "source": [
    "### Nomer 7\n",
    "\n",
    "**Buat program yang dapat menghasilkan output sebagai berikut :**\n",
    "\n",
    "(Kode di bawah ini harap jangan dijalankan, apabila dijalankan maka dapat menghilangkan contoh output yang diharapkan)"
   ]
  },
  {
   "cell_type": "code",
   "execution_count": null,
   "metadata": {
    "scrolled": true
   },
   "outputs": [],
   "source": []
  },
  {
   "cell_type": "markdown",
   "metadata": {},
   "source": [
    "Notes :\n",
    "Notes :\n",
    "- Gunakan Nested Loop untuk memecahkan permasalahan tersebut\n",
    "- Gunakan pula conditional statement untuk melengkapi penyelesaian soal di atas\n"
   ]
  },
  {
   "cell_type": "code",
   "execution_count": 12,
   "metadata": {},
   "outputs": [
    {
     "name": "stdout",
     "output_type": "stream",
     "text": [
      " |  |  |  |  |  |  |  |  |  | \n",
      " |  |  |  |  |  |  |  |  |  * \n",
      " |  |  |  |  |  |  |  |  *  * \n",
      " |  |  |  |  |  |  |  *  *  * \n",
      " |  |  |  |  |  |  *  *  *  * \n",
      " |  |  |  |  |  *  *  *  *  * \n",
      " |  |  |  |  *  *  *  *  *  * \n",
      " |  |  |  *  *  *  *  *  *  * \n",
      " |  |  *  *  *  *  *  *  *  * \n",
      " |  *  *  *  *  *  *  *  *  * \n",
      "\n"
     ]
    }
   ],
   "source": [
    "z = ''\n",
    "for i in range(10):\n",
    "    for j in range(10):\n",
    "        if j < len(range(10))-i:\n",
    "            z += ' | '\n",
    "        else:\n",
    "            z += ' * '\n",
    "    z+= '\\n'\n",
    "print(z)"
   ]
  },
  {
   "cell_type": "markdown",
   "metadata": {},
   "source": [
    "### Nomer 8\n",
    "\n",
    "**Buat program yang dapat menghasilkan output kebalikan dari soal nomer 6 sebagai berikut :**\n",
    "\n",
    "(Kode di bawah ini harap jangan dijalankan, apabila dijalankan maka dapat menghilangkan contoh output yang diharapkan)"
   ]
  },
  {
   "cell_type": "code",
   "execution_count": null,
   "metadata": {},
   "outputs": [],
   "source": []
  },
  {
   "cell_type": "markdown",
   "metadata": {},
   "source": [
    "Notes : \n",
    "- Gunakan Nested Loop untuk memecahkan permasalahan tersebut\n",
    "- Tidak perlu buat fungsi untuk menyelesaikan soal ini"
   ]
  },
  {
   "cell_type": "code",
   "execution_count": 13,
   "metadata": {},
   "outputs": [
    {
     "name": "stdout",
     "output_type": "stream",
     "text": [
      " *  *  *  *  *  *  *  *  *  * \n",
      "    *  *  *  *  *  *  *  *  * \n",
      "       *  *  *  *  *  *  *  * \n",
      "          *  *  *  *  *  *  * \n",
      "             *  *  *  *  *  * \n",
      "                *  *  *  *  * \n",
      "                   *  *  *  * \n",
      "                      *  *  * \n",
      "                         *  * \n",
      "                            * \n",
      "                            * \n",
      "                         *  * \n",
      "                      *  *  * \n",
      "                   *  *  *  * \n",
      "                *  *  *  *  * \n",
      "             *  *  *  *  *  * \n",
      "          *  *  *  *  *  *  * \n",
      "       *  *  *  *  *  *  *  * \n",
      "    *  *  *  *  *  *  *  *  * \n",
      "\n"
     ]
    }
   ],
   "source": [
    "z = ''\n",
    "for i in range(10):\n",
    "    for j in range(10):\n",
    "        if j >= 0+i:\n",
    "            z += ' * '\n",
    "        else:\n",
    "            z += '   '\n",
    "    z+= '\\n'\n",
    "for i in range(1, 10):\n",
    "    for j in range(10):\n",
    "        if j < len(range(10))-i:\n",
    "            z += '   '\n",
    "        else:\n",
    "            z += ' * '\n",
    "    z+= '\\n'\n",
    "print(z)"
   ]
  },
  {
   "cell_type": "markdown",
   "metadata": {},
   "source": [
    "### Nomer 9\n",
    "\n",
    "**Buat program yang dapat menghasilkan output sebagai berikut :**\n",
    "\n",
    "(Kode di bawah ini harap jangan dijalankan, apabila dijalankan maka dapat menghilangkan contoh output yang diharapkan)"
   ]
  },
  {
   "cell_type": "code",
   "execution_count": null,
   "metadata": {
    "scrolled": false
   },
   "outputs": [],
   "source": []
  },
  {
   "cell_type": "markdown",
   "metadata": {},
   "source": [
    "Notes :\n",
    "\n",
    "- Gunakan Nested Loop untuk memecahkan permasalahan tersebut\n",
    "- Gunakan pula conditional statement untuk mendapatkan hasil di atas"
   ]
  },
  {
   "cell_type": "code",
   "execution_count": 14,
   "metadata": {},
   "outputs": [
    {
     "name": "stdout",
     "output_type": "stream",
     "text": [
      " *  *  *  *  *  *  *  *  *  *  *  *  *  *  *  *  *  *  *  * \n",
      " *  *  *  *  *  *  *  *  *        *  *  *  *  *  *  *  *  * \n",
      " *  *  *  *  *  *  *  *              *  *  *  *  *  *  *  * \n",
      " *  *  *  *  *  *  *                    *  *  *  *  *  *  * \n",
      " *  *  *  *  *  *                          *  *  *  *  *  * \n",
      " *  *  *  *  *                                *  *  *  *  * \n",
      " *  *  *  *                                      *  *  *  * \n",
      " *  *  *                                            *  *  * \n",
      " *  *                                                  *  * \n",
      " *                                                        * \n",
      " *                                                        * \n",
      " *  *                                                  *  * \n",
      " *  *  *                                            *  *  * \n",
      " *  *  *  *                                      *  *  *  * \n",
      " *  *  *  *  *                                *  *  *  *  * \n",
      " *  *  *  *  *  *                          *  *  *  *  *  * \n",
      " *  *  *  *  *  *  *                    *  *  *  *  *  *  * \n",
      " *  *  *  *  *  *  *  *              *  *  *  *  *  *  *  * \n",
      " *  *  *  *  *  *  *  *  *        *  *  *  *  *  *  *  *  * \n",
      " *  *  *  *  *  *  *  *  *  *  *  *  *  *  *  *  *  *  *  * \n",
      "\n"
     ]
    }
   ],
   "source": [
    "z = ''\n",
    "for i in range(10):\n",
    "    for j in range(20):\n",
    "        if j < 10-i or j > 9+i:\n",
    "            z += ' * '\n",
    "        else:\n",
    "            z += '   '\n",
    "    z+= '\\n'\n",
    "for i in range(10):\n",
    "    for j in range(20):\n",
    "        if j > i and j < 19-i:\n",
    "            z += '   '\n",
    "        else:\n",
    "            z += ' * '\n",
    "    z+= '\\n'    \n",
    "print(z)"
   ]
  },
  {
   "cell_type": "markdown",
   "metadata": {},
   "source": [
    "### Nomer 10\n",
    "\n",
    "**Buat Function bernama \"pohon_natal()\" yang dapat menghasilkan output sebagai berikut :**\n",
    "\n",
    "(Kode di bawah ini harap jangan dijalankan, apabila dijalankan maka dapat menghilangkan contoh output yang diharapkan)"
   ]
  },
  {
   "cell_type": "code",
   "execution_count": 15,
   "metadata": {},
   "outputs": [],
   "source": [
    "#Bikin functionnya\n",
    "\n",
    "def pohon_natal(daun_atas, daun_tengah, daun_bawah, batang):\n",
    "\n",
    "    z = ''\n",
    "\n",
    "    for k in [daun_atas,daun_tengah,daun_bawah]:\n",
    "        for i in range (k):\n",
    "            for j in range (20):\n",
    "                if j < 9-i or j > 9+i:\n",
    "                    z += '   '\n",
    "                else:\n",
    "                    z += ' * '\n",
    "            z+='\\n'\n",
    "\n",
    "    for i in range (batang):\n",
    "        for j in range (20):\n",
    "            if j >= 8 and j <11:\n",
    "                z += ' * '\n",
    "            else:\n",
    "                z += '   '\n",
    "        z+='\\n'\n",
    "\n",
    "    print(z)"
   ]
  },
  {
   "cell_type": "markdown",
   "metadata": {},
   "source": [
    "Notes :\n",
    "\n",
    "- Fungsi pohon_natal() menerima 4 parameter :\n",
    "    - batang : menunjukkan tinggi batang di paling bawah pohon\n",
    "    - daun_dasar : menunjukkan ukuran segitiga daun di paling dasar\n",
    "    - daun_tengah : menunjukkan ukuran segitiga daun di tengah\n",
    "    - daun_atas : menunjukkan ukurang segitiga daun di puncak/atas pohon\n",
    "        \n",
    "- Gunakan Nested Loop untuk memecahkan permasalahan tersebut\n",
    "- Gunakan pula conditional statement untuk mendapatkan hasil di atas"
   ]
  },
  {
   "cell_type": "code",
   "execution_count": 16,
   "metadata": {},
   "outputs": [
    {
     "name": "stdout",
     "output_type": "stream",
     "text": [
      "                            *                               \n",
      "                         *  *  *                            \n",
      "                      *  *  *  *  *                         \n",
      "                   *  *  *  *  *  *  *                      \n",
      "                *  *  *  *  *  *  *  *  *                   \n",
      "                            *                               \n",
      "                         *  *  *                            \n",
      "                      *  *  *  *  *                         \n",
      "                   *  *  *  *  *  *  *                      \n",
      "                *  *  *  *  *  *  *  *  *                   \n",
      "             *  *  *  *  *  *  *  *  *  *  *                \n",
      "          *  *  *  *  *  *  *  *  *  *  *  *  *             \n",
      "       *  *  *  *  *  *  *  *  *  *  *  *  *  *  *          \n",
      "    *  *  *  *  *  *  *  *  *  *  *  *  *  *  *  *  *       \n",
      "                            *                               \n",
      "                         *  *  *                            \n",
      "                      *  *  *  *  *                         \n",
      "                   *  *  *  *  *  *  *                      \n",
      "                *  *  *  *  *  *  *  *  *                   \n",
      "             *  *  *  *  *  *  *  *  *  *  *                \n",
      "                         *  *  *                            \n",
      "                         *  *  *                            \n",
      "                         *  *  *                            \n",
      "\n"
     ]
    }
   ],
   "source": [
    "pohon_natal(daun_atas=5,\n",
    "            daun_tengah=9,\n",
    "            daun_bawah=6,\n",
    "            batang=3)"
   ]
  }
 ],
 "metadata": {
  "interpreter": {
   "hash": "4dc109b0f99fa71f458400e5eb5b5a24cbf2fd830644d7af8539328bf1595e40"
  },
  "kernelspec": {
   "display_name": "Python 3.8.2 64-bit",
   "name": "python3"
  },
  "language_info": {
   "codemirror_mode": {
    "name": "ipython",
    "version": 3
   },
   "file_extension": ".py",
   "mimetype": "text/x-python",
   "name": "python",
   "nbconvert_exporter": "python",
   "pygments_lexer": "ipython3",
   "version": "3.8.2"
  }
 },
 "nbformat": 4,
 "nbformat_minor": 4
}
