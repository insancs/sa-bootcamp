{
 "cells": [
  {
   "cell_type": "markdown",
   "metadata": {},
   "source": [
    "# Session 37 - Labs Challenge"
   ]
  },
  {
   "cell_type": "markdown",
   "metadata": {},
   "source": [
    "# Import Libraries"
   ]
  },
  {
   "cell_type": "code",
   "execution_count": 1,
   "metadata": {},
   "outputs": [
    {
     "name": "stdout",
     "output_type": "stream",
     "text": [
      "time: 0 ns (started: 2022-02-19 17:20:47 +07:00)\n"
     ]
    }
   ],
   "source": [
    "import numpy as np\n",
    "import pandas as pd \n",
    "import matplotlib.pyplot as plt\n",
    "import seaborn as sns\n",
    "\n",
    "import warnings\n",
    "warnings.filterwarnings('ignore')\n",
    "%load_ext autotime"
   ]
  },
  {
   "cell_type": "markdown",
   "metadata": {},
   "source": [
    "# Data Understanding"
   ]
  },
  {
   "cell_type": "markdown",
   "metadata": {},
   "source": [
    "Lakukan ekspolasi data, seperti informasi dataset, statistik desktiptif, missing value, dan outliers."
   ]
  },
  {
   "cell_type": "code",
   "execution_count": 2,
   "metadata": {},
   "outputs": [
    {
     "data": {
      "text/html": [
       "<div>\n",
       "<style scoped>\n",
       "    .dataframe tbody tr th:only-of-type {\n",
       "        vertical-align: middle;\n",
       "    }\n",
       "\n",
       "    .dataframe tbody tr th {\n",
       "        vertical-align: top;\n",
       "    }\n",
       "\n",
       "    .dataframe thead th {\n",
       "        text-align: right;\n",
       "    }\n",
       "</style>\n",
       "<table border=\"1\" class=\"dataframe\">\n",
       "  <thead>\n",
       "    <tr style=\"text-align: right;\">\n",
       "      <th></th>\n",
       "      <th>Id</th>\n",
       "      <th>Ekspor</th>\n",
       "      <th>Cadangan Devisa</th>\n",
       "      <th>IHSG</th>\n",
       "      <th>Selisih Pinjaman dan Simpanan</th>\n",
       "      <th>Suku Bunga Simpanan Riil</th>\n",
       "      <th>Selisih BI Rate Riil dan FED Rate Riil</th>\n",
       "      <th>Simpanan bank</th>\n",
       "      <th>Nilai Tukar Riil</th>\n",
       "      <th>Nilai Tukar Perdagangan</th>\n",
       "      <th>M1</th>\n",
       "      <th>M2/Cadangan Devisa</th>\n",
       "      <th>M2M</th>\n",
       "      <th>Krisis</th>\n",
       "    </tr>\n",
       "  </thead>\n",
       "  <tbody>\n",
       "    <tr>\n",
       "      <th>0</th>\n",
       "      <td>0</td>\n",
       "      <td>1845.2</td>\n",
       "      <td>6068.2</td>\n",
       "      <td>504.27</td>\n",
       "      <td>1.24</td>\n",
       "      <td>15.56</td>\n",
       "      <td>4.36</td>\n",
       "      <td>14.567329</td>\n",
       "      <td>376.63</td>\n",
       "      <td>1.2366</td>\n",
       "      <td>10.66</td>\n",
       "      <td>0.0055</td>\n",
       "      <td>6.46</td>\n",
       "      <td>1</td>\n",
       "    </tr>\n",
       "    <tr>\n",
       "      <th>1</th>\n",
       "      <td>1</td>\n",
       "      <td>2055.0</td>\n",
       "      <td>6259.1</td>\n",
       "      <td>612.20</td>\n",
       "      <td>1.24</td>\n",
       "      <td>16.63</td>\n",
       "      <td>5.83</td>\n",
       "      <td>16.707625</td>\n",
       "      <td>375.39</td>\n",
       "      <td>1.2129</td>\n",
       "      <td>12.15</td>\n",
       "      <td>0.0056</td>\n",
       "      <td>6.16</td>\n",
       "      <td>1</td>\n",
       "    </tr>\n",
       "    <tr>\n",
       "      <th>2</th>\n",
       "      <td>4</td>\n",
       "      <td>1750.0</td>\n",
       "      <td>5767.5</td>\n",
       "      <td>624.33</td>\n",
       "      <td>1.22</td>\n",
       "      <td>14.77</td>\n",
       "      <td>7.92</td>\n",
       "      <td>16.067787</td>\n",
       "      <td>388.69</td>\n",
       "      <td>1.0374</td>\n",
       "      <td>12.58</td>\n",
       "      <td>0.0066</td>\n",
       "      <td>6.77</td>\n",
       "      <td>0</td>\n",
       "    </tr>\n",
       "    <tr>\n",
       "      <th>3</th>\n",
       "      <td>5</td>\n",
       "      <td>1812.0</td>\n",
       "      <td>6392.7</td>\n",
       "      <td>614.41</td>\n",
       "      <td>1.19</td>\n",
       "      <td>14.29</td>\n",
       "      <td>7.91</td>\n",
       "      <td>16.274743</td>\n",
       "      <td>396.82</td>\n",
       "      <td>1.0315</td>\n",
       "      <td>12.23</td>\n",
       "      <td>0.0060</td>\n",
       "      <td>7.04</td>\n",
       "      <td>0</td>\n",
       "    </tr>\n",
       "    <tr>\n",
       "      <th>4</th>\n",
       "      <td>6</td>\n",
       "      <td>2124.0</td>\n",
       "      <td>6615.6</td>\n",
       "      <td>556.34</td>\n",
       "      <td>1.18</td>\n",
       "      <td>16.66</td>\n",
       "      <td>9.74</td>\n",
       "      <td>16.913348</td>\n",
       "      <td>397.52</td>\n",
       "      <td>1.0400</td>\n",
       "      <td>12.08</td>\n",
       "      <td>0.0060</td>\n",
       "      <td>6.76</td>\n",
       "      <td>0</td>\n",
       "    </tr>\n",
       "  </tbody>\n",
       "</table>\n",
       "</div>"
      ],
      "text/plain": [
       "   Id  Ekspor  Cadangan Devisa    IHSG  Selisih Pinjaman dan Simpanan  \\\n",
       "0   0  1845.2           6068.2  504.27                           1.24   \n",
       "1   1  2055.0           6259.1  612.20                           1.24   \n",
       "2   4  1750.0           5767.5  624.33                           1.22   \n",
       "3   5  1812.0           6392.7  614.41                           1.19   \n",
       "4   6  2124.0           6615.6  556.34                           1.18   \n",
       "\n",
       "   Suku Bunga Simpanan Riil  Selisih BI Rate Riil dan FED Rate Riil  \\\n",
       "0                     15.56                                    4.36   \n",
       "1                     16.63                                    5.83   \n",
       "2                     14.77                                    7.92   \n",
       "3                     14.29                                    7.91   \n",
       "4                     16.66                                    9.74   \n",
       "\n",
       "   Simpanan bank   Nilai Tukar Riil  Nilai Tukar Perdagangan     M1  \\\n",
       "0       14.567329            376.63                   1.2366  10.66   \n",
       "1       16.707625            375.39                   1.2129  12.15   \n",
       "2       16.067787            388.69                   1.0374  12.58   \n",
       "3       16.274743            396.82                   1.0315  12.23   \n",
       "4       16.913348            397.52                   1.0400  12.08   \n",
       "\n",
       "   M2/Cadangan Devisa   M2M  Krisis  \n",
       "0              0.0055  6.46       1  \n",
       "1              0.0056  6.16       1  \n",
       "2              0.0066  6.77       0  \n",
       "3              0.0060  7.04       0  \n",
       "4              0.0060  6.76       0  "
      ]
     },
     "execution_count": 2,
     "metadata": {},
     "output_type": "execute_result"
    },
    {
     "name": "stdout",
     "output_type": "stream",
     "text": [
      "time: 63 ms (started: 2022-02-19 17:20:47 +07:00)\n"
     ]
    }
   ],
   "source": [
    "# Load csv dataset\n",
    "df = pd.read_csv('data/data_ekonomi.csv', sep=';')\n",
    "df.head()"
   ]
  },
  {
   "cell_type": "code",
   "execution_count": 3,
   "metadata": {},
   "outputs": [
    {
     "name": "stdout",
     "output_type": "stream",
     "text": [
      "<class 'pandas.core.frame.DataFrame'>\n",
      "RangeIndex: 270 entries, 0 to 269\n",
      "Data columns (total 14 columns):\n",
      " #   Column                                  Non-Null Count  Dtype  \n",
      "---  ------                                  --------------  -----  \n",
      " 0   Id                                      270 non-null    int64  \n",
      " 1   Ekspor                                  270 non-null    float64\n",
      " 2   Cadangan Devisa                         270 non-null    float64\n",
      " 3   IHSG                                    270 non-null    float64\n",
      " 4   Selisih Pinjaman dan Simpanan           270 non-null    float64\n",
      " 5   Suku Bunga Simpanan Riil                270 non-null    float64\n",
      " 6   Selisih BI Rate Riil dan FED Rate Riil  270 non-null    float64\n",
      " 7   Simpanan bank                           270 non-null    float64\n",
      " 8   Nilai Tukar Riil                        270 non-null    float64\n",
      " 9   Nilai Tukar Perdagangan                 270 non-null    float64\n",
      " 10  M1                                      270 non-null    float64\n",
      " 11  M2/Cadangan Devisa                      270 non-null    float64\n",
      " 12  M2M                                     270 non-null    float64\n",
      " 13  Krisis                                  270 non-null    int64  \n",
      "dtypes: float64(12), int64(2)\n",
      "memory usage: 29.7 KB\n",
      "time: 31 ms (started: 2022-02-19 17:20:47 +07:00)\n"
     ]
    }
   ],
   "source": [
    "# dataset information\n",
    "df.info()"
   ]
  },
  {
   "cell_type": "code",
   "execution_count": 4,
   "metadata": {},
   "outputs": [
    {
     "data": {
      "text/html": [
       "<div>\n",
       "<style scoped>\n",
       "    .dataframe tbody tr th:only-of-type {\n",
       "        vertical-align: middle;\n",
       "    }\n",
       "\n",
       "    .dataframe tbody tr th {\n",
       "        vertical-align: top;\n",
       "    }\n",
       "\n",
       "    .dataframe thead th {\n",
       "        text-align: right;\n",
       "    }\n",
       "</style>\n",
       "<table border=\"1\" class=\"dataframe\">\n",
       "  <thead>\n",
       "    <tr style=\"text-align: right;\">\n",
       "      <th></th>\n",
       "      <th>Id</th>\n",
       "      <th>Ekspor</th>\n",
       "      <th>Cadangan Devisa</th>\n",
       "      <th>IHSG</th>\n",
       "      <th>Selisih Pinjaman dan Simpanan</th>\n",
       "      <th>Suku Bunga Simpanan Riil</th>\n",
       "      <th>Selisih BI Rate Riil dan FED Rate Riil</th>\n",
       "      <th>Simpanan bank</th>\n",
       "      <th>Nilai Tukar Riil</th>\n",
       "      <th>Nilai Tukar Perdagangan</th>\n",
       "      <th>M1</th>\n",
       "      <th>M2/Cadangan Devisa</th>\n",
       "      <th>M2M</th>\n",
       "      <th>Krisis</th>\n",
       "    </tr>\n",
       "  </thead>\n",
       "  <tbody>\n",
       "    <tr>\n",
       "      <th>count</th>\n",
       "      <td>270.000000</td>\n",
       "      <td>270.000000</td>\n",
       "      <td>270.000000</td>\n",
       "      <td>270.000000</td>\n",
       "      <td>270.000000</td>\n",
       "      <td>270.000000</td>\n",
       "      <td>270.000000</td>\n",
       "      <td>270.000000</td>\n",
       "      <td>270.000000</td>\n",
       "      <td>270.000000</td>\n",
       "      <td>270.000000</td>\n",
       "      <td>270.000000</td>\n",
       "      <td>270.000000</td>\n",
       "      <td>270.000000</td>\n",
       "    </tr>\n",
       "    <tr>\n",
       "      <th>mean</th>\n",
       "      <td>174.429630</td>\n",
       "      <td>8247.868963</td>\n",
       "      <td>53516.383556</td>\n",
       "      <td>2071.609444</td>\n",
       "      <td>1.500222</td>\n",
       "      <td>12.016000</td>\n",
       "      <td>8.328000</td>\n",
       "      <td>134.058398</td>\n",
       "      <td>7232.566259</td>\n",
       "      <td>1.225759</td>\n",
       "      <td>41.406296</td>\n",
       "      <td>0.003716</td>\n",
       "      <td>6.763333</td>\n",
       "      <td>0.111111</td>\n",
       "    </tr>\n",
       "    <tr>\n",
       "      <th>std</th>\n",
       "      <td>101.887141</td>\n",
       "      <td>4853.028611</td>\n",
       "      <td>41132.468503</td>\n",
       "      <td>2014.293535</td>\n",
       "      <td>0.333443</td>\n",
       "      <td>7.509484</td>\n",
       "      <td>7.233576</td>\n",
       "      <td>100.175825</td>\n",
       "      <td>5550.579030</td>\n",
       "      <td>0.214566</td>\n",
       "      <td>29.628941</td>\n",
       "      <td>0.001151</td>\n",
       "      <td>5.115211</td>\n",
       "      <td>0.314853</td>\n",
       "    </tr>\n",
       "    <tr>\n",
       "      <th>min</th>\n",
       "      <td>0.000000</td>\n",
       "      <td>1750.000000</td>\n",
       "      <td>5767.500000</td>\n",
       "      <td>226.680000</td>\n",
       "      <td>0.660000</td>\n",
       "      <td>0.680000</td>\n",
       "      <td>1.250000</td>\n",
       "      <td>14.567329</td>\n",
       "      <td>375.390000</td>\n",
       "      <td>0.851500</td>\n",
       "      <td>7.350000</td>\n",
       "      <td>0.002000</td>\n",
       "      <td>4.190000</td>\n",
       "      <td>0.000000</td>\n",
       "    </tr>\n",
       "    <tr>\n",
       "      <th>25%</th>\n",
       "      <td>88.250000</td>\n",
       "      <td>4082.750000</td>\n",
       "      <td>19042.000000</td>\n",
       "      <td>462.717500</td>\n",
       "      <td>1.220000</td>\n",
       "      <td>6.622500</td>\n",
       "      <td>5.107500</td>\n",
       "      <td>58.468779</td>\n",
       "      <td>742.267500</td>\n",
       "      <td>1.063950</td>\n",
       "      <td>16.475000</td>\n",
       "      <td>0.003000</td>\n",
       "      <td>5.020000</td>\n",
       "      <td>0.000000</td>\n",
       "    </tr>\n",
       "    <tr>\n",
       "      <th>50%</th>\n",
       "      <td>172.500000</td>\n",
       "      <td>6261.415000</td>\n",
       "      <td>34816.185000</td>\n",
       "      <td>759.030000</td>\n",
       "      <td>1.505000</td>\n",
       "      <td>10.395000</td>\n",
       "      <td>6.515000</td>\n",
       "      <td>83.851499</td>\n",
       "      <td>6753.570000</td>\n",
       "      <td>1.166350</td>\n",
       "      <td>26.455000</td>\n",
       "      <td>0.003200</td>\n",
       "      <td>6.180000</td>\n",
       "      <td>0.000000</td>\n",
       "    </tr>\n",
       "    <tr>\n",
       "      <th>75%</th>\n",
       "      <td>262.750000</td>\n",
       "      <td>12936.765000</td>\n",
       "      <td>102477.375000</td>\n",
       "      <td>3916.700000</td>\n",
       "      <td>1.760000</td>\n",
       "      <td>15.330000</td>\n",
       "      <td>8.822500</td>\n",
       "      <td>245.694303</td>\n",
       "      <td>10000.275000</td>\n",
       "      <td>1.373825</td>\n",
       "      <td>73.185000</td>\n",
       "      <td>0.004600</td>\n",
       "      <td>7.900000</td>\n",
       "      <td>0.000000</td>\n",
       "    </tr>\n",
       "    <tr>\n",
       "      <th>max</th>\n",
       "      <td>351.000000</td>\n",
       "      <td>18530.800000</td>\n",
       "      <td>130196.380000</td>\n",
       "      <td>6597.220000</td>\n",
       "      <td>2.410000</td>\n",
       "      <td>52.980000</td>\n",
       "      <td>59.880000</td>\n",
       "      <td>330.612337</td>\n",
       "      <td>19358.390000</td>\n",
       "      <td>1.857700</td>\n",
       "      <td>104.840000</td>\n",
       "      <td>0.006600</td>\n",
       "      <td>86.970000</td>\n",
       "      <td>1.000000</td>\n",
       "    </tr>\n",
       "  </tbody>\n",
       "</table>\n",
       "</div>"
      ],
      "text/plain": [
       "               Id        Ekspor  Cadangan Devisa         IHSG  \\\n",
       "count  270.000000    270.000000       270.000000   270.000000   \n",
       "mean   174.429630   8247.868963     53516.383556  2071.609444   \n",
       "std    101.887141   4853.028611     41132.468503  2014.293535   \n",
       "min      0.000000   1750.000000      5767.500000   226.680000   \n",
       "25%     88.250000   4082.750000     19042.000000   462.717500   \n",
       "50%    172.500000   6261.415000     34816.185000   759.030000   \n",
       "75%    262.750000  12936.765000    102477.375000  3916.700000   \n",
       "max    351.000000  18530.800000    130196.380000  6597.220000   \n",
       "\n",
       "       Selisih Pinjaman dan Simpanan  Suku Bunga Simpanan Riil  \\\n",
       "count                     270.000000                270.000000   \n",
       "mean                        1.500222                 12.016000   \n",
       "std                         0.333443                  7.509484   \n",
       "min                         0.660000                  0.680000   \n",
       "25%                         1.220000                  6.622500   \n",
       "50%                         1.505000                 10.395000   \n",
       "75%                         1.760000                 15.330000   \n",
       "max                         2.410000                 52.980000   \n",
       "\n",
       "       Selisih BI Rate Riil dan FED Rate Riil  Simpanan bank   \\\n",
       "count                              270.000000      270.000000   \n",
       "mean                                 8.328000      134.058398   \n",
       "std                                  7.233576      100.175825   \n",
       "min                                  1.250000       14.567329   \n",
       "25%                                  5.107500       58.468779   \n",
       "50%                                  6.515000       83.851499   \n",
       "75%                                  8.822500      245.694303   \n",
       "max                                 59.880000      330.612337   \n",
       "\n",
       "       Nilai Tukar Riil  Nilai Tukar Perdagangan          M1  \\\n",
       "count        270.000000               270.000000  270.000000   \n",
       "mean        7232.566259                 1.225759   41.406296   \n",
       "std         5550.579030                 0.214566   29.628941   \n",
       "min          375.390000                 0.851500    7.350000   \n",
       "25%          742.267500                 1.063950   16.475000   \n",
       "50%         6753.570000                 1.166350   26.455000   \n",
       "75%        10000.275000                 1.373825   73.185000   \n",
       "max        19358.390000                 1.857700  104.840000   \n",
       "\n",
       "       M2/Cadangan Devisa         M2M      Krisis  \n",
       "count          270.000000  270.000000  270.000000  \n",
       "mean             0.003716    6.763333    0.111111  \n",
       "std              0.001151    5.115211    0.314853  \n",
       "min              0.002000    4.190000    0.000000  \n",
       "25%              0.003000    5.020000    0.000000  \n",
       "50%              0.003200    6.180000    0.000000  \n",
       "75%              0.004600    7.900000    0.000000  \n",
       "max              0.006600   86.970000    1.000000  "
      ]
     },
     "execution_count": 4,
     "metadata": {},
     "output_type": "execute_result"
    },
    {
     "name": "stdout",
     "output_type": "stream",
     "text": [
      "time: 203 ms (started: 2022-02-19 17:20:47 +07:00)\n"
     ]
    }
   ],
   "source": [
    "# Statistics descriptive\n",
    "df.describe()"
   ]
  },
  {
   "cell_type": "markdown",
   "metadata": {},
   "source": [
    "### Missing Values"
   ]
  },
  {
   "cell_type": "code",
   "execution_count": 5,
   "metadata": {},
   "outputs": [
    {
     "data": {
      "text/plain": [
       "Id                                        0\n",
       "Ekspor                                    0\n",
       "Cadangan Devisa                           0\n",
       "IHSG                                      0\n",
       "Selisih Pinjaman dan Simpanan             0\n",
       "Suku Bunga Simpanan Riil                  0\n",
       "Selisih BI Rate Riil dan FED Rate Riil    0\n",
       "Simpanan bank                             0\n",
       "Nilai Tukar Riil                          0\n",
       "Nilai Tukar Perdagangan                   0\n",
       "M1                                        0\n",
       "M2/Cadangan Devisa                        0\n",
       "M2M                                       0\n",
       "Krisis                                    0\n",
       "dtype: int64"
      ]
     },
     "execution_count": 5,
     "metadata": {},
     "output_type": "execute_result"
    },
    {
     "name": "stdout",
     "output_type": "stream",
     "text": [
      "time: 0 ns (started: 2022-02-19 17:20:48 +07:00)\n"
     ]
    }
   ],
   "source": [
    "# Calculate missing values\n",
    "df.isna().sum()"
   ]
  },
  {
   "cell_type": "markdown",
   "metadata": {},
   "source": [
    "### Check Outliers"
   ]
  },
  {
   "cell_type": "code",
   "execution_count": 6,
   "metadata": {},
   "outputs": [
    {
     "data": {
      "image/png": "[encoded data removed]",
      "text/plain": [
       "<Figure size 1080x720 with 14 Axes>"
      ]
     },
     "metadata": {
      "needs_background": "light"
     },
     "output_type": "display_data"
    },
    {
     "name": "stdout",
     "output_type": "stream",
     "text": [
      "time: 4.92 s (started: 2022-02-19 17:20:48 +07:00)\n"
     ]
    }
   ],
   "source": [
    "# check outliers using boxplot\n",
    "num = df.select_dtypes('number').columns\n",
    "\n",
    "plt.figure(figsize=(15,10))\n",
    "for i in range(0,len(num)):\n",
    "    plt.subplot(5,len(num)/3,i+1)\n",
    "    sns.boxplot(data=df,x=df[num[i]])\n",
    "    plt.tight_layout();\n",
    "plt.show()"
   ]
  },
  {
   "cell_type": "markdown",
   "metadata": {},
   "source": [
    "## Remove Feature"
   ]
  },
  {
   "cell_type": "markdown",
   "metadata": {},
   "source": [
    "Karena kita tidak membutuhkan kolom Id, maka bisa kita hapus."
   ]
  },
  {
   "cell_type": "code",
   "execution_count": 7,
   "metadata": {},
   "outputs": [
    {
     "name": "stdout",
     "output_type": "stream",
     "text": [
      "time: 0 ns (started: 2022-02-19 17:20:53 +07:00)\n"
     ]
    }
   ],
   "source": [
    "# Drop Id column \n",
    "df.drop('Id', axis=1, inplace=True)"
   ]
  },
  {
   "cell_type": "markdown",
   "metadata": {},
   "source": [
    "# Sampling Dataset"
   ]
  },
  {
   "cell_type": "markdown",
   "metadata": {},
   "source": [
    "### Separate Train and Test Set"
   ]
  },
  {
   "cell_type": "code",
   "execution_count": 8,
   "metadata": {},
   "outputs": [
    {
     "name": "stdout",
     "output_type": "stream",
     "text": [
      "time: 63 ms (started: 2022-02-19 17:20:53 +07:00)\n"
     ]
    }
   ],
   "source": [
    "X = df.drop('Krisis', axis=1)\n",
    "y = df['Krisis']"
   ]
  },
  {
   "cell_type": "code",
   "execution_count": 9,
   "metadata": {},
   "outputs": [
    {
     "name": "stdout",
     "output_type": "stream",
     "text": [
      "Shape of X_train (189, 12)\n",
      "Shape of y_train (189,)\n",
      "Shape of X_test (81, 12)\n",
      "Shape of y_test (81,)\n",
      "time: 188 ms (started: 2022-02-19 17:20:53 +07:00)\n"
     ]
    }
   ],
   "source": [
    "from sklearn.model_selection import train_test_split\n",
    "X_train, X_test, y_train, y_test = train_test_split(X, y, test_size=0.3, random_state=42)\n",
    "\n",
    "print('Shape of X_train', X_train.shape)\n",
    "print('Shape of y_train', y_train.shape)\n",
    "print('Shape of X_test', X_test.shape)\n",
    "print('Shape of y_test', y_test.shape)"
   ]
  },
  {
   "cell_type": "markdown",
   "metadata": {},
   "source": [
    "### Oversampling using SMOTE"
   ]
  },
  {
   "cell_type": "code",
   "execution_count": 10,
   "metadata": {},
   "outputs": [
    {
     "data": {
      "text/plain": [
       "0    166\n",
       "1     23\n",
       "Name: Krisis, dtype: int64"
      ]
     },
     "execution_count": 10,
     "metadata": {},
     "output_type": "execute_result"
    },
    {
     "name": "stdout",
     "output_type": "stream",
     "text": [
      "time: 0 ns (started: 2022-02-19 17:20:54 +07:00)\n"
     ]
    }
   ],
   "source": [
    "# Distribution for each class\n",
    "y_train.value_counts()"
   ]
  },
  {
   "cell_type": "code",
   "execution_count": 11,
   "metadata": {},
   "outputs": [
    {
     "data": {
      "text/plain": [
       "1    166\n",
       "0    166\n",
       "Name: Krisis, dtype: int64"
      ]
     },
     "execution_count": 11,
     "metadata": {},
     "output_type": "execute_result"
    },
    {
     "name": "stdout",
     "output_type": "stream",
     "text": [
      "time: 406 ms (started: 2022-02-19 17:20:54 +07:00)\n"
     ]
    }
   ],
   "source": [
    "from imblearn.over_sampling import SMOTE\n",
    "\n",
    "X_train_over, y_train_over = SMOTE().fit_resample(X_train, y_train)\n",
    "\n",
    "y_train_over.value_counts()"
   ]
  },
  {
   "cell_type": "markdown",
   "metadata": {},
   "source": [
    "# Modelling"
   ]
  },
  {
   "cell_type": "markdown",
   "metadata": {},
   "source": [
    "Pada tahap ini, kita lakukan modelling pada bebrapa model, yaitu Logistic Regression, Decision Tree, Random Forest, Gradient Boost, dan AdaBoost.\n",
    "\n",
    "Evaluasi model dengan beberapa metrik, yaitu accuracy, precision, recall, dan f1-score."
   ]
  },
  {
   "cell_type": "code",
   "execution_count": 12,
   "metadata": {},
   "outputs": [
    {
     "name": "stdout",
     "output_type": "stream",
     "text": [
      "time: 0 ns (started: 2022-02-19 17:20:54 +07:00)\n"
     ]
    }
   ],
   "source": [
    "from sklearn.linear_model import LogisticRegression\n",
    "from sklearn.tree import DecisionTreeClassifier\n",
    "from sklearn.ensemble import RandomForestClassifier, GradientBoostingClassifier, AdaBoostClassifier\n",
    "from sklearn.metrics import accuracy_score, precision_score, recall_score, f1_score\n",
    "\n",
    "model_logreg = LogisticRegression(random_state=42)\n",
    "model_dc = DecisionTreeClassifier(random_state=42)\n",
    "model_rf = RandomForestClassifier(random_state=42)\n",
    "model_gbc = GradientBoostingClassifier(random_state=42)\n",
    "model_abc = AdaBoostClassifier(random_state=42)\n",
    "\n",
    "# Assign classifier to a list\n",
    "models = [model_logreg, model_dc, model_rf, model_gbc, model_abc]\n",
    "# Assign classifier name to a list\n",
    "models_name = ['LogisticRegression', 'DecisionTreeClassifier', 'RandomForestClassifier','GradientBoostingClassifier', 'AdaBoostClassifier']"
   ]
  },
  {
   "cell_type": "code",
   "execution_count": 13,
   "metadata": {},
   "outputs": [
    {
     "name": "stdout",
     "output_type": "stream",
     "text": [
      "time: 1 s (started: 2022-02-19 17:20:54 +07:00)\n"
     ]
    }
   ],
   "source": [
    "# Create a list\n",
    "acc_train = []\n",
    "acc_test = []\n",
    "precision = []\n",
    "recall = []\n",
    "f1 = []\n",
    "\n",
    "# Fit each model and calculate each evaluation metrics\n",
    "for model in models:\n",
    "    model.fit(X_train_over, y_train_over)\n",
    "    acc_train.append(model.score(X_train_over, y_train_over))\n",
    "    acc_test.append(model.score(X_test, y_test))\n",
    "    y_pred = model.predict(X_test)\n",
    "    precision.append(precision_score(y_test, y_pred))\n",
    "    recall.append(recall_score(y_test, y_pred))\n",
    "    f1.append(f1_score(y_test, y_pred))"
   ]
  },
  {
   "cell_type": "code",
   "execution_count": 14,
   "metadata": {},
   "outputs": [
    {
     "data": {
      "text/html": [
       "<div>\n",
       "<style scoped>\n",
       "    .dataframe tbody tr th:only-of-type {\n",
       "        vertical-align: middle;\n",
       "    }\n",
       "\n",
       "    .dataframe tbody tr th {\n",
       "        vertical-align: top;\n",
       "    }\n",
       "\n",
       "    .dataframe thead th {\n",
       "        text-align: right;\n",
       "    }\n",
       "</style>\n",
       "<table border=\"1\" class=\"dataframe\">\n",
       "  <thead>\n",
       "    <tr style=\"text-align: right;\">\n",
       "      <th></th>\n",
       "      <th>acc_train</th>\n",
       "      <th>acc_test</th>\n",
       "      <th>precision</th>\n",
       "      <th>recall</th>\n",
       "      <th>f1-score</th>\n",
       "    </tr>\n",
       "  </thead>\n",
       "  <tbody>\n",
       "    <tr>\n",
       "      <th>RandomForestClassifier</th>\n",
       "      <td>1.000000</td>\n",
       "      <td>0.987654</td>\n",
       "      <td>0.875000</td>\n",
       "      <td>1.000000</td>\n",
       "      <td>0.933333</td>\n",
       "    </tr>\n",
       "    <tr>\n",
       "      <th>DecisionTreeClassifier</th>\n",
       "      <td>1.000000</td>\n",
       "      <td>0.975309</td>\n",
       "      <td>0.857143</td>\n",
       "      <td>0.857143</td>\n",
       "      <td>0.857143</td>\n",
       "    </tr>\n",
       "    <tr>\n",
       "      <th>GradientBoostingClassifier</th>\n",
       "      <td>1.000000</td>\n",
       "      <td>0.975309</td>\n",
       "      <td>0.777778</td>\n",
       "      <td>1.000000</td>\n",
       "      <td>0.875000</td>\n",
       "    </tr>\n",
       "    <tr>\n",
       "      <th>AdaBoostClassifier</th>\n",
       "      <td>1.000000</td>\n",
       "      <td>0.975309</td>\n",
       "      <td>0.777778</td>\n",
       "      <td>1.000000</td>\n",
       "      <td>0.875000</td>\n",
       "    </tr>\n",
       "    <tr>\n",
       "      <th>LogisticRegression</th>\n",
       "      <td>0.849398</td>\n",
       "      <td>0.740741</td>\n",
       "      <td>0.230769</td>\n",
       "      <td>0.857143</td>\n",
       "      <td>0.363636</td>\n",
       "    </tr>\n",
       "  </tbody>\n",
       "</table>\n",
       "</div>"
      ],
      "text/plain": [
       "                            acc_train  acc_test  precision    recall  f1-score\n",
       "RandomForestClassifier       1.000000  0.987654   0.875000  1.000000  0.933333\n",
       "DecisionTreeClassifier       1.000000  0.975309   0.857143  0.857143  0.857143\n",
       "GradientBoostingClassifier   1.000000  0.975309   0.777778  1.000000  0.875000\n",
       "AdaBoostClassifier           1.000000  0.975309   0.777778  1.000000  0.875000\n",
       "LogisticRegression           0.849398  0.740741   0.230769  0.857143  0.363636"
      ]
     },
     "execution_count": 14,
     "metadata": {},
     "output_type": "execute_result"
    },
    {
     "name": "stdout",
     "output_type": "stream",
     "text": [
      "time: 31 ms (started: 2022-02-19 17:20:56 +07:00)\n"
     ]
    }
   ],
   "source": [
    "pd.DataFrame({\n",
    "    'acc_train':acc_train,\n",
    "    'acc_test':acc_test,\n",
    "    'precision':precision,\n",
    "    'recall':recall,\n",
    "    'f1-score':f1\n",
    "}, index=models_name).sort_values(['acc_train', 'acc_test', 'precision', 'recall', 'f1-score'], ascending=False)"
   ]
  },
  {
   "cell_type": "markdown",
   "metadata": {},
   "source": [
    "Dari hasil modelling diatas, didapatkan bahwa Random Forest menjadi model dengan performa terbaik. Maka kita akan pilih Random Forest untuk dilakukan hyperparameter tuning."
   ]
  },
  {
   "cell_type": "markdown",
   "metadata": {},
   "source": [
    "# Hyperparameter Tuning"
   ]
  },
  {
   "cell_type": "markdown",
   "metadata": {},
   "source": [
    "Lakukan hyperparameter tuning menggunakan Grid Search CV."
   ]
  },
  {
   "cell_type": "code",
   "execution_count": 16,
   "metadata": {},
   "outputs": [
    {
     "name": "stdout",
     "output_type": "stream",
     "text": [
      "time: 0 ns (started: 2022-02-19 17:21:32 +07:00)\n"
     ]
    }
   ],
   "source": [
    "from sklearn.model_selection import GridSearchCV\n",
    "\n",
    "model_rf = RandomForestClassifier(random_state=42)\n",
    "\n",
    "params = {\n",
    "    # 'n_estimators':range(50, 151, 10),\n",
    "    'criterion':['gini', 'entropy'],\n",
    "    'max_depth':range(10, 51, 10),\n",
    "    'min_samples_split':range(1, 31, 5),\n",
    "    # 'min_samples_leaf':range(1, 31, 5),\n",
    "    'max_features':['auto', 'sqrt', 'log2'],\n",
    "    # 'max_samples':range(1, 51, 5)\n",
    "}\n",
    "\n",
    "grid_search = GridSearchCV(estimator=model_rf, param_grid=params, scoring='accuracy', cv=5, n_jobs=-1)"
   ]
  },
  {
   "cell_type": "code",
   "execution_count": 17,
   "metadata": {},
   "outputs": [
    {
     "data": {
      "text/plain": [
       "GridSearchCV(cv=5, estimator=RandomForestClassifier(random_state=42), n_jobs=-1,\n",
       "             param_grid={'criterion': ['gini', 'entropy'],\n",
       "                         'max_depth': range(10, 51, 10),\n",
       "                         'max_features': ['auto', 'sqrt', 'log2'],\n",
       "                         'min_samples_split': range(1, 31, 5)},\n",
       "             scoring='accuracy')"
      ]
     },
     "execution_count": 17,
     "metadata": {},
     "output_type": "execute_result"
    },
    {
     "name": "stdout",
     "output_type": "stream",
     "text": [
      "time: 2min 12s (started: 2022-02-19 17:21:33 +07:00)\n"
     ]
    }
   ],
   "source": [
    "# fit gridsearchcv\n",
    "grid_search.fit(X_train_over, y_train_over)"
   ]
  },
  {
   "cell_type": "code",
   "execution_count": 18,
   "metadata": {},
   "outputs": [
    {
     "data": {
      "text/plain": [
       "{'criterion': 'entropy',\n",
       " 'max_depth': 10,\n",
       " 'max_features': 'auto',\n",
       " 'min_samples_split': 6}"
      ]
     },
     "execution_count": 18,
     "metadata": {},
     "output_type": "execute_result"
    },
    {
     "name": "stdout",
     "output_type": "stream",
     "text": [
      "time: 16 ms (started: 2022-02-19 17:23:50 +07:00)\n"
     ]
    }
   ],
   "source": [
    "# Show best parameter\n",
    "grid_search.best_params_"
   ]
  },
  {
   "cell_type": "markdown",
   "metadata": {},
   "source": [
    "Setelah didapatkan parameter terbaik, selanjutnya kita bandingkan performa antara Random Forest dengan default parameter dengan parameter hasil dari tuning."
   ]
  },
  {
   "cell_type": "code",
   "execution_count": 20,
   "metadata": {},
   "outputs": [
    {
     "name": "stdout",
     "output_type": "stream",
     "text": [
      "time: 1.05 s (started: 2022-02-19 17:23:59 +07:00)\n"
     ]
    }
   ],
   "source": [
    "# fit classifier using default parameter\n",
    "model_rf = RandomForestClassifier()\n",
    "model_rf.fit(X_train_over, y_train_over)\n",
    "\n",
    "# fit classifier using parameter tuning\n",
    "model_rf_tuned = RandomForestClassifier(**grid_search.best_params_)\n",
    "model_rf_tuned.fit(X_train_over, y_train_over)\n",
    "\n",
    "# Predict test set\n",
    "y_pred_rf = model_rf.predict(X_test)\n",
    "y_pred_rf_tuned = model_rf_tuned.predict(X_test)"
   ]
  },
  {
   "cell_type": "code",
   "execution_count": 21,
   "metadata": {},
   "outputs": [
    {
     "data": {
      "text/html": [
       "<div>\n",
       "<style scoped>\n",
       "    .dataframe tbody tr th:only-of-type {\n",
       "        vertical-align: middle;\n",
       "    }\n",
       "\n",
       "    .dataframe tbody tr th {\n",
       "        vertical-align: top;\n",
       "    }\n",
       "\n",
       "    .dataframe thead th {\n",
       "        text-align: right;\n",
       "    }\n",
       "</style>\n",
       "<table border=\"1\" class=\"dataframe\">\n",
       "  <thead>\n",
       "    <tr style=\"text-align: right;\">\n",
       "      <th></th>\n",
       "      <th>Accuracy</th>\n",
       "      <th>Precision</th>\n",
       "      <th>Recall</th>\n",
       "      <th>F1-Score</th>\n",
       "    </tr>\n",
       "  </thead>\n",
       "  <tbody>\n",
       "    <tr>\n",
       "      <th>RF Default Parameter</th>\n",
       "      <td>0.987654</td>\n",
       "      <td>0.875000</td>\n",
       "      <td>1.0</td>\n",
       "      <td>0.933333</td>\n",
       "    </tr>\n",
       "    <tr>\n",
       "      <th>RF Tuned Parameter</th>\n",
       "      <td>0.975309</td>\n",
       "      <td>0.777778</td>\n",
       "      <td>1.0</td>\n",
       "      <td>0.875000</td>\n",
       "    </tr>\n",
       "  </tbody>\n",
       "</table>\n",
       "</div>"
      ],
      "text/plain": [
       "                      Accuracy  Precision  Recall  F1-Score\n",
       "RF Default Parameter  0.987654   0.875000     1.0  0.933333\n",
       "RF Tuned Parameter    0.975309   0.777778     1.0  0.875000"
      ]
     },
     "execution_count": 21,
     "metadata": {},
     "output_type": "execute_result"
    },
    {
     "name": "stdout",
     "output_type": "stream",
     "text": [
      "time: 46 ms (started: 2022-02-19 17:24:02 +07:00)\n"
     ]
    }
   ],
   "source": [
    "# Evaluation metrics for classifier using default parameter\n",
    "acc_rf = accuracy_score(y_test, y_pred_rf)\n",
    "pr_rf = precision_score(y_test, y_pred_rf)\n",
    "rc_rf = recall_score(y_test, y_pred_rf)\n",
    "f1_rf = f1_score(y_test, y_pred_rf)\n",
    "\n",
    "# Evaluation metrics for classifier using parameter tuning\n",
    "acc_rf_tuned = accuracy_score(y_test, y_pred_rf_tuned)\n",
    "pr_rf_tuned = precision_score(y_test, y_pred_rf_tuned)\n",
    "rc_rf_tuned = recall_score(y_test, y_pred_rf_tuned)\n",
    "f1_rf_tuned = f1_score(y_test, y_pred_rf_tuned)\n",
    "\n",
    "# Create dataframe for comparing the metrics\n",
    "pd.DataFrame({\n",
    "    'RF Default Parameter':[acc_rf, pr_rf, rc_rf, f1_rf],\n",
    "    'RF Tuned Parameter':[acc_rf_tuned, pr_rf_tuned, rc_rf_tuned, f1_rf_tuned],\n",
    "}, index=['Accuracy', 'Precision', 'Recall', 'F1-Score']).T"
   ]
  },
  {
   "cell_type": "markdown",
   "metadata": {},
   "source": [
    "Dari hasil diatas, didapatkan bahwa model dengan parameter hasil tuning tidak memberikan performa yang lebih baik. Maka kita akan menggunakan default parameter. "
   ]
  }
 ],
 "metadata": {
  "interpreter": {
   "hash": "4dc109b0f99fa71f458400e5eb5b5a24cbf2fd830644d7af8539328bf1595e40"
  },
  "kernelspec": {
   "display_name": "Python 3.8.2 64-bit",
   "name": "python3"
  },
  "language_info": {
   "codemirror_mode": {
    "name": "ipython",
    "version": 3
   },
   "file_extension": ".py",
   "mimetype": "text/x-python",
   "name": "python",
   "nbconvert_exporter": "python",
   "pygments_lexer": "ipython3",
   "version": "3.8.2"
  },
  "orig_nbformat": 4
 },
 "nbformat": 4,
 "nbformat_minor": 2
}
