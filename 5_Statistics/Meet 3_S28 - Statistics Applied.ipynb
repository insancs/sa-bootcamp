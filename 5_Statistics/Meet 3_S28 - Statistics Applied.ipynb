{
 "cells": [
  {
   "cell_type": "markdown",
   "id": "4d8d4e9f",
   "metadata": {},
   "source": [
    "# Session 28 - Applied Statistics\n",
    "\n",
    "- Two Sample t-test\n",
    "- One-way ANOVA\n",
    "- A/B Testing"
   ]
  },
  {
   "cell_type": "markdown",
   "id": "e0afe8b9",
   "metadata": {},
   "source": [
    "## Hypothesis Testing"
   ]
  },
  {
   "cell_type": "markdown",
   "id": "6963c754",
   "metadata": {
    "id": "sfQaQdxMmJqc"
   },
   "source": [
    "#### Two sample t-test"
   ]
  },
  {
   "cell_type": "markdown",
   "id": "06fb9b23",
   "metadata": {
    "id": "D9rfS650mciW"
   },
   "source": [
    "scipy.stats.ttest_ind(a, b, axis=0, equal_var=True, nan_policy='propagate', permutations=None, random_state=None, alternative='two-sided', trim=0)\n",
    "\n",
    "---\n",
    "\n",
    "Calculate the T-test for the means of two independent samples of scores.\n",
    "\n",
    "This is a two-sided test for the null hypothesis that 2 independent samples have identical average (expected) values. This test assumes that the populations have identical variances by default."
   ]
  },
  {
   "cell_type": "code",
   "execution_count": 1,
   "id": "d7b0e85c",
   "metadata": {},
   "outputs": [],
   "source": [
    "import pandas as pd\n",
    "import numpy as np\n",
    "import scipy.stats as st\n",
    "import matplotlib.pyplot as plt\n",
    "import seaborn as sns"
   ]
  },
  {
   "cell_type": "markdown",
   "id": "c75dab12",
   "metadata": {},
   "source": [
    "### Tips Dataset"
   ]
  },
  {
   "cell_type": "code",
   "execution_count": 2,
   "id": "ca2b64a1",
   "metadata": {},
   "outputs": [
    {
     "data": {
      "text/html": [
       "<div>\n",
       "<style scoped>\n",
       "    .dataframe tbody tr th:only-of-type {\n",
       "        vertical-align: middle;\n",
       "    }\n",
       "\n",
       "    .dataframe tbody tr th {\n",
       "        vertical-align: top;\n",
       "    }\n",
       "\n",
       "    .dataframe thead th {\n",
       "        text-align: right;\n",
       "    }\n",
       "</style>\n",
       "<table border=\"1\" class=\"dataframe\">\n",
       "  <thead>\n",
       "    <tr style=\"text-align: right;\">\n",
       "      <th></th>\n",
       "      <th>total_bill</th>\n",
       "      <th>tip</th>\n",
       "      <th>sex</th>\n",
       "      <th>smoker</th>\n",
       "      <th>day</th>\n",
       "      <th>time</th>\n",
       "      <th>size</th>\n",
       "    </tr>\n",
       "  </thead>\n",
       "  <tbody>\n",
       "    <tr>\n",
       "      <th>0</th>\n",
       "      <td>16.99</td>\n",
       "      <td>1.01</td>\n",
       "      <td>Female</td>\n",
       "      <td>No</td>\n",
       "      <td>Sun</td>\n",
       "      <td>Dinner</td>\n",
       "      <td>2</td>\n",
       "    </tr>\n",
       "    <tr>\n",
       "      <th>1</th>\n",
       "      <td>10.34</td>\n",
       "      <td>1.66</td>\n",
       "      <td>Male</td>\n",
       "      <td>No</td>\n",
       "      <td>Sun</td>\n",
       "      <td>Dinner</td>\n",
       "      <td>3</td>\n",
       "    </tr>\n",
       "    <tr>\n",
       "      <th>2</th>\n",
       "      <td>21.01</td>\n",
       "      <td>3.50</td>\n",
       "      <td>Male</td>\n",
       "      <td>No</td>\n",
       "      <td>Sun</td>\n",
       "      <td>Dinner</td>\n",
       "      <td>3</td>\n",
       "    </tr>\n",
       "    <tr>\n",
       "      <th>3</th>\n",
       "      <td>23.68</td>\n",
       "      <td>3.31</td>\n",
       "      <td>Male</td>\n",
       "      <td>No</td>\n",
       "      <td>Sun</td>\n",
       "      <td>Dinner</td>\n",
       "      <td>2</td>\n",
       "    </tr>\n",
       "    <tr>\n",
       "      <th>4</th>\n",
       "      <td>24.59</td>\n",
       "      <td>3.61</td>\n",
       "      <td>Female</td>\n",
       "      <td>No</td>\n",
       "      <td>Sun</td>\n",
       "      <td>Dinner</td>\n",
       "      <td>4</td>\n",
       "    </tr>\n",
       "  </tbody>\n",
       "</table>\n",
       "</div>"
      ],
      "text/plain": [
       "   total_bill   tip     sex smoker  day    time  size\n",
       "0       16.99  1.01  Female     No  Sun  Dinner     2\n",
       "1       10.34  1.66    Male     No  Sun  Dinner     3\n",
       "2       21.01  3.50    Male     No  Sun  Dinner     3\n",
       "3       23.68  3.31    Male     No  Sun  Dinner     2\n",
       "4       24.59  3.61  Female     No  Sun  Dinner     4"
      ]
     },
     "execution_count": 2,
     "metadata": {},
     "output_type": "execute_result"
    }
   ],
   "source": [
    "data = sns.load_dataset('tips')\n",
    "data.head()"
   ]
  },
  {
   "cell_type": "code",
   "execution_count": 3,
   "id": "3c75689d",
   "metadata": {},
   "outputs": [
    {
     "data": {
      "text/plain": [
       "3.008709677419355"
      ]
     },
     "execution_count": 3,
     "metadata": {},
     "output_type": "execute_result"
    }
   ],
   "source": [
    "smokers_tip = data[data['smoker']=='Yes']['tip']\n",
    "smokers_tip.mean()"
   ]
  },
  {
   "cell_type": "code",
   "execution_count": 4,
   "id": "9e666718",
   "metadata": {},
   "outputs": [
    {
     "data": {
      "text/plain": [
       "2.9918543046357624"
      ]
     },
     "execution_count": 4,
     "metadata": {},
     "output_type": "execute_result"
    }
   ],
   "source": [
    "nonsmokers_tip = data[data['smoker']=='No']['tip']\n",
    "nonsmokers_tip.mean()"
   ]
  },
  {
   "cell_type": "markdown",
   "id": "c0efee0d",
   "metadata": {},
   "source": [
    "**Membuat pernyataan hipotesa**\n",
    "\n",
    "H0: rata-rata 'tip' dari perokok **sama dengan** rata-rata 'tip' dari yang bukan perokok\n",
    "\n",
    "\n",
    "H1: rata-rata 'tip' dari perokok **tidak sama dengan** rata-rata 'tip' dari yang bukan perokok"
   ]
  },
  {
   "cell_type": "code",
   "execution_count": 5,
   "id": "0fbeb230",
   "metadata": {},
   "outputs": [
    {
     "data": {
      "text/plain": [
       "0.9265931522244976"
      ]
     },
     "execution_count": 5,
     "metadata": {},
     "output_type": "execute_result"
    }
   ],
   "source": [
    "ttest_2 = st.ttest_ind(a=smokers_tip, b=nonsmokers_tip, equal_var=True)\n",
    "ttest_2.pvalue"
   ]
  },
  {
   "cell_type": "markdown",
   "id": "13c9ceeb",
   "metadata": {},
   "source": [
    "Belum cukup bukti untuk menentang H0"
   ]
  },
  {
   "cell_type": "code",
   "execution_count": 6,
   "id": "22b84c7d",
   "metadata": {},
   "outputs": [
    {
     "data": {
      "text/plain": [
       "1.4014675738128255"
      ]
     },
     "execution_count": 6,
     "metadata": {},
     "output_type": "execute_result"
    }
   ],
   "source": [
    "smokers_tip.std()"
   ]
  },
  {
   "cell_type": "code",
   "execution_count": 7,
   "id": "da9613f0",
   "metadata": {},
   "outputs": [
    {
     "data": {
      "text/plain": [
       "1.37719008805297"
      ]
     },
     "execution_count": 7,
     "metadata": {},
     "output_type": "execute_result"
    }
   ],
   "source": [
    "nonsmokers_tip.std()"
   ]
  },
  {
   "cell_type": "code",
   "execution_count": 8,
   "id": "5f634a45",
   "metadata": {},
   "outputs": [
    {
     "data": {
      "text/plain": [
       "3.0896178343949052"
      ]
     },
     "execution_count": 8,
     "metadata": {},
     "output_type": "execute_result"
    }
   ],
   "source": [
    "male_tip = data[data['sex']=='Male']['tip']\n",
    "male_tip.mean()"
   ]
  },
  {
   "cell_type": "code",
   "execution_count": 9,
   "id": "be62a7fd",
   "metadata": {},
   "outputs": [
    {
     "data": {
      "text/plain": [
       "2.833448275862069"
      ]
     },
     "execution_count": 9,
     "metadata": {},
     "output_type": "execute_result"
    }
   ],
   "source": [
    "female_tip = data[data['sex']=='Female']['tip']\n",
    "female_tip.mean()"
   ]
  },
  {
   "cell_type": "markdown",
   "id": "4957185d",
   "metadata": {},
   "source": [
    "**Membuat pernyataan hipotesa**\n",
    "\n",
    "H0: rata-rata 'tip' dari Pria **sama dengan** rata-rata 'tip' dari Wanita\n",
    "\n",
    "\n",
    "H1: rata-rata 'tip' dari Pria **tidak sama dengan** rata-rata 'tip' dari Wanita"
   ]
  },
  {
   "cell_type": "code",
   "execution_count": 37,
   "id": "f93ceca4",
   "metadata": {},
   "outputs": [
    {
     "data": {
      "text/plain": [
       "0.13780683808650296"
      ]
     },
     "execution_count": 37,
     "metadata": {},
     "output_type": "execute_result"
    }
   ],
   "source": [
    "ttest_2 = st.ttest_ind(a=male_tip, b=female_tip, equal_var=False)\n",
    "ttest_2.pvalue"
   ]
  },
  {
   "cell_type": "markdown",
   "id": "6c47b502",
   "metadata": {},
   "source": [
    "Belum cukup bukti untuk menentang H0"
   ]
  },
  {
   "cell_type": "code",
   "execution_count": 11,
   "id": "ad3833db",
   "metadata": {},
   "outputs": [
    {
     "data": {
      "text/plain": [
       "1.489101813842018"
      ]
     },
     "execution_count": 11,
     "metadata": {},
     "output_type": "execute_result"
    }
   ],
   "source": [
    "# Apakah variance kedua sample sama? (equal_var)\n",
    "male_tip.std()"
   ]
  },
  {
   "cell_type": "code",
   "execution_count": 30,
   "id": "8dca6771",
   "metadata": {},
   "outputs": [
    {
     "data": {
      "text/plain": [
       "1.1594945045210154"
      ]
     },
     "execution_count": 30,
     "metadata": {},
     "output_type": "execute_result"
    }
   ],
   "source": [
    "female_tip.std()"
   ]
  },
  {
   "cell_type": "code",
   "execution_count": 34,
   "id": "2c0172f9",
   "metadata": {},
   "outputs": [
    {
     "data": {
      "text/plain": [
       "(0.0, 10.0)"
      ]
     },
     "execution_count": 34,
     "metadata": {},
     "output_type": "execute_result"
    },
    {
     "data": {
      "image/png": "[encoded data removed]",
      "text/plain": [
       "<Figure size 432x288 with 1 Axes>"
      ]
     },
     "metadata": {
      "needs_background": "light"
     },
     "output_type": "display_data"
    }
   ],
   "source": [
    "male_tip.hist()\n",
    "plt.xlim([0, 10])"
   ]
  },
  {
   "cell_type": "code",
   "execution_count": 33,
   "id": "02e9dc4c",
   "metadata": {},
   "outputs": [
    {
     "data": {
      "text/plain": [
       "(0.0, 10.0)"
      ]
     },
     "execution_count": 33,
     "metadata": {},
     "output_type": "execute_result"
    },
    {
     "data": {
      "image/png": "[encoded data removed]",
      "text/plain": [
       "<Figure size 432x288 with 1 Axes>"
      ]
     },
     "metadata": {
      "needs_background": "light"
     },
     "output_type": "display_data"
    }
   ],
   "source": [
    "female_tip.hist()\n",
    "plt.xlim([0, 10])"
   ]
  },
  {
   "cell_type": "markdown",
   "id": "aa3766f1",
   "metadata": {},
   "source": [
    "### E-commerce Dataset"
   ]
  },
  {
   "cell_type": "code",
   "execution_count": 15,
   "id": "e57113a6",
   "metadata": {},
   "outputs": [
    {
     "data": {
      "text/html": [
       "<div>\n",
       "<style scoped>\n",
       "    .dataframe tbody tr th:only-of-type {\n",
       "        vertical-align: middle;\n",
       "    }\n",
       "\n",
       "    .dataframe tbody tr th {\n",
       "        vertical-align: top;\n",
       "    }\n",
       "\n",
       "    .dataframe thead th {\n",
       "        text-align: right;\n",
       "    }\n",
       "</style>\n",
       "<table border=\"1\" class=\"dataframe\">\n",
       "  <thead>\n",
       "    <tr style=\"text-align: right;\">\n",
       "      <th></th>\n",
       "      <th>gmv</th>\n",
       "      <th>discount</th>\n",
       "      <th>user_id</th>\n",
       "    </tr>\n",
       "  </thead>\n",
       "  <tbody>\n",
       "    <tr>\n",
       "      <th>0</th>\n",
       "      <td>1324911</td>\n",
       "      <td>not-discount</td>\n",
       "      <td>1</td>\n",
       "    </tr>\n",
       "    <tr>\n",
       "      <th>1</th>\n",
       "      <td>1625874</td>\n",
       "      <td>not-discount</td>\n",
       "      <td>2</td>\n",
       "    </tr>\n",
       "    <tr>\n",
       "      <th>2</th>\n",
       "      <td>1432984</td>\n",
       "      <td>not-discount</td>\n",
       "      <td>3</td>\n",
       "    </tr>\n",
       "    <tr>\n",
       "      <th>3</th>\n",
       "      <td>1294427</td>\n",
       "      <td>not-discount</td>\n",
       "      <td>4</td>\n",
       "    </tr>\n",
       "    <tr>\n",
       "      <th>4</th>\n",
       "      <td>1635693</td>\n",
       "      <td>not-discount</td>\n",
       "      <td>5</td>\n",
       "    </tr>\n",
       "  </tbody>\n",
       "</table>\n",
       "</div>"
      ],
      "text/plain": [
       "       gmv      discount  user_id\n",
       "0  1324911  not-discount        1\n",
       "1  1625874  not-discount        2\n",
       "2  1432984  not-discount        3\n",
       "3  1294427  not-discount        4\n",
       "4  1635693  not-discount        5"
      ]
     },
     "execution_count": 15,
     "metadata": {},
     "output_type": "execute_result"
    }
   ],
   "source": [
    "df = pd.read_csv('e-commerce_example_dataset.csv')\n",
    "df.head()"
   ]
  },
  {
   "cell_type": "code",
   "execution_count": 16,
   "id": "4b2e383b",
   "metadata": {},
   "outputs": [
    {
     "data": {
      "text/plain": [
       "(100, 3)"
      ]
     },
     "execution_count": 16,
     "metadata": {},
     "output_type": "execute_result"
    }
   ],
   "source": [
    "df.shape"
   ]
  },
  {
   "cell_type": "code",
   "execution_count": 18,
   "id": "1ba00c5b",
   "metadata": {},
   "outputs": [
    {
     "data": {
      "text/plain": [
       "<AxesSubplot:>"
      ]
     },
     "execution_count": 18,
     "metadata": {},
     "output_type": "execute_result"
    },
    {
     "data": {
      "image/png": "[encoded data removed]",
      "text/plain": [
       "<Figure size 432x288 with 1 Axes>"
      ]
     },
     "metadata": {
      "needs_background": "light"
     },
     "output_type": "display_data"
    }
   ],
   "source": [
    "df['discount'].value_counts().plot(kind='bar')"
   ]
  },
  {
   "cell_type": "code",
   "execution_count": 19,
   "id": "d15613be",
   "metadata": {},
   "outputs": [],
   "source": [
    "disc = df[df['discount']=='discount']\n",
    "non_disc = df[df['discount']=='not-discount']"
   ]
  },
  {
   "cell_type": "code",
   "execution_count": 20,
   "id": "36fc3b6b",
   "metadata": {},
   "outputs": [
    {
     "data": {
      "text/plain": [
       "1624246.553846154"
      ]
     },
     "execution_count": 20,
     "metadata": {},
     "output_type": "execute_result"
    }
   ],
   "source": [
    "disc['gmv'].mean()"
   ]
  },
  {
   "cell_type": "code",
   "execution_count": 21,
   "id": "fcaed456",
   "metadata": {},
   "outputs": [
    {
     "data": {
      "text/plain": [
       "1400420.4"
      ]
     },
     "execution_count": 21,
     "metadata": {},
     "output_type": "execute_result"
    }
   ],
   "source": [
    "non_disc['gmv'].mean()"
   ]
  },
  {
   "cell_type": "code",
   "execution_count": 22,
   "id": "aa0f2453",
   "metadata": {},
   "outputs": [
    {
     "data": {
      "text/plain": [
       "379730.52671323024"
      ]
     },
     "execution_count": 22,
     "metadata": {},
     "output_type": "execute_result"
    }
   ],
   "source": [
    "disc['gmv'].std()"
   ]
  },
  {
   "cell_type": "code",
   "execution_count": 23,
   "id": "f9feb301",
   "metadata": {},
   "outputs": [
    {
     "data": {
      "text/plain": [
       "117037.86961170756"
      ]
     },
     "execution_count": 23,
     "metadata": {},
     "output_type": "execute_result"
    }
   ],
   "source": [
    "non_disc['gmv'].std()"
   ]
  },
  {
   "cell_type": "code",
   "execution_count": 28,
   "id": "94975afd",
   "metadata": {},
   "outputs": [
    {
     "data": {
      "text/plain": [
       "(700000.0, 2750000.0)"
      ]
     },
     "execution_count": 28,
     "metadata": {},
     "output_type": "execute_result"
    },
    {
     "data": {
      "image/png": "[encoded data removed]",
      "text/plain": [
       "<Figure size 432x288 with 1 Axes>"
      ]
     },
     "metadata": {
      "needs_background": "light"
     },
     "output_type": "display_data"
    }
   ],
   "source": [
    "disc['gmv'].hist()\n",
    "plt.xlim([700000, 2750000])"
   ]
  },
  {
   "cell_type": "code",
   "execution_count": 27,
   "id": "31197a38",
   "metadata": {},
   "outputs": [
    {
     "data": {
      "text/plain": [
       "(700000.0, 2750000.0)"
      ]
     },
     "execution_count": 27,
     "metadata": {},
     "output_type": "execute_result"
    },
    {
     "data": {
      "image/png": "[encoded data removed]",
      "text/plain": [
       "<Figure size 432x288 with 1 Axes>"
      ]
     },
     "metadata": {
      "needs_background": "light"
     },
     "output_type": "display_data"
    }
   ],
   "source": [
    "non_disc['gmv'].hist()\n",
    "plt.xlim([700000, 2750000])"
   ]
  },
  {
   "cell_type": "markdown",
   "id": "7ee22687",
   "metadata": {},
   "source": [
    "Membuat pernyataan hipotesa\n",
    "\n",
    "H0: rata-rata Gross Merchandise Value (GMV) dari kelompok diskon **sama dengan** rata-rata GMV dari kelompok non diskon\n",
    "\n",
    "H1: rata-rata Gross Merchandise Value (GMV) dari kelompok diskon **tidak sama dengan** rata-rata GMV dari kelompok non diskon\n"
   ]
  },
  {
   "cell_type": "code",
   "execution_count": 29,
   "id": "0ed8c199",
   "metadata": {},
   "outputs": [
    {
     "data": {
      "text/plain": [
       "Ttest_indResult(statistic=4.381379304228691, pvalue=3.398180189931703e-05)"
      ]
     },
     "execution_count": 29,
     "metadata": {},
     "output_type": "execute_result"
    }
   ],
   "source": [
    "ttest_ecom = st.ttest_ind(a=disc['gmv'], b=non_disc['gmv'], equal_var=False)\n",
    "ttest_ecom"
   ]
  },
  {
   "cell_type": "markdown",
   "id": "466ae629",
   "metadata": {},
   "source": [
    "Cukup Bukti untuk menentang H0"
   ]
  },
  {
   "cell_type": "markdown",
   "id": "dd7f8a9d",
   "metadata": {},
   "source": [
    "## Analysis of Variance (ANOVA)"
   ]
  },
  {
   "cell_type": "code",
   "execution_count": 39,
   "id": "8a01f4c8",
   "metadata": {},
   "outputs": [
    {
     "data": {
      "text/html": [
       "<div>\n",
       "<style scoped>\n",
       "    .dataframe tbody tr th:only-of-type {\n",
       "        vertical-align: middle;\n",
       "    }\n",
       "\n",
       "    .dataframe tbody tr th {\n",
       "        vertical-align: top;\n",
       "    }\n",
       "\n",
       "    .dataframe thead th {\n",
       "        text-align: right;\n",
       "    }\n",
       "</style>\n",
       "<table border=\"1\" class=\"dataframe\">\n",
       "  <thead>\n",
       "    <tr style=\"text-align: right;\">\n",
       "      <th></th>\n",
       "      <th>Id</th>\n",
       "      <th>SepalLengthCm</th>\n",
       "      <th>SepalWidthCm</th>\n",
       "      <th>PetalLengthCm</th>\n",
       "      <th>PetalWidthCm</th>\n",
       "      <th>Species</th>\n",
       "    </tr>\n",
       "  </thead>\n",
       "  <tbody>\n",
       "    <tr>\n",
       "      <th>0</th>\n",
       "      <td>1</td>\n",
       "      <td>5.1</td>\n",
       "      <td>3.5</td>\n",
       "      <td>1.4</td>\n",
       "      <td>0.2</td>\n",
       "      <td>Iris-setosa</td>\n",
       "    </tr>\n",
       "    <tr>\n",
       "      <th>1</th>\n",
       "      <td>2</td>\n",
       "      <td>4.9</td>\n",
       "      <td>3.0</td>\n",
       "      <td>1.4</td>\n",
       "      <td>0.2</td>\n",
       "      <td>Iris-setosa</td>\n",
       "    </tr>\n",
       "    <tr>\n",
       "      <th>2</th>\n",
       "      <td>3</td>\n",
       "      <td>4.7</td>\n",
       "      <td>3.2</td>\n",
       "      <td>1.3</td>\n",
       "      <td>0.2</td>\n",
       "      <td>Iris-setosa</td>\n",
       "    </tr>\n",
       "    <tr>\n",
       "      <th>3</th>\n",
       "      <td>4</td>\n",
       "      <td>4.6</td>\n",
       "      <td>3.1</td>\n",
       "      <td>1.5</td>\n",
       "      <td>0.2</td>\n",
       "      <td>Iris-setosa</td>\n",
       "    </tr>\n",
       "    <tr>\n",
       "      <th>4</th>\n",
       "      <td>5</td>\n",
       "      <td>5.0</td>\n",
       "      <td>3.6</td>\n",
       "      <td>1.4</td>\n",
       "      <td>0.2</td>\n",
       "      <td>Iris-setosa</td>\n",
       "    </tr>\n",
       "  </tbody>\n",
       "</table>\n",
       "</div>"
      ],
      "text/plain": [
       "   Id  SepalLengthCm  SepalWidthCm  PetalLengthCm  PetalWidthCm      Species\n",
       "0   1            5.1           3.5            1.4           0.2  Iris-setosa\n",
       "1   2            4.9           3.0            1.4           0.2  Iris-setosa\n",
       "2   3            4.7           3.2            1.3           0.2  Iris-setosa\n",
       "3   4            4.6           3.1            1.5           0.2  Iris-setosa\n",
       "4   5            5.0           3.6            1.4           0.2  Iris-setosa"
      ]
     },
     "execution_count": 39,
     "metadata": {},
     "output_type": "execute_result"
    }
   ],
   "source": [
    "iris = pd.read_csv('Iris.csv')\n",
    "iris.head()"
   ]
  },
  {
   "cell_type": "code",
   "execution_count": 40,
   "id": "95879fd9",
   "metadata": {},
   "outputs": [
    {
     "data": {
      "text/plain": [
       "array(['Iris-setosa', 'Iris-versicolor', 'Iris-virginica'], dtype=object)"
      ]
     },
     "execution_count": 40,
     "metadata": {},
     "output_type": "execute_result"
    }
   ],
   "source": [
    "iris['Species'].unique()"
   ]
  },
  {
   "cell_type": "markdown",
   "id": "264040bd",
   "metadata": {},
   "source": [
    "![iris](https://miro.medium.com/max/1000/1*Hh53mOF4Xy4eORjLilKOwA.png)"
   ]
  },
  {
   "cell_type": "markdown",
   "id": "b15c590f",
   "metadata": {},
   "source": [
    "Uji One-Way ANOVA\n",
    "\n",
    "H0: Lebar sepal untuk ketiga kategori species **sama**\n",
    "\n",
    "\n",
    "H1: Lebar sepal untuk ketiga kategori species **tidak sama**"
   ]
  },
  {
   "cell_type": "code",
   "execution_count": 41,
   "id": "c76350dc",
   "metadata": {},
   "outputs": [],
   "source": [
    "setosa = iris[iris['Species']=='Iris-setosa']\n",
    "versicolor = iris[iris['Species']=='Iris-versicolor']\n",
    "virginica = iris[iris['Species']=='Iris-virginica']"
   ]
  },
  {
   "cell_type": "code",
   "execution_count": 42,
   "id": "1bb8c1f3",
   "metadata": {},
   "outputs": [
    {
     "data": {
      "text/plain": [
       "3.4180000000000006"
      ]
     },
     "execution_count": 42,
     "metadata": {},
     "output_type": "execute_result"
    }
   ],
   "source": [
    "setosa['SepalWidthCm'].mean()"
   ]
  },
  {
   "cell_type": "code",
   "execution_count": 43,
   "id": "1592d52f",
   "metadata": {},
   "outputs": [
    {
     "data": {
      "text/plain": [
       "2.7700000000000005"
      ]
     },
     "execution_count": 43,
     "metadata": {},
     "output_type": "execute_result"
    }
   ],
   "source": [
    "versicolor['SepalWidthCm'].mean()"
   ]
  },
  {
   "cell_type": "code",
   "execution_count": 44,
   "id": "5f0fbb98",
   "metadata": {},
   "outputs": [
    {
     "data": {
      "text/plain": [
       "2.9739999999999998"
      ]
     },
     "execution_count": 44,
     "metadata": {},
     "output_type": "execute_result"
    }
   ],
   "source": [
    "virginica['SepalWidthCm'].mean()"
   ]
  },
  {
   "cell_type": "code",
   "execution_count": 45,
   "id": "ab950c21",
   "metadata": {},
   "outputs": [],
   "source": [
    "anova_iris = st.f_oneway(setosa['SepalWidthCm'], versicolor['SepalWidthCm'], virginica['SepalWidthCm'])"
   ]
  },
  {
   "cell_type": "code",
   "execution_count": 46,
   "id": "d0f47418",
   "metadata": {},
   "outputs": [
    {
     "data": {
      "text/plain": [
       "F_onewayResult(statistic=47.36446140299382, pvalue=1.3279165184572242e-16)"
      ]
     },
     "execution_count": 46,
     "metadata": {},
     "output_type": "execute_result"
    }
   ],
   "source": [
    "anova_iris"
   ]
  },
  {
   "cell_type": "markdown",
   "id": "5bf93ef6",
   "metadata": {},
   "source": [
    "Cukup bukti untuk menentang H0"
   ]
  },
  {
   "cell_type": "code",
   "execution_count": 47,
   "id": "a9d6d095",
   "metadata": {},
   "outputs": [],
   "source": [
    "import statsmodels.api as sm\n",
    "from statsmodels.formula.api import ols # Ordinary least square\n",
    "model = ols('SepalWidthCm ~ Species', data=iris).fit()\n",
    "\n",
    "anova_table = sm.stats.anova_lm(model, typ=2)"
   ]
  },
  {
   "cell_type": "code",
   "execution_count": 48,
   "id": "ee994bb0",
   "metadata": {},
   "outputs": [
    {
     "data": {
      "text/html": [
       "<div>\n",
       "<style scoped>\n",
       "    .dataframe tbody tr th:only-of-type {\n",
       "        vertical-align: middle;\n",
       "    }\n",
       "\n",
       "    .dataframe tbody tr th {\n",
       "        vertical-align: top;\n",
       "    }\n",
       "\n",
       "    .dataframe thead th {\n",
       "        text-align: right;\n",
       "    }\n",
       "</style>\n",
       "<table border=\"1\" class=\"dataframe\">\n",
       "  <thead>\n",
       "    <tr style=\"text-align: right;\">\n",
       "      <th></th>\n",
       "      <th>sum_sq</th>\n",
       "      <th>df</th>\n",
       "      <th>F</th>\n",
       "      <th>PR(&gt;F)</th>\n",
       "    </tr>\n",
       "  </thead>\n",
       "  <tbody>\n",
       "    <tr>\n",
       "      <th>Species</th>\n",
       "      <td>10.9776</td>\n",
       "      <td>2.0</td>\n",
       "      <td>47.364461</td>\n",
       "      <td>1.327917e-16</td>\n",
       "    </tr>\n",
       "    <tr>\n",
       "      <th>Residual</th>\n",
       "      <td>17.0350</td>\n",
       "      <td>147.0</td>\n",
       "      <td>NaN</td>\n",
       "      <td>NaN</td>\n",
       "    </tr>\n",
       "  </tbody>\n",
       "</table>\n",
       "</div>"
      ],
      "text/plain": [
       "           sum_sq     df          F        PR(>F)\n",
       "Species   10.9776    2.0  47.364461  1.327917e-16\n",
       "Residual  17.0350  147.0        NaN           NaN"
      ]
     },
     "execution_count": 48,
     "metadata": {},
     "output_type": "execute_result"
    }
   ],
   "source": [
    "anova_table"
   ]
  },
  {
   "cell_type": "code",
   "execution_count": 49,
   "id": "02a08df2",
   "metadata": {},
   "outputs": [
    {
     "data": {
      "text/html": [
       "<div>\n",
       "<style scoped>\n",
       "    .dataframe tbody tr th:only-of-type {\n",
       "        vertical-align: middle;\n",
       "    }\n",
       "\n",
       "    .dataframe tbody tr th {\n",
       "        vertical-align: top;\n",
       "    }\n",
       "\n",
       "    .dataframe thead th {\n",
       "        text-align: right;\n",
       "    }\n",
       "</style>\n",
       "<table border=\"1\" class=\"dataframe\">\n",
       "  <thead>\n",
       "    <tr style=\"text-align: right;\">\n",
       "      <th></th>\n",
       "      <th>coef</th>\n",
       "      <th>std err</th>\n",
       "      <th>t</th>\n",
       "      <th>P&gt;|t|</th>\n",
       "      <th>Conf. Int. Low</th>\n",
       "      <th>Conf. Int. Upp.</th>\n",
       "      <th>pvalue-hs</th>\n",
       "      <th>reject-hs</th>\n",
       "    </tr>\n",
       "  </thead>\n",
       "  <tbody>\n",
       "    <tr>\n",
       "      <th>Iris-versicolor-Iris-setosa</th>\n",
       "      <td>-0.648</td>\n",
       "      <td>0.068084</td>\n",
       "      <td>-9.517713</td>\n",
       "      <td>4.979528e-17</td>\n",
       "      <td>-0.782549</td>\n",
       "      <td>-0.513451</td>\n",
       "      <td>0.000000e+00</td>\n",
       "      <td>True</td>\n",
       "    </tr>\n",
       "    <tr>\n",
       "      <th>Iris-virginica-Iris-setosa</th>\n",
       "      <td>-0.444</td>\n",
       "      <td>0.068084</td>\n",
       "      <td>-6.521396</td>\n",
       "      <td>1.050058e-09</td>\n",
       "      <td>-0.578549</td>\n",
       "      <td>-0.309451</td>\n",
       "      <td>2.100115e-09</td>\n",
       "      <td>True</td>\n",
       "    </tr>\n",
       "    <tr>\n",
       "      <th>Iris-virginica-Iris-versicolor</th>\n",
       "      <td>0.204</td>\n",
       "      <td>0.068084</td>\n",
       "      <td>2.996317</td>\n",
       "      <td>3.208418e-03</td>\n",
       "      <td>0.069451</td>\n",
       "      <td>0.338549</td>\n",
       "      <td>3.208418e-03</td>\n",
       "      <td>True</td>\n",
       "    </tr>\n",
       "  </tbody>\n",
       "</table>\n",
       "</div>"
      ],
      "text/plain": [
       "                                 coef   std err         t         P>|t|  \\\n",
       "Iris-versicolor-Iris-setosa    -0.648  0.068084 -9.517713  4.979528e-17   \n",
       "Iris-virginica-Iris-setosa     -0.444  0.068084 -6.521396  1.050058e-09   \n",
       "Iris-virginica-Iris-versicolor  0.204  0.068084  2.996317  3.208418e-03   \n",
       "\n",
       "                                Conf. Int. Low  Conf. Int. Upp.     pvalue-hs  \\\n",
       "Iris-versicolor-Iris-setosa          -0.782549        -0.513451  0.000000e+00   \n",
       "Iris-virginica-Iris-setosa           -0.578549        -0.309451  2.100115e-09   \n",
       "Iris-virginica-Iris-versicolor        0.069451         0.338549  3.208418e-03   \n",
       "\n",
       "                                reject-hs  \n",
       "Iris-versicolor-Iris-setosa          True  \n",
       "Iris-virginica-Iris-setosa           True  \n",
       "Iris-virginica-Iris-versicolor       True  "
      ]
     },
     "execution_count": 49,
     "metadata": {},
     "output_type": "execute_result"
    }
   ],
   "source": [
    "pairwise = model.t_test_pairwise('Species')\n",
    "pairwise.result_frame"
   ]
  },
  {
   "cell_type": "markdown",
   "id": "cf30b83c",
   "metadata": {},
   "source": [
    "## A/B Testing"
   ]
  },
  {
   "cell_type": "code",
   "execution_count": 50,
   "id": "c1476f16",
   "metadata": {},
   "outputs": [
    {
     "data": {
      "text/html": [
       "<div>\n",
       "<style scoped>\n",
       "    .dataframe tbody tr th:only-of-type {\n",
       "        vertical-align: middle;\n",
       "    }\n",
       "\n",
       "    .dataframe tbody tr th {\n",
       "        vertical-align: top;\n",
       "    }\n",
       "\n",
       "    .dataframe thead th {\n",
       "        text-align: right;\n",
       "    }\n",
       "</style>\n",
       "<table border=\"1\" class=\"dataframe\">\n",
       "  <thead>\n",
       "    <tr style=\"text-align: right;\">\n",
       "      <th></th>\n",
       "      <th>user_id</th>\n",
       "      <th>timestamp</th>\n",
       "      <th>group</th>\n",
       "      <th>landing_page</th>\n",
       "      <th>converted</th>\n",
       "    </tr>\n",
       "  </thead>\n",
       "  <tbody>\n",
       "    <tr>\n",
       "      <th>0</th>\n",
       "      <td>851104</td>\n",
       "      <td>2017-01-21 22:11:48.556739</td>\n",
       "      <td>control</td>\n",
       "      <td>old_page</td>\n",
       "      <td>0</td>\n",
       "    </tr>\n",
       "    <tr>\n",
       "      <th>1</th>\n",
       "      <td>804228</td>\n",
       "      <td>2017-01-12 08:01:45.159739</td>\n",
       "      <td>control</td>\n",
       "      <td>old_page</td>\n",
       "      <td>0</td>\n",
       "    </tr>\n",
       "    <tr>\n",
       "      <th>2</th>\n",
       "      <td>661590</td>\n",
       "      <td>2017-01-11 16:55:06.154213</td>\n",
       "      <td>treatment</td>\n",
       "      <td>new_page</td>\n",
       "      <td>0</td>\n",
       "    </tr>\n",
       "    <tr>\n",
       "      <th>3</th>\n",
       "      <td>853541</td>\n",
       "      <td>2017-01-08 18:28:03.143765</td>\n",
       "      <td>treatment</td>\n",
       "      <td>new_page</td>\n",
       "      <td>0</td>\n",
       "    </tr>\n",
       "    <tr>\n",
       "      <th>4</th>\n",
       "      <td>864975</td>\n",
       "      <td>2017-01-21 01:52:26.210827</td>\n",
       "      <td>control</td>\n",
       "      <td>old_page</td>\n",
       "      <td>1</td>\n",
       "    </tr>\n",
       "  </tbody>\n",
       "</table>\n",
       "</div>"
      ],
      "text/plain": [
       "   user_id                   timestamp      group landing_page  converted\n",
       "0   851104  2017-01-21 22:11:48.556739    control     old_page          0\n",
       "1   804228  2017-01-12 08:01:45.159739    control     old_page          0\n",
       "2   661590  2017-01-11 16:55:06.154213  treatment     new_page          0\n",
       "3   853541  2017-01-08 18:28:03.143765  treatment     new_page          0\n",
       "4   864975  2017-01-21 01:52:26.210827    control     old_page          1"
      ]
     },
     "execution_count": 50,
     "metadata": {},
     "output_type": "execute_result"
    }
   ],
   "source": [
    "df_ab = pd.read_csv('ab_data.csv')\n",
    "df_ab.head()"
   ]
  },
  {
   "cell_type": "code",
   "execution_count": 51,
   "id": "0f1809c8",
   "metadata": {},
   "outputs": [
    {
     "data": {
      "text/plain": [
       "(294478, 5)"
      ]
     },
     "execution_count": 51,
     "metadata": {},
     "output_type": "execute_result"
    }
   ],
   "source": [
    "df_ab.shape"
   ]
  },
  {
   "cell_type": "code",
   "execution_count": 52,
   "id": "5a6c9092",
   "metadata": {},
   "outputs": [
    {
     "data": {
      "text/plain": [
       "<AxesSubplot:>"
      ]
     },
     "execution_count": 52,
     "metadata": {},
     "output_type": "execute_result"
    },
    {
     "data": {
      "image/png": "[encoded data removed]",
      "text/plain": [
       "<Figure size 432x288 with 1 Axes>"
      ]
     },
     "metadata": {
      "needs_background": "light"
     },
     "output_type": "display_data"
    }
   ],
   "source": [
    "df_ab['landing_page'].hist()"
   ]
  },
  {
   "cell_type": "code",
   "execution_count": 53,
   "id": "dc83dbeb",
   "metadata": {},
   "outputs": [],
   "source": [
    "import statsmodels.stats.proportion as sp"
   ]
  },
  {
   "cell_type": "code",
   "execution_count": 54,
   "id": "6893f9ff",
   "metadata": {},
   "outputs": [],
   "source": [
    "old = df_ab[df_ab['landing_page']=='old_page']\n",
    "new = df_ab[df_ab['landing_page']=='new_page']"
   ]
  },
  {
   "cell_type": "code",
   "execution_count": 57,
   "id": "2fe52e25",
   "metadata": {},
   "outputs": [
    {
     "data": {
      "text/plain": [
       "147239"
      ]
     },
     "execution_count": 57,
     "metadata": {},
     "output_type": "execute_result"
    }
   ],
   "source": [
    "len(old)"
   ]
  },
  {
   "cell_type": "code",
   "execution_count": 58,
   "id": "2a7af453",
   "metadata": {},
   "outputs": [
    {
     "data": {
      "text/plain": [
       "17739"
      ]
     },
     "execution_count": 58,
     "metadata": {},
     "output_type": "execute_result"
    }
   ],
   "source": [
    "old['converted'].sum()"
   ]
  },
  {
   "cell_type": "code",
   "execution_count": 59,
   "id": "02997802",
   "metadata": {},
   "outputs": [
    {
     "data": {
      "text/plain": [
       "0.12047759085568362"
      ]
     },
     "execution_count": 59,
     "metadata": {},
     "output_type": "execute_result"
    }
   ],
   "source": [
    "17739/147239"
   ]
  },
  {
   "cell_type": "code",
   "execution_count": 55,
   "id": "fcf49077",
   "metadata": {},
   "outputs": [
    {
     "data": {
      "text/plain": [
       "0.12047759085568362"
      ]
     },
     "execution_count": 55,
     "metadata": {},
     "output_type": "execute_result"
    }
   ],
   "source": [
    "old['converted'].mean() # proporsi user penerima old design yang converted"
   ]
  },
  {
   "cell_type": "code",
   "execution_count": 56,
   "id": "0ab37dfd",
   "metadata": {},
   "outputs": [
    {
     "data": {
      "text/plain": [
       "0.11884079625642663"
      ]
     },
     "execution_count": 56,
     "metadata": {},
     "output_type": "execute_result"
    }
   ],
   "source": [
    "new['converted'].mean() # proporsi user penerima new design yang converted"
   ]
  },
  {
   "cell_type": "markdown",
   "id": "36ac677e",
   "metadata": {},
   "source": [
    "H0: Design lama dan design baru memiliki conversion rate yang **sama**\n",
    "\n",
    "\n",
    "H1: Design lama dan design baru memiliki conversion rate yang **tidak sama**"
   ]
  },
  {
   "cell_type": "code",
   "execution_count": 60,
   "id": "3e5a86c8",
   "metadata": {},
   "outputs": [],
   "source": [
    "old_sum = old['converted'].sum()\n",
    "new_sum = new['converted'].sum()\n",
    "old_size = len(old)\n",
    "new_size = len(new)"
   ]
  },
  {
   "cell_type": "code",
   "execution_count": 61,
   "id": "a7162905",
   "metadata": {},
   "outputs": [],
   "source": [
    "abtest = sp.proportions_ztest(np.array([old_sum, new_sum]), np.array([old_size, new_size]))"
   ]
  },
  {
   "cell_type": "code",
   "execution_count": 62,
   "id": "85b54869",
   "metadata": {},
   "outputs": [
    {
     "data": {
      "text/plain": [
       "(1.3683341399998907, 0.17120750909314209)"
      ]
     },
     "execution_count": 62,
     "metadata": {},
     "output_type": "execute_result"
    }
   ],
   "source": [
    "abtest"
   ]
  },
  {
   "cell_type": "code",
   "execution_count": 63,
   "id": "c1a594f2",
   "metadata": {},
   "outputs": [
    {
     "data": {
      "text/plain": [
       "0.17120750909314209"
      ]
     },
     "execution_count": 63,
     "metadata": {},
     "output_type": "execute_result"
    }
   ],
   "source": [
    "abtest[1] # P value"
   ]
  },
  {
   "cell_type": "markdown",
   "id": "f3d7391e",
   "metadata": {},
   "source": [
    "Belum cukup bukti untuk menentang H0"
   ]
  }
 ],
 "metadata": {
  "kernelspec": {
   "display_name": "Python 3 (ipykernel)",
   "language": "python",
   "name": "python3"
  },
  "language_info": {
   "codemirror_mode": {
    "name": "ipython",
    "version": 3
   },
   "file_extension": ".py",
   "mimetype": "text/x-python",
   "name": "python",
   "nbconvert_exporter": "python",
   "pygments_lexer": "ipython3",
   "version": "3.8.11"
  }
 },
 "nbformat": 4,
 "nbformat_minor": 5
}
