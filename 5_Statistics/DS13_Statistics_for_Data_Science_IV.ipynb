{
 "cells": [
  {
   "cell_type": "markdown",
   "id": "65807978",
   "metadata": {},
   "source": [
    "# Statistics for Data Science IV\n",
    "\n",
    "- Two Sample t-test\n",
    "- One-way ANOVA"
   ]
  },
  {
   "cell_type": "markdown",
   "id": "d74c9694",
   "metadata": {},
   "source": [
    "## Hypothesis Testing"
   ]
  },
  {
   "cell_type": "markdown",
   "id": "e40c3ca3",
   "metadata": {
    "id": "sfQaQdxMmJqc"
   },
   "source": [
    "#### Two sample t-test"
   ]
  },
  {
   "cell_type": "markdown",
   "id": "1b852963",
   "metadata": {
    "id": "D9rfS650mciW"
   },
   "source": [
    "scipy.stats.ttest_ind(a, b, axis=0, equal_var=True, nan_policy='propagate', permutations=None, random_state=None, alternative='two-sided', trim=0)\n",
    "\n",
    "---\n",
    "\n",
    "Calculate the T-test for the means of two independent samples of scores.\n",
    "\n",
    "This is a two-sided test for the null hypothesis that 2 independent samples have identical average (expected) values. This test assumes that the populations have identical variances by default."
   ]
  },
  {
   "cell_type": "markdown",
   "id": "cc40a93b",
   "metadata": {
    "id": "ghPZb7RWodXn"
   },
   "source": [
    "**Membuat statement hipotesa**\n",
    "\n",
    "H0 : rata-rata 'tip' dari perokok **sama dengan** rata-rata 'tip' dari yang bukan perokok\n",
    "\n",
    "H1 : rata-rata 'tip' dari perokok **tidak sama dengan** rata-rata 'tip' dari yang bukan perokok"
   ]
  },
  {
   "cell_type": "code",
   "execution_count": 1,
   "id": "ab406a91",
   "metadata": {},
   "outputs": [],
   "source": [
    "import pandas as pd\n",
    "import numpy as np\n",
    "import scipy.stats as st\n",
    "import matplotlib.pyplot as plt\n",
    "import seaborn as sns"
   ]
  },
  {
   "cell_type": "code",
   "execution_count": 2,
   "id": "cafe6e61",
   "metadata": {},
   "outputs": [
    {
     "data": {
      "text/html": [
       "<div>\n",
       "<style scoped>\n",
       "    .dataframe tbody tr th:only-of-type {\n",
       "        vertical-align: middle;\n",
       "    }\n",
       "\n",
       "    .dataframe tbody tr th {\n",
       "        vertical-align: top;\n",
       "    }\n",
       "\n",
       "    .dataframe thead th {\n",
       "        text-align: right;\n",
       "    }\n",
       "</style>\n",
       "<table border=\"1\" class=\"dataframe\">\n",
       "  <thead>\n",
       "    <tr style=\"text-align: right;\">\n",
       "      <th></th>\n",
       "      <th>total_bill</th>\n",
       "      <th>tip</th>\n",
       "      <th>sex</th>\n",
       "      <th>smoker</th>\n",
       "      <th>day</th>\n",
       "      <th>time</th>\n",
       "      <th>size</th>\n",
       "    </tr>\n",
       "  </thead>\n",
       "  <tbody>\n",
       "    <tr>\n",
       "      <th>0</th>\n",
       "      <td>16.99</td>\n",
       "      <td>1.01</td>\n",
       "      <td>Female</td>\n",
       "      <td>No</td>\n",
       "      <td>Sun</td>\n",
       "      <td>Dinner</td>\n",
       "      <td>2</td>\n",
       "    </tr>\n",
       "    <tr>\n",
       "      <th>1</th>\n",
       "      <td>10.34</td>\n",
       "      <td>1.66</td>\n",
       "      <td>Male</td>\n",
       "      <td>No</td>\n",
       "      <td>Sun</td>\n",
       "      <td>Dinner</td>\n",
       "      <td>3</td>\n",
       "    </tr>\n",
       "    <tr>\n",
       "      <th>2</th>\n",
       "      <td>21.01</td>\n",
       "      <td>3.50</td>\n",
       "      <td>Male</td>\n",
       "      <td>No</td>\n",
       "      <td>Sun</td>\n",
       "      <td>Dinner</td>\n",
       "      <td>3</td>\n",
       "    </tr>\n",
       "    <tr>\n",
       "      <th>3</th>\n",
       "      <td>23.68</td>\n",
       "      <td>3.31</td>\n",
       "      <td>Male</td>\n",
       "      <td>No</td>\n",
       "      <td>Sun</td>\n",
       "      <td>Dinner</td>\n",
       "      <td>2</td>\n",
       "    </tr>\n",
       "    <tr>\n",
       "      <th>4</th>\n",
       "      <td>24.59</td>\n",
       "      <td>3.61</td>\n",
       "      <td>Female</td>\n",
       "      <td>No</td>\n",
       "      <td>Sun</td>\n",
       "      <td>Dinner</td>\n",
       "      <td>4</td>\n",
       "    </tr>\n",
       "  </tbody>\n",
       "</table>\n",
       "</div>"
      ],
      "text/plain": [
       "   total_bill   tip     sex smoker  day    time  size\n",
       "0       16.99  1.01  Female     No  Sun  Dinner     2\n",
       "1       10.34  1.66    Male     No  Sun  Dinner     3\n",
       "2       21.01  3.50    Male     No  Sun  Dinner     3\n",
       "3       23.68  3.31    Male     No  Sun  Dinner     2\n",
       "4       24.59  3.61  Female     No  Sun  Dinner     4"
      ]
     },
     "execution_count": 2,
     "metadata": {},
     "output_type": "execute_result"
    }
   ],
   "source": [
    "data = sns.load_dataset('tips')\n",
    "data.head()"
   ]
  },
  {
   "cell_type": "code",
   "execution_count": 3,
   "id": "fc2f6643",
   "metadata": {},
   "outputs": [
    {
     "data": {
      "text/plain": [
       "3.008709677419355"
      ]
     },
     "execution_count": 3,
     "metadata": {},
     "output_type": "execute_result"
    }
   ],
   "source": [
    "smokers_tip = data[data['smoker']=='Yes']['tip']\n",
    "smokers_tip.mean()"
   ]
  },
  {
   "cell_type": "code",
   "execution_count": 4,
   "id": "3b55bdc2",
   "metadata": {},
   "outputs": [
    {
     "data": {
      "text/plain": [
       "2.9918543046357624"
      ]
     },
     "execution_count": 4,
     "metadata": {},
     "output_type": "execute_result"
    }
   ],
   "source": [
    "nonsmokers_tip = data[data['smoker']=='No']['tip']\n",
    "nonsmokers_tip.mean()"
   ]
  },
  {
   "cell_type": "code",
   "execution_count": 5,
   "id": "4f2709f2",
   "metadata": {},
   "outputs": [],
   "source": [
    "ttest_2 = st.ttest_ind(a = smokers_tip, b = nonsmokers_tip, equal_var=True)"
   ]
  },
  {
   "cell_type": "code",
   "execution_count": 6,
   "id": "000f33f6",
   "metadata": {},
   "outputs": [
    {
     "data": {
      "text/plain": [
       "0.9265931522244976"
      ]
     },
     "execution_count": 6,
     "metadata": {},
     "output_type": "execute_result"
    }
   ],
   "source": [
    "ttest_2.pvalue\n",
    "# Belum cukup bukti untuk menentang H0"
   ]
  },
  {
   "cell_type": "code",
   "execution_count": 7,
   "id": "5b4f2dfb",
   "metadata": {},
   "outputs": [
    {
     "data": {
      "text/plain": [
       "1.4014675738128255"
      ]
     },
     "execution_count": 7,
     "metadata": {},
     "output_type": "execute_result"
    }
   ],
   "source": [
    "smokers_tip.std()"
   ]
  },
  {
   "cell_type": "code",
   "execution_count": 8,
   "id": "2df5c9c5",
   "metadata": {},
   "outputs": [
    {
     "data": {
      "text/plain": [
       "1.37719008805297"
      ]
     },
     "execution_count": 8,
     "metadata": {},
     "output_type": "execute_result"
    }
   ],
   "source": [
    "nonsmokers_tip.std()"
   ]
  },
  {
   "cell_type": "markdown",
   "id": "472eb7bc",
   "metadata": {},
   "source": [
    "#### Contoh 2: E-commerce Sample"
   ]
  },
  {
   "cell_type": "code",
   "execution_count": null,
   "id": "0c3d67aa",
   "metadata": {},
   "outputs": [],
   "source": [
    "df = pd.read_csv('e-commerce_example_dataset.csv')\n",
    "df.head()"
   ]
  },
  {
   "cell_type": "code",
   "execution_count": null,
   "id": "c3ad6650",
   "metadata": {},
   "outputs": [],
   "source": [
    "df.shape"
   ]
  },
  {
   "cell_type": "code",
   "execution_count": null,
   "id": "0b49db2d",
   "metadata": {},
   "outputs": [],
   "source": [
    "df['discount'].value_counts()"
   ]
  },
  {
   "cell_type": "code",
   "execution_count": null,
   "id": "3cfb3dff",
   "metadata": {},
   "outputs": [],
   "source": [
    "disc = df[df['discount']=='discount']\n",
    "non_disc = df[df['discount']=='not-discount']"
   ]
  },
  {
   "cell_type": "code",
   "execution_count": null,
   "id": "720599b3",
   "metadata": {},
   "outputs": [],
   "source": [
    "disc['gmv'].mean()"
   ]
  },
  {
   "cell_type": "code",
   "execution_count": null,
   "id": "7ed13a98",
   "metadata": {},
   "outputs": [],
   "source": [
    "non_disc['gmv'].mean()"
   ]
  },
  {
   "cell_type": "markdown",
   "id": "f370338d",
   "metadata": {},
   "source": [
    "#### Langkah 1\n",
    "\n",
    "Kita ingin menganalisis apakah discount punya pengaruh signifikan pada gmv\n",
    "\n",
    "**Membuat statement hipotesa**\n",
    "\n",
    "H0 : rata-rata gmv discount **sama dengan** gmv non-discount\n",
    "\n",
    "H1 : rata-rata gmv discount **tidak sama dengan** gmv non-discount\n",
    "\n",
    "\n",
    "Jika H1 diterima berarti discount punya pengaruh signifikan pada gmv, dimana gmv discount > gmv not-discount"
   ]
  },
  {
   "cell_type": "code",
   "execution_count": null,
   "id": "217d302c",
   "metadata": {},
   "outputs": [],
   "source": [
    "disc['gmv'].hist()"
   ]
  },
  {
   "cell_type": "code",
   "execution_count": null,
   "id": "5c4e5781",
   "metadata": {},
   "outputs": [],
   "source": [
    "non_disc['gmv'].hist()\n",
    "plt.xlim([750000,2750000])"
   ]
  },
  {
   "cell_type": "code",
   "execution_count": null,
   "id": "666b633c",
   "metadata": {},
   "outputs": [],
   "source": [
    "disc['gmv'].std()"
   ]
  },
  {
   "cell_type": "code",
   "execution_count": null,
   "id": "5b30e193",
   "metadata": {},
   "outputs": [],
   "source": [
    "non_disc['gmv'].std()"
   ]
  },
  {
   "cell_type": "code",
   "execution_count": null,
   "id": "9b06617a",
   "metadata": {},
   "outputs": [],
   "source": [
    "ttest_ecom = st.ttest_ind(a=disc['gmv'], b=non_disc['gmv'], equal_var=False)\n",
    "ttest_ecom.pvalue"
   ]
  },
  {
   "cell_type": "code",
   "execution_count": null,
   "id": "21a61b57",
   "metadata": {},
   "outputs": [],
   "source": [
    "print('Cukup Bukti untuk menentang H0')"
   ]
  },
  {
   "cell_type": "markdown",
   "id": "d896d080",
   "metadata": {},
   "source": [
    "## Analysis of Variance (ANOVA)"
   ]
  },
  {
   "cell_type": "code",
   "execution_count": null,
   "id": "c8c56bef",
   "metadata": {},
   "outputs": [],
   "source": [
    "iris = pd.read_csv('Iris.csv')\n",
    "iris.head()"
   ]
  },
  {
   "cell_type": "code",
   "execution_count": null,
   "id": "db81c93c",
   "metadata": {},
   "outputs": [],
   "source": [
    "iris['Species'].unique()"
   ]
  },
  {
   "cell_type": "markdown",
   "id": "13dd0597",
   "metadata": {},
   "source": [
    "![iris](https://miro.medium.com/max/1000/1*Hh53mOF4Xy4eORjLilKOwA.png)"
   ]
  },
  {
   "cell_type": "markdown",
   "id": "bb852744",
   "metadata": {},
   "source": [
    "Uji Anova One-Way\n",
    "\n",
    "- H0: Lebar Sepal untuk ketiga kategori **sama**\n",
    "- H1: Lebar Sepal untuk ketiga kategori **tidak sama**"
   ]
  },
  {
   "cell_type": "code",
   "execution_count": null,
   "id": "74e98ddb",
   "metadata": {},
   "outputs": [],
   "source": [
    "setosa = iris[iris['Species']=='Iris-setosa']\n",
    "versicolor = iris[iris['Species']=='Iris-versicolor']\n",
    "virginica = iris[iris['Species']=='Iris-virginica']"
   ]
  },
  {
   "cell_type": "code",
   "execution_count": null,
   "id": "23a627b5",
   "metadata": {},
   "outputs": [],
   "source": [
    "anova_iris = st.f_oneway(setosa['SepalWidthCm'], versicolor['SepalWidthCm'], virginica['SepalWidthCm'])"
   ]
  },
  {
   "cell_type": "code",
   "execution_count": null,
   "id": "3a6c256e",
   "metadata": {},
   "outputs": [],
   "source": [
    "anova_iris"
   ]
  },
  {
   "cell_type": "code",
   "execution_count": null,
   "id": "d0417812",
   "metadata": {},
   "outputs": [],
   "source": [
    "import statsmodels.api as sm\n",
    "from statsmodels.formula.api import ols\n",
    "\n",
    "model = ols('SepalWidthCm ~ Species', data=iris).fit()"
   ]
  },
  {
   "cell_type": "code",
   "execution_count": null,
   "id": "1575e40e",
   "metadata": {},
   "outputs": [],
   "source": [
    "anova_table = sm.stats.anova_lm(model, typ=2)\n",
    "anova_table"
   ]
  },
  {
   "cell_type": "code",
   "execution_count": null,
   "id": "0868d2d9",
   "metadata": {},
   "outputs": [],
   "source": [
    "pair_ttest = model.t_test_pairwise('Species')\n",
    "pair_ttest.result_frame"
   ]
  },
  {
   "cell_type": "code",
   "execution_count": null,
   "id": "594327ee",
   "metadata": {},
   "outputs": [],
   "source": [
    "setosa['SepalWidthCm'].mean()"
   ]
  },
  {
   "cell_type": "code",
   "execution_count": null,
   "id": "b985009c",
   "metadata": {},
   "outputs": [],
   "source": [
    "versicolor['SepalWidthCm'].mean()"
   ]
  },
  {
   "cell_type": "code",
   "execution_count": null,
   "id": "83f27373",
   "metadata": {},
   "outputs": [],
   "source": [
    "virginica['SepalWidthCm'].mean()"
   ]
  },
  {
   "cell_type": "markdown",
   "id": "bf5f5b91",
   "metadata": {},
   "source": [
    "T-test of Mean Difference:\n",
    "\n",
    "- H0: (mean_1 - mean_2) sama dengan 0\n",
    "- H1: (mean_1 - mean_2) tidak sama dengan 0"
   ]
  }
 ],
 "metadata": {
  "kernelspec": {
   "display_name": "Python 3 (ipykernel)",
   "language": "python",
   "name": "python3"
  },
  "language_info": {
   "codemirror_mode": {
    "name": "ipython",
    "version": 3
   },
   "file_extension": ".py",
   "mimetype": "text/x-python",
   "name": "python",
   "nbconvert_exporter": "python",
   "pygments_lexer": "ipython3",
   "version": "3.8.11"
  }
 },
 "nbformat": 4,
 "nbformat_minor": 5
}
