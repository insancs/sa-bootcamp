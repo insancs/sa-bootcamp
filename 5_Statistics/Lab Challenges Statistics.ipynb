{
 "cells": [
  {
   "cell_type": "markdown",
   "metadata": {},
   "source": [
    "# Session 29 - Lab Challenges Statistics\n",
    "\n",
    "### Dengan menggunakan US Superstore data kita akan melakukan beberapa analisa statistika dasar yang mencakup\n",
    "\n",
    "- Analisa Deskriptif\n",
    "- Penarikan Sample\n",
    "- Uji Hipotesa"
   ]
  },
  {
   "cell_type": "markdown",
   "metadata": {},
   "source": [
    "### Import Dataset (US Superstore data.xls)"
   ]
  },
  {
   "cell_type": "code",
   "execution_count": 2,
   "metadata": {},
   "outputs": [],
   "source": [
    "import pandas as pd\n",
    "import numpy as np\n",
    "import seaborn as sns\n",
    "import matplotlib.pyplot as plt"
   ]
  },
  {
   "cell_type": "code",
   "execution_count": 4,
   "metadata": {},
   "outputs": [
    {
     "data": {
      "text/html": [
       "<div>\n",
       "<style scoped>\n",
       "    .dataframe tbody tr th:only-of-type {\n",
       "        vertical-align: middle;\n",
       "    }\n",
       "\n",
       "    .dataframe tbody tr th {\n",
       "        vertical-align: top;\n",
       "    }\n",
       "\n",
       "    .dataframe thead th {\n",
       "        text-align: right;\n",
       "    }\n",
       "</style>\n",
       "<table border=\"1\" class=\"dataframe\">\n",
       "  <thead>\n",
       "    <tr style=\"text-align: right;\">\n",
       "      <th></th>\n",
       "      <th>Row ID</th>\n",
       "      <th>Order ID</th>\n",
       "      <th>Order Date</th>\n",
       "      <th>Ship Date</th>\n",
       "      <th>Ship Mode</th>\n",
       "      <th>Customer ID</th>\n",
       "      <th>Customer Name</th>\n",
       "      <th>Segment</th>\n",
       "      <th>Country</th>\n",
       "      <th>City</th>\n",
       "      <th>...</th>\n",
       "      <th>Postal Code</th>\n",
       "      <th>Region</th>\n",
       "      <th>Product ID</th>\n",
       "      <th>Category</th>\n",
       "      <th>Sub-Category</th>\n",
       "      <th>Product Name</th>\n",
       "      <th>Sales</th>\n",
       "      <th>Quantity</th>\n",
       "      <th>Discount</th>\n",
       "      <th>Profit</th>\n",
       "    </tr>\n",
       "  </thead>\n",
       "  <tbody>\n",
       "    <tr>\n",
       "      <th>0</th>\n",
       "      <td>1</td>\n",
       "      <td>CA-2016-152156</td>\n",
       "      <td>2016-11-08</td>\n",
       "      <td>2016-11-11</td>\n",
       "      <td>Second Class</td>\n",
       "      <td>CG-12520</td>\n",
       "      <td>Claire Gute</td>\n",
       "      <td>Consumer</td>\n",
       "      <td>United States</td>\n",
       "      <td>Henderson</td>\n",
       "      <td>...</td>\n",
       "      <td>42420</td>\n",
       "      <td>South</td>\n",
       "      <td>FUR-BO-10001798</td>\n",
       "      <td>Furniture</td>\n",
       "      <td>Bookcases</td>\n",
       "      <td>Bush Somerset Collection Bookcase</td>\n",
       "      <td>261.9600</td>\n",
       "      <td>2</td>\n",
       "      <td>0.00</td>\n",
       "      <td>41.9136</td>\n",
       "    </tr>\n",
       "    <tr>\n",
       "      <th>1</th>\n",
       "      <td>2</td>\n",
       "      <td>CA-2016-152156</td>\n",
       "      <td>2016-11-08</td>\n",
       "      <td>2016-11-11</td>\n",
       "      <td>Second Class</td>\n",
       "      <td>CG-12520</td>\n",
       "      <td>Claire Gute</td>\n",
       "      <td>Consumer</td>\n",
       "      <td>United States</td>\n",
       "      <td>Henderson</td>\n",
       "      <td>...</td>\n",
       "      <td>42420</td>\n",
       "      <td>South</td>\n",
       "      <td>FUR-CH-10000454</td>\n",
       "      <td>Furniture</td>\n",
       "      <td>Chairs</td>\n",
       "      <td>Hon Deluxe Fabric Upholstered Stacking Chairs,...</td>\n",
       "      <td>731.9400</td>\n",
       "      <td>3</td>\n",
       "      <td>0.00</td>\n",
       "      <td>219.5820</td>\n",
       "    </tr>\n",
       "    <tr>\n",
       "      <th>2</th>\n",
       "      <td>3</td>\n",
       "      <td>CA-2016-138688</td>\n",
       "      <td>2016-06-12</td>\n",
       "      <td>2016-06-16</td>\n",
       "      <td>Second Class</td>\n",
       "      <td>DV-13045</td>\n",
       "      <td>Darrin Van Huff</td>\n",
       "      <td>Corporate</td>\n",
       "      <td>United States</td>\n",
       "      <td>Los Angeles</td>\n",
       "      <td>...</td>\n",
       "      <td>90036</td>\n",
       "      <td>West</td>\n",
       "      <td>OFF-LA-10000240</td>\n",
       "      <td>Office Supplies</td>\n",
       "      <td>Labels</td>\n",
       "      <td>Self-Adhesive Address Labels for Typewriters b...</td>\n",
       "      <td>14.6200</td>\n",
       "      <td>2</td>\n",
       "      <td>0.00</td>\n",
       "      <td>6.8714</td>\n",
       "    </tr>\n",
       "    <tr>\n",
       "      <th>3</th>\n",
       "      <td>4</td>\n",
       "      <td>US-2015-108966</td>\n",
       "      <td>2015-10-11</td>\n",
       "      <td>2015-10-18</td>\n",
       "      <td>Standard Class</td>\n",
       "      <td>SO-20335</td>\n",
       "      <td>Sean O'Donnell</td>\n",
       "      <td>Consumer</td>\n",
       "      <td>United States</td>\n",
       "      <td>Fort Lauderdale</td>\n",
       "      <td>...</td>\n",
       "      <td>33311</td>\n",
       "      <td>South</td>\n",
       "      <td>FUR-TA-10000577</td>\n",
       "      <td>Furniture</td>\n",
       "      <td>Tables</td>\n",
       "      <td>Bretford CR4500 Series Slim Rectangular Table</td>\n",
       "      <td>957.5775</td>\n",
       "      <td>5</td>\n",
       "      <td>0.45</td>\n",
       "      <td>-383.0310</td>\n",
       "    </tr>\n",
       "    <tr>\n",
       "      <th>4</th>\n",
       "      <td>5</td>\n",
       "      <td>US-2015-108966</td>\n",
       "      <td>2015-10-11</td>\n",
       "      <td>2015-10-18</td>\n",
       "      <td>Standard Class</td>\n",
       "      <td>SO-20335</td>\n",
       "      <td>Sean O'Donnell</td>\n",
       "      <td>Consumer</td>\n",
       "      <td>United States</td>\n",
       "      <td>Fort Lauderdale</td>\n",
       "      <td>...</td>\n",
       "      <td>33311</td>\n",
       "      <td>South</td>\n",
       "      <td>OFF-ST-10000760</td>\n",
       "      <td>Office Supplies</td>\n",
       "      <td>Storage</td>\n",
       "      <td>Eldon Fold 'N Roll Cart System</td>\n",
       "      <td>22.3680</td>\n",
       "      <td>2</td>\n",
       "      <td>0.20</td>\n",
       "      <td>2.5164</td>\n",
       "    </tr>\n",
       "  </tbody>\n",
       "</table>\n",
       "<p>5 rows × 21 columns</p>\n",
       "</div>"
      ],
      "text/plain": [
       "   Row ID        Order ID Order Date  Ship Date       Ship Mode Customer ID  \\\n",
       "0       1  CA-2016-152156 2016-11-08 2016-11-11    Second Class    CG-12520   \n",
       "1       2  CA-2016-152156 2016-11-08 2016-11-11    Second Class    CG-12520   \n",
       "2       3  CA-2016-138688 2016-06-12 2016-06-16    Second Class    DV-13045   \n",
       "3       4  US-2015-108966 2015-10-11 2015-10-18  Standard Class    SO-20335   \n",
       "4       5  US-2015-108966 2015-10-11 2015-10-18  Standard Class    SO-20335   \n",
       "\n",
       "     Customer Name    Segment        Country             City  ...  \\\n",
       "0      Claire Gute   Consumer  United States        Henderson  ...   \n",
       "1      Claire Gute   Consumer  United States        Henderson  ...   \n",
       "2  Darrin Van Huff  Corporate  United States      Los Angeles  ...   \n",
       "3   Sean O'Donnell   Consumer  United States  Fort Lauderdale  ...   \n",
       "4   Sean O'Donnell   Consumer  United States  Fort Lauderdale  ...   \n",
       "\n",
       "  Postal Code  Region       Product ID         Category Sub-Category  \\\n",
       "0       42420   South  FUR-BO-10001798        Furniture    Bookcases   \n",
       "1       42420   South  FUR-CH-10000454        Furniture       Chairs   \n",
       "2       90036    West  OFF-LA-10000240  Office Supplies       Labels   \n",
       "3       33311   South  FUR-TA-10000577        Furniture       Tables   \n",
       "4       33311   South  OFF-ST-10000760  Office Supplies      Storage   \n",
       "\n",
       "                                        Product Name     Sales  Quantity  \\\n",
       "0                  Bush Somerset Collection Bookcase  261.9600         2   \n",
       "1  Hon Deluxe Fabric Upholstered Stacking Chairs,...  731.9400         3   \n",
       "2  Self-Adhesive Address Labels for Typewriters b...   14.6200         2   \n",
       "3      Bretford CR4500 Series Slim Rectangular Table  957.5775         5   \n",
       "4                     Eldon Fold 'N Roll Cart System   22.3680         2   \n",
       "\n",
       "   Discount    Profit  \n",
       "0      0.00   41.9136  \n",
       "1      0.00  219.5820  \n",
       "2      0.00    6.8714  \n",
       "3      0.45 -383.0310  \n",
       "4      0.20    2.5164  \n",
       "\n",
       "[5 rows x 21 columns]"
      ]
     },
     "execution_count": 4,
     "metadata": {},
     "output_type": "execute_result"
    }
   ],
   "source": [
    "df = pd.read_excel('US Superstore data.xls')\n",
    "df.head()"
   ]
  },
  {
   "cell_type": "markdown",
   "metadata": {},
   "source": [
    "Cukup/tidak cukup bukti untuk menentang H0"
   ]
  },
  {
   "cell_type": "markdown",
   "metadata": {},
   "source": [
    "### No 1\n",
    "\n",
    "Untuk semua kolom angka (nominal) : 'Sales', 'Quantity','Discount', 'Profit', lakukan analisa berikut ini :\n",
    "- Berikan analisa deskriptif ukuran pemusatan data (mean, median, modus)\n",
    "- Berikan analisa deskriptif ukuran persebaran data (range, IQR, variance, std)\n",
    "- Bagaimana distribusi dari kolom tersebut\n",
    "- Cek Outlier dari kolom tersebut"
   ]
  },
  {
   "cell_type": "code",
   "execution_count": 11,
   "metadata": {},
   "outputs": [
    {
     "data": {
      "text/html": [
       "<div>\n",
       "<style scoped>\n",
       "    .dataframe tbody tr th:only-of-type {\n",
       "        vertical-align: middle;\n",
       "    }\n",
       "\n",
       "    .dataframe tbody tr th {\n",
       "        vertical-align: top;\n",
       "    }\n",
       "\n",
       "    .dataframe thead th {\n",
       "        text-align: right;\n",
       "    }\n",
       "</style>\n",
       "<table border=\"1\" class=\"dataframe\">\n",
       "  <thead>\n",
       "    <tr style=\"text-align: right;\">\n",
       "      <th></th>\n",
       "      <th>Sales</th>\n",
       "      <th>Quantity</th>\n",
       "      <th>Discount</th>\n",
       "      <th>Profit</th>\n",
       "    </tr>\n",
       "  </thead>\n",
       "  <tbody>\n",
       "    <tr>\n",
       "      <th>mean</th>\n",
       "      <td>229.858001</td>\n",
       "      <td>3.789574</td>\n",
       "      <td>0.156203</td>\n",
       "      <td>28.656896</td>\n",
       "    </tr>\n",
       "    <tr>\n",
       "      <th>median</th>\n",
       "      <td>54.490000</td>\n",
       "      <td>3.000000</td>\n",
       "      <td>0.200000</td>\n",
       "      <td>8.666500</td>\n",
       "    </tr>\n",
       "  </tbody>\n",
       "</table>\n",
       "</div>"
      ],
      "text/plain": [
       "             Sales  Quantity  Discount     Profit\n",
       "mean    229.858001  3.789574  0.156203  28.656896\n",
       "median   54.490000  3.000000  0.200000   8.666500"
      ]
     },
     "execution_count": 11,
     "metadata": {},
     "output_type": "execute_result"
    }
   ],
   "source": [
    "df[['Sales', 'Quantity', 'Discount', 'Profit']].agg([np.mean, np.median])"
   ]
  },
  {
   "cell_type": "code",
   "execution_count": 16,
   "metadata": {},
   "outputs": [
    {
     "data": {
      "text/html": [
       "<div>\n",
       "<style scoped>\n",
       "    .dataframe tbody tr th:only-of-type {\n",
       "        vertical-align: middle;\n",
       "    }\n",
       "\n",
       "    .dataframe tbody tr th {\n",
       "        vertical-align: top;\n",
       "    }\n",
       "\n",
       "    .dataframe thead th {\n",
       "        text-align: right;\n",
       "    }\n",
       "</style>\n",
       "<table border=\"1\" class=\"dataframe\">\n",
       "  <thead>\n",
       "    <tr style=\"text-align: right;\">\n",
       "      <th></th>\n",
       "      <th>Sales</th>\n",
       "      <th>Quantity</th>\n",
       "      <th>Discount</th>\n",
       "      <th>Profit</th>\n",
       "    </tr>\n",
       "  </thead>\n",
       "  <tbody>\n",
       "    <tr>\n",
       "      <th>0</th>\n",
       "      <td>12.96</td>\n",
       "      <td>3</td>\n",
       "      <td>0.0</td>\n",
       "      <td>0.0</td>\n",
       "    </tr>\n",
       "  </tbody>\n",
       "</table>\n",
       "</div>"
      ],
      "text/plain": [
       "   Sales  Quantity  Discount  Profit\n",
       "0  12.96         3       0.0     0.0"
      ]
     },
     "execution_count": 16,
     "metadata": {},
     "output_type": "execute_result"
    }
   ],
   "source": [
    "df[['Sales', 'Quantity', 'Discount', 'Profit']].mode()"
   ]
  },
  {
   "cell_type": "code",
   "execution_count": 39,
   "metadata": {},
   "outputs": [
    {
     "name": "stdout",
     "output_type": "stream",
     "text": [
      "Sales       22638.036\n",
      "Quantity       13.000\n",
      "Discount        0.800\n",
      "Profit      14999.954\n",
      "dtype: float64\n"
     ]
    }
   ],
   "source": [
    "max = df[['Sales', 'Quantity', 'Discount', 'Profit']].max()\n",
    "min = df[['Sales', 'Quantity', 'Discount', 'Profit']].min()\n",
    "print(max - min)"
   ]
  },
  {
   "cell_type": "code",
   "execution_count": 43,
   "metadata": {},
   "outputs": [
    {
     "data": {
      "text/plain": [
       "Sales       192.66000\n",
       "Quantity      3.00000\n",
       "Discount      0.20000\n",
       "Profit       27.63525\n",
       "dtype: float64"
      ]
     },
     "execution_count": 43,
     "metadata": {},
     "output_type": "execute_result"
    }
   ],
   "source": [
    "q1 = df[['Sales', 'Quantity', 'Discount', 'Profit']].quantile(0.25)\n",
    "q3 = df[['Sales', 'Quantity', 'Discount', 'Profit']].quantile(0.75)\n",
    "\n",
    "q3 - q1"
   ]
  },
  {
   "cell_type": "code",
   "execution_count": 40,
   "metadata": {},
   "outputs": [
    {
     "data": {
      "text/html": [
       "<div>\n",
       "<style scoped>\n",
       "    .dataframe tbody tr th:only-of-type {\n",
       "        vertical-align: middle;\n",
       "    }\n",
       "\n",
       "    .dataframe tbody tr th {\n",
       "        vertical-align: top;\n",
       "    }\n",
       "\n",
       "    .dataframe thead th {\n",
       "        text-align: right;\n",
       "    }\n",
       "</style>\n",
       "<table border=\"1\" class=\"dataframe\">\n",
       "  <thead>\n",
       "    <tr style=\"text-align: right;\">\n",
       "      <th></th>\n",
       "      <th>Sales</th>\n",
       "      <th>Quantity</th>\n",
       "      <th>Discount</th>\n",
       "      <th>Profit</th>\n",
       "    </tr>\n",
       "  </thead>\n",
       "  <tbody>\n",
       "    <tr>\n",
       "      <th>var</th>\n",
       "      <td>388434.455308</td>\n",
       "      <td>4.951113</td>\n",
       "      <td>0.042622</td>\n",
       "      <td>54877.798055</td>\n",
       "    </tr>\n",
       "    <tr>\n",
       "      <th>std</th>\n",
       "      <td>623.245101</td>\n",
       "      <td>2.225110</td>\n",
       "      <td>0.206452</td>\n",
       "      <td>234.260108</td>\n",
       "    </tr>\n",
       "  </tbody>\n",
       "</table>\n",
       "</div>"
      ],
      "text/plain": [
       "             Sales  Quantity  Discount        Profit\n",
       "var  388434.455308  4.951113  0.042622  54877.798055\n",
       "std     623.245101  2.225110  0.206452    234.260108"
      ]
     },
     "execution_count": 40,
     "metadata": {},
     "output_type": "execute_result"
    }
   ],
   "source": [
    "df[['Sales', 'Quantity', 'Discount', 'Profit']].agg([np.var, np.std])"
   ]
  },
  {
   "cell_type": "code",
   "execution_count": 37,
   "metadata": {},
   "outputs": [
    {
     "data": {
      "text/plain": [
       "Sales       388434.455308\n",
       "Quantity         4.951113\n",
       "Discount         0.042622\n",
       "Profit       54877.798055\n",
       "dtype: float64"
      ]
     },
     "execution_count": 37,
     "metadata": {},
     "output_type": "execute_result"
    }
   ],
   "source": [
    "df[['Sales', 'Quantity', 'Discount', 'Profit']].var()"
   ]
  },
  {
   "cell_type": "code",
   "execution_count": 87,
   "metadata": {},
   "outputs": [
    {
     "data": {
      "image/png": "[encoded data removed]",
      "text/plain": [
       "<Figure size 1296x288 with 4 Axes>"
      ]
     },
     "metadata": {
      "needs_background": "light"
     },
     "output_type": "display_data"
    }
   ],
   "source": [
    "df[['Sales', 'Quantity', 'Discount', 'Profit']].hist(layout=(1,4), figsize=(18,4))\n",
    "plt.show()"
   ]
  },
  {
   "cell_type": "code",
   "execution_count": 58,
   "metadata": {},
   "outputs": [],
   "source": [
    "# Make function to detect outlier using upper bound and lower bound\n",
    "def outlier(sample):\n",
    "    Q1=sample.quantile(0.25)\n",
    "    Q3=sample.quantile(0.75)\n",
    "    IQR=Q3-Q1\n",
    "    lower_range = Q1 -(1.5 * IQR)\n",
    "    upper_range = Q3 +(1.5 * IQR)\n",
    "    \n",
    "    number_outlier=len(sample[sample>upper_range])+len(sample[sample<lower_range])\n",
    "    print(\"- Number of Outlier From Variable {} : {}\".format(sample.name, number_outlier))\n",
    "    \n",
    "    if number_outlier>0:\n",
    "        print(\"  Outlier observation row:\")\n",
    "    else:\n",
    "        pass\n",
    "    out_list = []\n",
    "    \n",
    "    for i in range(len(sample)):\n",
    "        if sample[i]<lower_range: \n",
    "            out_list.append(i)\n",
    "        elif sample[i]>upper_range:\n",
    "            out_list.append(i) \n",
    "        else:\n",
    "            pass\n",
    "    if out_list != []:\n",
    "        print(' ', out_list)"
   ]
  },
  {
   "cell_type": "code",
   "execution_count": 61,
   "metadata": {},
   "outputs": [
    {
     "name": "stdout",
     "output_type": "stream",
     "text": [
      "- Number of Outlier From Variable Sales : 1167\n",
      "  Outlier observation row:\n",
      "  [1, 3, 7, 10, 11, 16, 24, 27, 35, 38, 54, 67, 72, 117, 124, 125, 144, 145, 149, 159, 165, 167, 182, 189, 192, 215, 226, 232, 235, 244, 247, 251, 257, 262, 263, 270, 281, 282, 288, 299, 318, 328, 335, 338, 341, 353, 359, 369, 373, 377, 392, 399, 406, 408, 412, 424, 433, 436, 454, 457, 460, 463, 473, 480, 485, 487, 502, 509, 515, 518, 526, 529, 533, 542, 551, 554, 557, 595, 613, 623, 624, 638, 657, 659, 660, 661, 683, 708, 721, 730, 746, 753, 765, 767, 769, 777, 792, 806, 810, 814, 819, 869, 880, 893, 909, 910, 916, 924, 942, 944, 947, 948, 949, 969, 977, 980, 982, 983, 988, 990, 994, 995, 1001, 1002, 1013, 1019, 1021, 1022, 1030, 1040, 1042, 1046, 1048, 1081, 1082, 1085, 1118, 1121, 1126, 1144, 1146, 1150, 1155, 1180, 1189, 1190, 1199, 1200, 1202, 1203, 1211, 1219, 1233, 1245, 1246, 1249, 1250, 1252, 1258, 1260, 1295, 1300, 1316, 1318, 1335, 1338, 1340, 1367, 1369, 1374, 1375, 1394, 1416, 1433, 1438, 1444, 1454, 1463, 1468, 1486, 1492, 1501, 1505, 1516, 1539, 1545, 1549, 1562, 1570, 1575, 1582, 1585, 1596, 1613, 1621, 1624, 1625, 1626, 1627, 1630, 1636, 1643, 1644, 1661, 1669, 1689, 1699, 1701, 1711, 1713, 1727, 1752, 1756, 1788, 1791, 1803, 1805, 1811, 1827, 1829, 1830, 1833, 1836, 1850, 1863, 1871, 1882, 1896, 1898, 1905, 1912, 1919, 1922, 1930, 1940, 1953, 1976, 1977, 1979, 1986, 1988, 2015, 2020, 2023, 2046, 2056, 2069, 2074, 2095, 2100, 2113, 2119, 2141, 2156, 2182, 2189, 2201, 2209, 2220, 2229, 2231, 2239, 2246, 2250, 2257, 2263, 2273, 2280, 2289, 2291, 2298, 2299, 2303, 2329, 2347, 2353, 2357, 2358, 2359, 2368, 2391, 2399, 2403, 2404, 2413, 2414, 2416, 2418, 2435, 2436, 2442, 2467, 2476, 2477, 2481, 2483, 2489, 2492, 2494, 2495, 2505, 2510, 2516, 2520, 2534, 2539, 2540, 2548, 2551, 2554, 2558, 2567, 2572, 2573, 2577, 2591, 2595, 2596, 2597, 2602, 2609, 2623, 2624, 2628, 2640, 2648, 2654, 2659, 2660, 2671, 2673, 2680, 2696, 2697, 2709, 2728, 2730, 2746, 2749, 2754, 2755, 2767, 2785, 2793, 2800, 2808, 2809, 2813, 2814, 2818, 2838, 2840, 2844, 2846, 2848, 2856, 2860, 2873, 2876, 2897, 2904, 2928, 2941, 2954, 2968, 2978, 2987, 2993, 3006, 3011, 3016, 3018, 3028, 3043, 3044, 3053, 3055, 3069, 3070, 3077, 3082, 3089, 3101, 3112, 3115, 3118, 3124, 3125, 3131, 3145, 3150, 3151, 3154, 3172, 3182, 3183, 3184, 3202, 3217, 3262, 3273, 3280, 3295, 3298, 3301, 3312, 3320, 3324, 3337, 3370, 3384, 3385, 3391, 3399, 3424, 3426, 3443, 3459, 3480, 3482, 3484, 3494, 3495, 3496, 3504, 3511, 3512, 3518, 3519, 3524, 3525, 3551, 3552, 3555, 3566, 3569, 3570, 3580, 3583, 3587, 3588, 3590, 3602, 3614, 3624, 3628, 3632, 3654, 3704, 3710, 3715, 3723, 3730, 3731, 3732, 3749, 3753, 3756, 3768, 3770, 3777, 3783, 3786, 3798, 3799, 3809, 3814, 3816, 3818, 3823, 3824, 3827, 3833, 3834, 3837, 3838, 3845, 3847, 3848, 3856, 3872, 3890, 3891, 3892, 3904, 3906, 3914, 3939, 3943, 3983, 3986, 3994, 3995, 3996, 4002, 4013, 4022, 4023, 4039, 4048, 4055, 4057, 4059, 4068, 4072, 4073, 4088, 4093, 4095, 4098, 4115, 4128, 4136, 4160, 4163, 4176, 4190, 4192, 4200, 4208, 4218, 4246, 4249, 4250, 4264, 4266, 4269, 4270, 4277, 4283, 4291, 4297, 4308, 4309, 4341, 4343, 4346, 4355, 4359, 4364, 4377, 4385, 4390, 4400, 4401, 4412, 4415, 4428, 4434, 4441, 4453, 4458, 4491, 4494, 4495, 4497, 4506, 4519, 4545, 4549, 4573, 4586, 4594, 4607, 4617, 4618, 4619, 4633, 4639, 4642, 4644, 4661, 4669, 4670, 4672, 4682, 4697, 4707, 4716, 4719, 4725, 4726, 4734, 4750, 4758, 4771, 4780, 4812, 4850, 4860, 4861, 4865, 4866, 4880, 4881, 4888, 4889, 4896, 4904, 4923, 4928, 4937, 4940, 4975, 4978, 4987, 4990, 4991, 5005, 5006, 5009, 5016, 5018, 5022, 5034, 5035, 5039, 5045, 5055, 5059, 5060, 5066, 5068, 5075, 5118, 5126, 5127, 5141, 5148, 5149, 5156, 5157, 5161, 5167, 5169, 5170, 5185, 5186, 5188, 5198, 5221, 5230, 5233, 5274, 5290, 5297, 5300, 5301, 5310, 5320, 5341, 5345, 5361, 5385, 5394, 5399, 5425, 5427, 5434, 5439, 5459, 5468, 5474, 5500, 5505, 5516, 5530, 5559, 5562, 5568, 5585, 5604, 5609, 5611, 5612, 5615, 5619, 5626, 5629, 5631, 5638, 5639, 5651, 5662, 5683, 5694, 5710, 5715, 5725, 5726, 5728, 5732, 5741, 5744, 5753, 5756, 5761, 5763, 5771, 5772, 5774, 5795, 5800, 5812, 5829, 5831, 5844, 5848, 5849, 5850, 5866, 5869, 5870, 5880, 5882, 5884, 5917, 5918, 5920, 5925, 5926, 5931, 5934, 5955, 5956, 5959, 5961, 5977, 5989, 5990, 6010, 6014, 6024, 6040, 6041, 6046, 6048, 6062, 6067, 6099, 6100, 6101, 6110, 6113, 6116, 6131, 6151, 6159, 6174, 6175, 6180, 6183, 6190, 6200, 6202, 6209, 6210, 6234, 6270, 6284, 6285, 6287, 6289, 6291, 6295, 6296, 6308, 6309, 6312, 6340, 6345, 6363, 6374, 6398, 6405, 6407, 6425, 6430, 6438, 6439, 6467, 6468, 6473, 6479, 6486, 6501, 6504, 6516, 6520, 6527, 6534, 6535, 6547, 6554, 6558, 6565, 6573, 6575, 6578, 6620, 6626, 6630, 6631, 6635, 6639, 6646, 6687, 6706, 6708, 6730, 6736, 6746, 6756, 6764, 6817, 6826, 6827, 6838, 6844, 6850, 6868, 6876, 6879, 6881, 6884, 6898, 6900, 6901, 6907, 6917, 6925, 6929, 6941, 6943, 6945, 6954, 6968, 6976, 6988, 7008, 7016, 7035, 7042, 7057, 7065, 7081, 7084, 7104, 7114, 7132, 7135, 7143, 7149, 7167, 7173, 7183, 7190, 7193, 7202, 7227, 7243, 7250, 7257, 7276, 7280, 7281, 7288, 7292, 7305, 7319, 7328, 7329, 7335, 7344, 7359, 7387, 7396, 7397, 7403, 7406, 7416, 7419, 7452, 7455, 7456, 7458, 7459, 7460, 7462, 7472, 7474, 7475, 7478, 7487, 7488, 7493, 7509, 7520, 7525, 7530, 7542, 7544, 7545, 7546, 7551, 7558, 7572, 7578, 7579, 7583, 7593, 7606, 7617, 7620, 7621, 7624, 7632, 7641, 7645, 7646, 7648, 7649, 7666, 7679, 7681, 7683, 7685, 7686, 7690, 7697, 7701, 7744, 7765, 7769, 7772, 7783, 7803, 7812, 7814, 7818, 7820, 7826, 7840, 7846, 7872, 7898, 7907, 7914, 7927, 7937, 7938, 7952, 7970, 7977, 7997, 8007, 8009, 8012, 8023, 8028, 8040, 8048, 8054, 8056, 8084, 8100, 8102, 8104, 8118, 8123, 8127, 8132, 8136, 8143, 8153, 8157, 8166, 8167, 8168, 8178, 8180, 8202, 8204, 8205, 8208, 8231, 8235, 8236, 8243, 8248, 8269, 8271, 8274, 8279, 8282, 8284, 8301, 8312, 8313, 8362, 8364, 8365, 8369, 8394, 8410, 8412, 8424, 8448, 8451, 8453, 8468, 8477, 8488, 8552, 8554, 8562, 8568, 8572, 8577, 8586, 8594, 8632, 8636, 8640, 8648, 8660, 8662, 8673, 8677, 8680, 8699, 8711, 8734, 8736, 8749, 8760, 8771, 8776, 8781, 8783, 8788, 8791, 8794, 8798, 8799, 8820, 8832, 8854, 8858, 8868, 8871, 8888, 8890, 8892, 8914, 8924, 8926, 8928, 8935, 8949, 8960, 8964, 8990, 8993, 9033, 9039, 9056, 9059, 9074, 9100, 9114, 9117, 9133, 9143, 9148, 9162, 9165, 9172, 9179, 9186, 9189, 9197, 9221, 9231, 9234, 9236, 9249, 9270, 9272, 9273, 9288, 9316, 9324, 9331, 9347, 9348, 9352, 9367, 9388, 9392, 9393, 9394, 9395, 9398, 9403, 9405, 9407, 9412, 9421, 9425, 9428, 9429, 9462, 9484, 9486, 9488, 9490, 9493, 9504, 9509, 9513, 9551, 9565, 9578, 9581, 9615, 9617, 9635, 9637, 9639, 9649, 9652, 9658, 9660, 9673, 9680, 9689, 9691, 9703, 9712, 9727, 9730, 9732, 9734, 9741, 9748, 9759, 9774, 9781, 9787, 9788, 9816, 9833, 9847, 9857, 9866, 9876, 9879, 9907, 9919, 9925, 9929, 9931, 9942, 9947, 9948, 9968]\n"
     ]
    }
   ],
   "source": [
    "outlier(df['Sales'])"
   ]
  },
  {
   "cell_type": "code",
   "execution_count": 62,
   "metadata": {},
   "outputs": [
    {
     "name": "stdout",
     "output_type": "stream",
     "text": [
      "- Number of Outlier From Variable Quantity : 170\n",
      "  Outlier observation row:\n",
      "  [113, 139, 147, 251, 329, 341, 342, 343, 375, 412, 575, 614, 651, 660, 746, 750, 856, 886, 949, 1013, 1045, 1048, 1108, 1246, 1250, 1295, 1348, 1356, 1363, 1429, 1433, 1596, 1711, 1755, 1824, 2062, 2210, 2214, 2324, 2406, 2418, 2426, 2582, 2617, 2629, 2660, 2750, 2781, 2793, 2894, 2947, 3024, 3057, 3169, 3212, 3242, 3295, 3426, 3441, 3574, 3590, 3624, 3662, 3668, 3826, 3902, 3969, 4000, 4009, 4048, 4053, 4067, 4270, 4297, 4366, 4482, 4579, 4668, 4678, 4806, 4847, 4866, 5300, 5385, 5397, 5443, 5462, 5517, 5524, 5622, 5646, 5668, 5763, 5925, 5940, 5977, 6099, 6131, 6151, 6158, 6185, 6233, 6472, 6488, 6499, 6517, 6535, 6628, 6634, 6692, 6860, 6925, 7168, 7206, 7211, 7276, 7341, 7371, 7387, 7602, 7783, 7843, 7846, 7906, 7941, 7997, 8006, 8019, 8074, 8084, 8121, 8139, 8225, 8348, 8413, 8431, 8436, 8484, 8508, 8515, 8521, 8569, 8642, 8830, 8849, 8870, 8879, 8935, 9021, 9039, 9056, 9063, 9104, 9148, 9157, 9168, 9484, 9499, 9515, 9532, 9639, 9692, 9723, 9732, 9820, 9882, 9895, 9941, 9979, 9984]\n"
     ]
    }
   ],
   "source": [
    "outlier(df['Quantity'])"
   ]
  },
  {
   "cell_type": "code",
   "execution_count": 63,
   "metadata": {},
   "outputs": [
    {
     "name": "stdout",
     "output_type": "stream",
     "text": [
      "- Number of Outlier From Variable Discount : 856\n",
      "  Outlier observation row:\n",
      "  [14, 15, 28, 32, 36, 75, 76, 78, 95, 101, 105, 118, 126, 169, 174, 176, 198, 203, 215, 221, 223, 230, 233, 238, 239, 242, 254, 261, 280, 286, 296, 330, 332, 333, 341, 372, 378, 380, 386, 393, 429, 434, 464, 467, 469, 500, 501, 503, 521, 536, 545, 549, 579, 584, 590, 604, 605, 607, 615, 621, 636, 655, 658, 662, 669, 676, 678, 679, 699, 700, 741, 781, 818, 820, 836, 868, 869, 878, 899, 901, 917, 934, 957, 972, 976, 978, 987, 1007, 1034, 1035, 1044, 1066, 1069, 1073, 1074, 1096, 1102, 1103, 1106, 1107, 1112, 1173, 1199, 1201, 1213, 1214, 1235, 1257, 1261, 1271, 1272, 1282, 1284, 1319, 1320, 1325, 1332, 1333, 1341, 1342, 1358, 1363, 1364, 1369, 1381, 1418, 1420, 1422, 1448, 1450, 1473, 1513, 1514, 1547, 1550, 1567, 1600, 1629, 1648, 1662, 1674, 1675, 1681, 1685, 1686, 1704, 1705, 1746, 1757, 1767, 1768, 1770, 1802, 1809, 1818, 1819, 1820, 1824, 1843, 1857, 1879, 1887, 1898, 1906, 1907, 1937, 1939, 1943, 1972, 1991, 1995, 1996, 2004, 2039, 2040, 2049, 2050, 2070, 2106, 2120, 2133, 2136, 2137, 2146, 2154, 2159, 2165, 2167, 2173, 2206, 2225, 2238, 2346, 2362, 2371, 2376, 2424, 2427, 2428, 2429, 2501, 2502, 2507, 2512, 2526, 2527, 2556, 2590, 2605, 2612, 2628, 2629, 2635, 2665, 2677, 2678, 2686, 2687, 2690, 2710, 2719, 2727, 2748, 2763, 2764, 2768, 2787, 2789, 2826, 2846, 2849, 2882, 2922, 2928, 2957, 2966, 2970, 2999, 3001, 3010, 3011, 3012, 3013, 3017, 3076, 3084, 3086, 3087, 3096, 3103, 3122, 3123, 3134, 3139, 3141, 3151, 3160, 3171, 3175, 3185, 3192, 3193, 3197, 3211, 3231, 3232, 3240, 3242, 3258, 3259, 3284, 3294, 3296, 3299, 3303, 3307, 3316, 3324, 3325, 3333, 3348, 3358, 3364, 3378, 3388, 3393, 3402, 3403, 3407, 3435, 3436, 3437, 3458, 3459, 3506, 3545, 3553, 3561, 3562, 3567, 3593, 3616, 3641, 3648, 3665, 3673, 3687, 3690, 3707, 3708, 3723, 3764, 3785, 3791, 3807, 3808, 3852, 3855, 3864, 3874, 3877, 3885, 3894, 3905, 3917, 3957, 3967, 3968, 4028, 4034, 4045, 4046, 4069, 4070, 4081, 4082, 4084, 4100, 4101, 4106, 4130, 4138, 4147, 4154, 4155, 4157, 4180, 4186, 4187, 4198, 4224, 4225, 4229, 4230, 4233, 4236, 4255, 4256, 4257, 4263, 4265, 4267, 4275, 4288, 4321, 4323, 4348, 4354, 4355, 4358, 4382, 4395, 4419, 4435, 4437, 4462, 4487, 4489, 4497, 4512, 4529, 4541, 4546, 4548, 4557, 4566, 4568, 4614, 4641, 4664, 4668, 4685, 4688, 4702, 4703, 4711, 4713, 4724, 4754, 4756, 4757, 4772, 4781, 4785, 4796, 4801, 4802, 4820, 4822, 4823, 4837, 4841, 4872, 4874, 4878, 4899, 4907, 4912, 4913, 4920, 4933, 4957, 4964, 4980, 4988, 4991, 4997, 5008, 5010, 5011, 5012, 5048, 5058, 5085, 5088, 5093, 5096, 5097, 5112, 5158, 5174, 5242, 5247, 5261, 5273, 5286, 5287, 5304, 5310, 5319, 5321, 5398, 5414, 5432, 5437, 5462, 5465, 5473, 5479, 5486, 5495, 5540, 5543, 5544, 5572, 5593, 5654, 5664, 5677, 5696, 5697, 5755, 5784, 5786, 5789, 5834, 5835, 5856, 5857, 5868, 6002, 6003, 6034, 6035, 6047, 6048, 6054, 6055, 6081, 6082, 6086, 6089, 6106, 6109, 6121, 6136, 6163, 6193, 6225, 6242, 6251, 6256, 6262, 6300, 6350, 6352, 6369, 6383, 6386, 6414, 6426, 6431, 6446, 6475, 6487, 6503, 6525, 6526, 6530, 6544, 6556, 6561, 6566, 6595, 6597, 6629, 6634, 6648, 6651, 6685, 6702, 6712, 6713, 6729, 6767, 6771, 6795, 6796, 6797, 6798, 6800, 6808, 6809, 6810, 6812, 6814, 6818, 6819, 6821, 6840, 6873, 6877, 6897, 6899, 6903, 6909, 6915, 6919, 6936, 6973, 6989, 6996, 7006, 7007, 7067, 7074, 7077, 7082, 7085, 7102, 7120, 7136, 7138, 7144, 7153, 7175, 7177, 7178, 7187, 7188, 7191, 7203, 7220, 7237, 7266, 7273, 7281, 7282, 7299, 7301, 7311, 7312, 7318, 7330, 7332, 7348, 7365, 7368, 7418, 7420, 7422, 7426, 7433, 7446, 7451, 7470, 7494, 7505, 7521, 7522, 7536, 7539, 7540, 7547, 7548, 7549, 7600, 7604, 7605, 7615, 7641, 7642, 7643, 7658, 7660, 7661, 7696, 7709, 7717, 7771, 7772, 7781, 7786, 7788, 7790, 7791, 7806, 7807, 7847, 7852, 7860, 7866, 7878, 7898, 7906, 7912, 7923, 7942, 7945, 7946, 7949, 7962, 7967, 7973, 7975, 7991, 7993, 7994, 7995, 8021, 8024, 8030, 8033, 8034, 8046, 8049, 8053, 8070, 8073, 8074, 8075, 8083, 8112, 8125, 8128, 8133, 8182, 8183, 8192, 8199, 8208, 8211, 8213, 8215, 8216, 8218, 8220, 8246, 8249, 8250, 8251, 8263, 8276, 8277, 8285, 8292, 8321, 8326, 8327, 8352, 8354, 8361, 8371, 8397, 8425, 8434, 8435, 8443, 8454, 8457, 8458, 8459, 8474, 8494, 8505, 8512, 8517, 8526, 8536, 8561, 8563, 8580, 8585, 8620, 8623, 8632, 8640, 8641, 8644, 8649, 8658, 8661, 8676, 8678, 8715, 8716, 8717, 8722, 8737, 8754, 8755, 8765, 8766, 8767, 8807, 8821, 8844, 8850, 8872, 8873, 8874, 8876, 8884, 8885, 8886, 8900, 8912, 8915, 8916, 8918, 8923, 8925, 8941, 8942, 8959, 8965, 8977, 8979, 8980, 8981, 8982, 8983, 8986, 9000, 9021, 9034, 9064, 9075, 9086, 9103, 9104, 9123, 9124, 9125, 9128, 9137, 9145, 9159, 9160, 9164, 9176, 9190, 9192, 9216, 9223, 9224, 9225, 9231, 9240, 9264, 9278, 9286, 9292, 9299, 9304, 9321, 9322, 9344, 9409, 9413, 9419, 9420, 9436, 9457, 9476, 9477, 9479, 9480, 9511, 9536, 9542, 9548, 9557, 9562, 9566, 9569, 9590, 9591, 9592, 9623, 9629, 9646, 9654, 9687, 9711, 9747, 9774, 9775, 9776, 9778, 9779, 9794, 9795, 9806, 9808, 9821, 9831, 9834, 9835, 9844, 9869, 9870, 9877, 9903, 9920, 9921]\n"
     ]
    }
   ],
   "source": [
    "outlier(df['Discount'])"
   ]
  },
  {
   "cell_type": "code",
   "execution_count": 64,
   "metadata": {},
   "outputs": [
    {
     "name": "stdout",
     "output_type": "stream",
     "text": [
      "- Number of Outlier From Variable Profit : 1881\n",
      "  Outlier observation row:\n",
      "  [1, 3, 7, 10, 13, 14, 24, 27, 35, 36, 38, 54, 67, 72, 84, 117, 118, 125, 144, 147, 149, 150, 159, 165, 166, 169, 174, 176, 181, 182, 189, 201, 203, 213, 215, 223, 226, 231, 232, 238, 241, 244, 247, 251, 253, 262, 263, 270, 271, 281, 286, 288, 292, 293, 296, 303, 307, 318, 319, 320, 323, 326, 328, 335, 341, 353, 359, 362, 369, 373, 377, 384, 386, 392, 399, 406, 408, 424, 426, 429, 430, 433, 437, 449, 453, 457, 460, 463, 467, 473, 480, 487, 494, 497, 509, 515, 529, 533, 536, 539, 540, 542, 545, 554, 557, 575, 587, 595, 597, 600, 613, 622, 623, 624, 630, 634, 638, 641, 651, 657, 659, 660, 661, 670, 678, 679, 683, 685, 690, 708, 712, 713, 714, 720, 721, 722, 727, 728, 730, 733, 740, 753, 755, 765, 769, 785, 791, 792, 802, 806, 810, 814, 821, 822, 829, 835, 836, 847, 869, 870, 880, 893, 909, 910, 911, 916, 923, 924, 944, 946, 948, 949, 967, 977, 980, 983, 988, 990, 994, 995, 1001, 1002, 1004, 1013, 1019, 1021, 1022, 1028, 1030, 1040, 1042, 1044, 1046, 1048, 1066, 1081, 1082, 1084, 1085, 1094, 1117, 1118, 1121, 1126, 1129, 1136, 1144, 1146, 1150, 1155, 1157, 1159, 1180, 1190, 1191, 1199, 1212, 1219, 1242, 1245, 1246, 1249, 1250, 1252, 1258, 1259, 1260, 1271, 1272, 1274, 1280, 1283, 1295, 1300, 1301, 1304, 1318, 1338, 1350, 1355, 1362, 1364, 1367, 1369, 1374, 1375, 1376, 1381, 1383, 1387, 1389, 1392, 1394, 1395, 1401, 1402, 1403, 1409, 1411, 1413, 1416, 1420, 1422, 1425, 1429, 1430, 1431, 1433, 1438, 1444, 1446, 1454, 1468, 1486, 1492, 1501, 1505, 1507, 1510, 1516, 1524, 1539, 1540, 1545, 1546, 1547, 1549, 1562, 1570, 1579, 1580, 1582, 1585, 1596, 1613, 1620, 1621, 1624, 1625, 1626, 1627, 1630, 1636, 1637, 1643, 1644, 1645, 1648, 1661, 1669, 1673, 1681, 1689, 1699, 1701, 1711, 1713, 1723, 1727, 1744, 1752, 1755, 1756, 1757, 1774, 1777, 1783, 1788, 1791, 1796, 1798, 1803, 1805, 1807, 1811, 1818, 1820, 1827, 1829, 1830, 1833, 1836, 1850, 1857, 1863, 1865, 1877, 1879, 1883, 1887, 1889, 1895, 1896, 1898, 1899, 1911, 1918, 1919, 1920, 1922, 1934, 1940, 1948, 1953, 1966, 1968, 1969, 1971, 1976, 1977, 1979, 1982, 1983, 1986, 1988, 1995, 2003, 2013, 2015, 2020, 2023, 2024, 2046, 2051, 2056, 2069, 2071, 2091, 2092, 2095, 2099, 2103, 2108, 2113, 2117, 2119, 2133, 2138, 2141, 2147, 2150, 2162, 2165, 2182, 2189, 2201, 2203, 2206, 2209, 2220, 2221, 2225, 2228, 2229, 2238, 2239, 2241, 2250, 2255, 2257, 2262, 2263, 2272, 2273, 2289, 2290, 2291, 2296, 2298, 2299, 2303, 2307, 2312, 2314, 2318, 2324, 2329, 2332, 2336, 2344, 2353, 2356, 2357, 2358, 2359, 2361, 2370, 2376, 2391, 2403, 2404, 2408, 2409, 2416, 2418, 2421, 2425, 2435, 2436, 2437, 2440, 2442, 2445, 2467, 2471, 2476, 2477, 2483, 2489, 2492, 2505, 2507, 2516, 2520, 2533, 2534, 2536, 2537, 2539, 2540, 2548, 2549, 2551, 2558, 2567, 2568, 2575, 2577, 2591, 2593, 2594, 2595, 2596, 2597, 2602, 2609, 2623, 2624, 2628, 2640, 2648, 2653, 2654, 2659, 2660, 2664, 2670, 2671, 2673, 2674, 2680, 2682, 2684, 2697, 2707, 2708, 2709, 2717, 2725, 2726, 2728, 2730, 2735, 2743, 2746, 2749, 2750, 2753, 2755, 2757, 2759, 2767, 2768, 2782, 2793, 2800, 2810, 2811, 2813, 2814, 2818, 2825, 2831, 2840, 2841, 2846, 2848, 2856, 2859, 2860, 2861, 2876, 2879, 2897, 2901, 2905, 2916, 2928, 2937, 2938, 2941, 2943, 2972, 2978, 2984, 2987, 2993, 2999, 3006, 3008, 3011, 3015, 3016, 3028, 3043, 3044, 3049, 3053, 3055, 3066, 3068, 3069, 3070, 3077, 3082, 3084, 3089, 3090, 3091, 3092, 3098, 3115, 3118, 3122, 3126, 3134, 3140, 3141, 3145, 3150, 3151, 3154, 3156, 3175, 3182, 3183, 3184, 3185, 3208, 3209, 3217, 3218, 3224, 3231, 3238, 3262, 3263, 3273, 3280, 3284, 3294, 3295, 3298, 3299, 3301, 3310, 3316, 3320, 3324, 3328, 3353, 3370, 3384, 3392, 3396, 3399, 3403, 3411, 3420, 3421, 3426, 3428, 3438, 3443, 3459, 3462, 3466, 3467, 3480, 3482, 3484, 3489, 3494, 3495, 3497, 3499, 3504, 3510, 3511, 3512, 3519, 3522, 3525, 3532, 3545, 3554, 3559, 3566, 3569, 3570, 3580, 3583, 3587, 3590, 3592, 3602, 3603, 3614, 3617, 3628, 3641, 3642, 3654, 3661, 3662, 3673, 3678, 3690, 3691, 3694, 3704, 3708, 3711, 3718, 3723, 3726, 3731, 3732, 3746, 3747, 3748, 3749, 3753, 3756, 3768, 3770, 3774, 3777, 3783, 3786, 3797, 3798, 3799, 3809, 3816, 3818, 3823, 3824, 3827, 3829, 3833, 3837, 3838, 3848, 3852, 3858, 3859, 3864, 3874, 3889, 3890, 3891, 3892, 3902, 3906, 3910, 3914, 3918, 3939, 3974, 3983, 3986, 3990, 3994, 3995, 3996, 3998, 4002, 4009, 4013, 4015, 4029, 4035, 4039, 4042, 4046, 4048, 4052, 4055, 4068, 4071, 4072, 4073, 4082, 4088, 4092, 4093, 4095, 4098, 4115, 4128, 4134, 4136, 4150, 4160, 4163, 4168, 4176, 4181, 4190, 4192, 4197, 4200, 4202, 4208, 4209, 4217, 4218, 4221, 4225, 4229, 4239, 4246, 4249, 4250, 4255, 4264, 4266, 4269, 4270, 4271, 4275, 4277, 4283, 4284, 4286, 4288, 4294, 4297, 4309, 4312, 4317, 4322, 4341, 4343, 4345, 4346, 4349, 4355, 4358, 4364, 4376, 4377, 4383, 4385, 4390, 4397, 4399, 4400, 4401, 4407, 4412, 4414, 4415, 4417, 4423, 4428, 4434, 4437, 4441, 4450, 4453, 4457, 4458, 4462, 4467, 4473, 4486, 4491, 4494, 4495, 4497, 4504, 4512, 4514, 4519, 4530, 4542, 4560, 4563, 4572, 4573, 4580, 4586, 4607, 4614, 4617, 4618, 4619, 4639, 4648, 4650, 4651, 4669, 4670, 4671, 4672, 4682, 4683, 4684, 4687, 4691, 4692, 4697, 4707, 4713, 4716, 4721, 4730, 4734, 4757, 4758, 4763, 4771, 4783, 4785, 4790, 4796, 4809, 4810, 4812, 4818, 4820, 4842, 4850, 4851, 4858, 4860, 4861, 4865, 4866, 4870, 4872, 4880, 4881, 4889, 4900, 4923, 4926, 4928, 4937, 4940, 4941, 4968, 4975, 4978, 4987, 4990, 4991, 5002, 5005, 5006, 5009, 5011, 5014, 5016, 5018, 5022, 5025, 5027, 5035, 5037, 5039, 5040, 5043, 5045, 5052, 5053, 5055, 5058, 5059, 5062, 5064, 5065, 5066, 5068, 5072, 5075, 5077, 5086, 5094, 5118, 5124, 5126, 5127, 5129, 5141, 5148, 5149, 5156, 5157, 5161, 5167, 5169, 5170, 5172, 5175, 5185, 5186, 5188, 5196, 5198, 5210, 5219, 5221, 5224, 5227, 5233, 5247, 5266, 5270, 5274, 5287, 5288, 5297, 5300, 5301, 5306, 5308, 5310, 5320, 5337, 5345, 5370, 5371, 5373, 5377, 5385, 5393, 5394, 5414, 5420, 5425, 5434, 5435, 5439, 5447, 5450, 5459, 5465, 5468, 5473, 5482, 5484, 5500, 5505, 5516, 5530, 5531, 5533, 5539, 5542, 5559, 5562, 5568, 5575, 5576, 5585, 5590, 5593, 5594, 5595, 5604, 5609, 5611, 5612, 5615, 5619, 5626, 5629, 5630, 5631, 5634, 5636, 5638, 5651, 5658, 5662, 5669, 5670, 5677, 5683, 5689, 5694, 5696, 5703, 5710, 5715, 5724, 5725, 5726, 5728, 5732, 5750, 5753, 5756, 5759, 5761, 5763, 5771, 5772, 5784, 5795, 5812, 5815, 5825, 5829, 5831, 5834, 5848, 5849, 5850, 5866, 5868, 5869, 5870, 5876, 5879, 5881, 5882, 5884, 5886, 5898, 5917, 5920, 5923, 5925, 5926, 5929, 5931, 5934, 5940, 5949, 5950, 5951, 5955, 5959, 5973, 5974, 5975, 5978, 5984, 5987, 5989, 5990, 5995, 5997, 6010, 6011, 6014, 6034, 6035, 6040, 6041, 6045, 6046, 6048, 6051, 6062, 6067, 6076, 6091, 6099, 6100, 6101, 6104, 6106, 6116, 6121, 6131, 6136, 6140, 6142, 6150, 6159, 6174, 6175, 6180, 6190, 6195, 6200, 6203, 6209, 6210, 6224, 6225, 6234, 6239, 6241, 6249, 6257, 6262, 6267, 6274, 6283, 6285, 6287, 6289, 6290, 6291, 6295, 6296, 6308, 6309, 6312, 6315, 6325, 6329, 6340, 6345, 6350, 6354, 6363, 6379, 6381, 6383, 6389, 6394, 6398, 6419, 6423, 6425, 6430, 6432, 6438, 6446, 6467, 6468, 6473, 6474, 6483, 6486, 6488, 6501, 6504, 6508, 6513, 6516, 6520, 6521, 6527, 6533, 6534, 6535, 6536, 6539, 6544, 6547, 6553, 6558, 6559, 6561, 6565, 6566, 6574, 6575, 6578, 6582, 6600, 6607, 6608, 6613, 6617, 6620, 6626, 6628, 6631, 6633, 6634, 6639, 6646, 6648, 6649, 6659, 6662, 6664, 6665, 6672, 6677, 6681, 6692, 6693, 6695, 6708, 6710, 6712, 6727, 6736, 6744, 6746, 6754, 6756, 6757, 6768, 6770, 6777, 6800, 6814, 6817, 6826, 6827, 6838, 6844, 6850, 6853, 6856, 6866, 6868, 6876, 6877, 6879, 6881, 6884, 6886, 6894, 6896, 6898, 6900, 6901, 6904, 6907, 6920, 6922, 6929, 6936, 6941, 6947, 6959, 6968, 6984, 6988, 6993, 7001, 7008, 7016, 7036, 7047, 7057, 7065, 7080, 7081, 7084, 7086, 7094, 7096, 7098, 7099, 7103, 7104, 7114, 7120, 7132, 7135, 7138, 7143, 7145, 7149, 7151, 7153, 7155, 7163, 7167, 7173, 7175, 7183, 7188, 7193, 7201, 7202, 7218, 7220, 7227, 7231, 7237, 7243, 7247, 7250, 7253, 7257, 7276, 7278, 7280, 7281, 7288, 7289, 7292, 7298, 7302, 7305, 7308, 7319, 7325, 7328, 7329, 7332, 7335, 7341, 7344, 7348, 7352, 7358, 7359, 7363, 7370, 7384, 7386, 7387, 7395, 7396, 7406, 7409, 7416, 7418, 7419, 7422, 7447, 7450, 7452, 7456, 7458, 7459, 7460, 7462, 7472, 7474, 7475, 7477, 7478, 7483, 7487, 7488, 7493, 7507, 7509, 7511, 7520, 7525, 7530, 7540, 7545, 7551, 7554, 7556, 7557, 7558, 7559, 7564, 7572, 7578, 7579, 7583, 7593, 7606, 7617, 7624, 7629, 7630, 7632, 7635, 7636, 7639, 7641, 7645, 7646, 7648, 7649, 7657, 7658, 7660, 7666, 7670, 7677, 7679, 7680, 7681, 7683, 7685, 7686, 7690, 7697, 7701, 7704, 7705, 7714, 7726, 7729, 7744, 7751, 7755, 7756, 7765, 7769, 7771, 7772, 7783, 7798, 7800, 7803, 7812, 7814, 7818, 7820, 7840, 7846, 7852, 7854, 7857, 7858, 7863, 7866, 7867, 7872, 7878, 7879, 7890, 7891, 7896, 7898, 7907, 7914, 7916, 7921, 7927, 7937, 7938, 7939, 7942, 7945, 7952, 7955, 7967, 7970, 7977, 7982, 7994, 7996, 8000, 8001, 8003, 8009, 8012, 8023, 8028, 8044, 8045, 8048, 8054, 8062, 8063, 8066, 8067, 8069, 8070, 8077, 8084, 8100, 8102, 8107, 8108, 8117, 8118, 8123, 8127, 8128, 8132, 8133, 8136, 8145, 8153, 8157, 8159, 8161, 8162, 8168, 8169, 8177, 8178, 8179, 8180, 8191, 8202, 8204, 8205, 8206, 8208, 8209, 8223, 8225, 8231, 8235, 8246, 8248, 8251, 8253, 8254, 8259, 8267, 8269, 8271, 8274, 8279, 8282, 8284, 8294, 8300, 8301, 8310, 8312, 8327, 8332, 8335, 8338, 8353, 8354, 8359, 8362, 8364, 8394, 8395, 8396, 8400, 8410, 8412, 8420, 8424, 8431, 8442, 8448, 8451, 8452, 8453, 8454, 8458, 8466, 8468, 8477, 8484, 8488, 8493, 8497, 8504, 8512, 8543, 8552, 8554, 8555, 8562, 8568, 8569, 8570, 8572, 8577, 8586, 8609, 8613, 8623, 8629, 8631, 8632, 8634, 8636, 8638, 8640, 8641, 8653, 8660, 8677, 8680, 8690, 8691, 8693, 8699, 8716, 8720, 8734, 8736, 8749, 8760, 8766, 8771, 8783, 8794, 8798, 8799, 8814, 8819, 8820, 8832, 8840, 8858, 8862, 8866, 8868, 8872, 8876, 8877, 8879, 8880, 8888, 8889, 8890, 8892, 8898, 8908, 8914, 8916, 8924, 8926, 8928, 8929, 8935, 8942, 8943, 8944, 8949, 8959, 8962, 8964, 8983, 8984, 8986, 8990, 8993, 8998, 8999, 9021, 9030, 9032, 9033, 9039, 9040, 9043, 9056, 9059, 9063, 9085, 9086, 9087, 9089, 9090, 9092, 9093, 9094, 9100, 9103, 9104, 9115, 9117, 9123, 9128, 9129, 9139, 9148, 9157, 9158, 9162, 9164, 9165, 9167, 9168, 9172, 9186, 9189, 9190, 9192, 9197, 9201, 9219, 9221, 9227, 9231, 9249, 9270, 9272, 9273, 9274, 9287, 9295, 9313, 9316, 9322, 9323, 9331, 9343, 9348, 9358, 9367, 9371, 9388, 9393, 9394, 9398, 9402, 9403, 9405, 9407, 9420, 9425, 9428, 9429, 9438, 9447, 9462, 9467, 9476, 9480, 9482, 9484, 9486, 9490, 9493, 9498, 9504, 9513, 9532, 9537, 9544, 9549, 9556, 9559, 9561, 9562, 9565, 9576, 9578, 9587, 9590, 9592, 9596, 9601, 9603, 9606, 9615, 9617, 9623, 9625, 9631, 9635, 9637, 9639, 9646, 9648, 9649, 9652, 9658, 9660, 9662, 9673, 9680, 9689, 9692, 9696, 9703, 9712, 9719, 9723, 9726, 9727, 9730, 9732, 9734, 9736, 9737, 9741, 9744, 9748, 9761, 9774, 9780, 9781, 9782, 9790, 9797, 9813, 9830, 9833, 9839, 9844, 9847, 9853, 9857, 9866, 9882, 9892, 9893, 9899, 9907, 9910, 9912, 9919, 9925, 9929, 9931, 9941, 9947, 9948, 9957, 9962, 9968, 9979, 9993]\n"
     ]
    }
   ],
   "source": [
    "outlier(df['Profit'])"
   ]
  },
  {
   "cell_type": "markdown",
   "metadata": {},
   "source": [
    "### No 2\n",
    "\n",
    "* Lakukan Pengambilan Sample pada seluruh data (gunakan slovin formula untuk mendapatkan jumlah sample yang sesuai)\n",
    "* Lakukan sampling yang mengacu pada kolom 'Segment', dimana setiap segment dilakukan sampling data sebanyak 100 raw data"
   ]
  },
  {
   "cell_type": "markdown",
   "metadata": {},
   "source": [
    "### No 3\n",
    "\n",
    "Lakukan hypothesis testing untuk menguji apakah Sales pada category Technology lebih besar dari Sales pada category Furniture\n",
    "\n",
    "Beberapa link yang bisa jadi referensi :\n",
    "- __[Statistik Parametrik dan Non Parametrik](https://www.mobilestatistik.com/parametrik-non-parametrik/)__ - Pahami model atau jenis sample nya\n",
    "- __[Hypothesis Testing untuk data non-parametric](https://towardsdatascience.com/non-parametric-tests-in-hypothesis-testing-138d585c3548)__ - Cara melakukan uji hipotesa pada data non-parametric"
   ]
  },
  {
   "cell_type": "markdown",
   "metadata": {},
   "source": [
    "**Apakah parametrik atau non-parametrik? Apakah kedua sampel terdistribusi normal? Apakah bentuk distribusinya tidak normal/skewed?**"
   ]
  },
  {
   "cell_type": "markdown",
   "metadata": {},
   "source": [
    "#### Statement Hipotesa"
   ]
  },
  {
   "cell_type": "markdown",
   "metadata": {},
   "source": [
    "H0 : Sales pada kategori teknologi sama dengan sales pada kategori furnitur\n",
    "\n",
    "H1 : Sales pada kategori teknologi lebih dari sales pada kategori furnitur\n",
    "\n",
    "Confidence Level : 0.01"
   ]
  },
  {
   "cell_type": "code",
   "execution_count": 82,
   "metadata": {},
   "outputs": [
    {
     "data": {
      "image/png": "[encoded data removed]",
      "text/plain": [
       "<Figure size 432x288 with 1 Axes>"
      ]
     },
     "metadata": {
      "needs_background": "light"
     },
     "output_type": "display_data"
    }
   ],
   "source": [
    "sns.boxplot(data=df, x='Sales')\n",
    "plt.show()"
   ]
  },
  {
   "cell_type": "code",
   "execution_count": 70,
   "metadata": {},
   "outputs": [],
   "source": [
    "tech_sales = df[df['Category'] == 'Technology']['Sales']\n",
    "furniture_sales = df[df['Category'] == 'Furniture']['Sales']"
   ]
  },
  {
   "cell_type": "code",
   "execution_count": 99,
   "metadata": {},
   "outputs": [
    {
     "name": "stdout",
     "output_type": "stream",
     "text": [
      "1108.6558482022645\n",
      "503.1791448146309\n"
     ]
    }
   ],
   "source": [
    "print(tech_sales.std())\n",
    "print(furniture_sales.std())"
   ]
  },
  {
   "cell_type": "markdown",
   "metadata": {},
   "source": [
    "#### Mencari P-Value"
   ]
  },
  {
   "cell_type": "code",
   "execution_count": 94,
   "metadata": {},
   "outputs": [],
   "source": [
    "from scipy.stats import ttest_ind"
   ]
  },
  {
   "cell_type": "code",
   "execution_count": 109,
   "metadata": {},
   "outputs": [
    {
     "name": "stdout",
     "output_type": "stream",
     "text": [
      "Cukup bukti untuk menentang H0\n"
     ]
    }
   ],
   "source": [
    "ttest_sales = ttest_ind(tech_sales, furniture_sales, equal_var=False)\n",
    "p = ttest_sales.pvalue\n",
    "\n",
    "a = 0.01\n",
    "if p >= a:\n",
    "    print('Tidak cukup bukti untuk menentang H0')\n",
    "else:\n",
    "    print('Cukup bukti untuk menentang H0')"
   ]
  },
  {
   "cell_type": "markdown",
   "metadata": {},
   "source": [
    "#### Menarik Kesimpulan"
   ]
  },
  {
   "cell_type": "markdown",
   "metadata": {},
   "source": [
    "Sales kategori teknologi lebih besar dari sales kategori furnitur"
   ]
  }
 ],
 "metadata": {
  "interpreter": {
   "hash": "4dc109b0f99fa71f458400e5eb5b5a24cbf2fd830644d7af8539328bf1595e40"
  },
  "kernelspec": {
   "display_name": "Python 3.8.2 64-bit",
   "name": "python3"
  },
  "language_info": {
   "codemirror_mode": {
    "name": "ipython",
    "version": 3
   },
   "file_extension": ".py",
   "mimetype": "text/x-python",
   "name": "python",
   "nbconvert_exporter": "python",
   "pygments_lexer": "ipython3",
   "version": "3.8.2"
  }
 },
 "nbformat": 4,
 "nbformat_minor": 4
}
